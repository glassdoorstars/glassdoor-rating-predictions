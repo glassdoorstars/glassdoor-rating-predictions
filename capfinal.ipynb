{
 "cells": [
  {
   "cell_type": "code",
   "execution_count": 1,
   "id": "0ca6d7c2-4f61-4c24-8d52-c3997e24cc88",
   "metadata": {
    "tags": []
   },
   "outputs": [],
   "source": [
    "import wrangle as w\n",
    "import nltk\n",
    "from collections import Counter\n",
    "from sklearn.feature_extraction.text import CountVectorizer\n",
    "import pandas as pd\n",
    "from scipy.stats import ttest_ind\n",
    "import warnings\n",
    "warnings.filterwarnings('ignore')\n",
    "from sklearn.metrics import confusion_matrix\n",
    "from sklearn.linear_model import LogisticRegression\n",
    "from sklearn.ensemble import RandomForestClassifier\n",
    "from sklearn.tree import DecisionTreeClassifier, plot_tree\n",
    "from sklearn.neighbors import KNeighborsClassifier\n",
    "from sklearn.metrics import accuracy_score\n",
    "import pandas as pd\n",
    "from nltk.util import ngrams\n",
    "from nltk.tokenize import word_tokenize\n",
    "from nltk.stem import WordNetLemmatizer\n",
    "from nltk.util import ngrams\n",
    "from sklearn.feature_extraction.text import TfidfVectorizer\n",
    "from sklearn.model_selection import train_test_split\n",
    "from sklearn.linear_model import LogisticRegression  # You can choose a different model\n",
    "from sklearn.metrics import accuracy_score, classification_report\n",
    "from sklearn.model_selection import GridSearchCV\n",
    "from sklearn.naive_bayes import GaussianNB\n",
    "import xgboost as xgb\n",
    "import xgboost\n",
    "import numpy as np\n",
    "import seaborn as sns\n",
    "import pandas as pd\n",
    "import matplotlib.pyplot as plt\n",
    "import nltk.sentiment\n",
    "from scipy import stats"
   ]
  },
  {
   "cell_type": "markdown",
   "id": "c707db20-dd20-462c-9e9e-8f8c34300745",
   "metadata": {},
   "source": [
    "# Capstone Project\n"
   ]
  },
  {
   "cell_type": "markdown",
   "id": "ec28c799-3c3e-4e07-868b-ea428b0d94a2",
   "metadata": {},
   "source": [
    "****In this project, we aim to collect Glassdoor ratings and pros and cons for various companies and develop classification and regression models to predict Glassdoor star scores. The primary goal is to identify quality improvements in workplaces and enhance the representation of companies in the public eye.****"
   ]
  },
  {
   "cell_type": "markdown",
   "id": "a5cbe55a-5a05-4677-b57c-360885e49d15",
   "metadata": {},
   "source": [
    "## Project Goals\n",
    "1. **Create a Robust and Diverse Dataset:**\n",
    "   Collect a dataset comprising a minimum of 100 of the most forked repositories from GitHub, covering a wide range of domains and project types. This dataset will serve as the foundation for the language analysis and should include repositories of varying sizes and purposes to ensure a representative sample.\n",
    "\n",
    "2. **Accurate Language Detection and Comparison:**\n",
    "   Develop a language detection mechanism using NLP techniques to accurately identify and extract JavaScript and Python code snippets from the scraped README content. Calculate the frequency of these code snippets within the dataset and generate a comparative analysis of the prevalence of JavaScript and Python across the repositories.\n",
    "\n",
    "3. **Provide Insights and Visualizations:**\n",
    "   Produce meaningful insights and visualizations that effectively communicate the language usage trends between JavaScript and Python. Create a variety of visual representations, such as bar charts, heatmaps, and language distribution plots, to offer a clear and comprehensive view of how these two languages are utilized within the top 100 GitHub repositories.\n"
   ]
  },
  {
   "cell_type": "markdown",
   "id": "f7312054-1bc9-4786-a896-c339f63c2c7f",
   "metadata": {},
   "source": [
    "## Wrangle\n",
    "- This dataset was scraped from glassdoor.com\n",
    "- Contains 989 rows, each representing a unique company\n",
    "- No nulls were found in the dataset\n",
    "- No duplicates were found in the dataset\n",
    "- No outlier handling was performed on the data\n",
    "- Split 60/20/20 into train, validate and test (Random_state=95)"
   ]
  },
  {
   "cell_type": "markdown",
   "id": "9d490f0a-fdca-4b11-b9eb-ae7e5564cb5e",
   "metadata": {},
   "source": [
    "## Data Dictionary\n",
    "\n",
    "| Column         | Description                                 |\n",
    "|-----------------|---------------------------------------------|\n",
    "| url            | where to locate the webpage on internet                     |\n",
    "| pros       | the pros to the reviews for the company     |\n",
    "| cons | the cons to the reviews for the company                |\n",
    "| name     | name of the company    |\n",
    "| rating            | the overall glassdoor star rating        |\n"
   ]
  },
  {
   "cell_type": "markdown",
   "id": "ee35e692-4e54-4f9a-94ec-27f365700406",
   "metadata": {},
   "source": [
    "# The Data"
   ]
  },
  {
   "cell_type": "code",
   "execution_count": 2,
   "id": "bd970375-cc6b-4f25-8f36-79f255841171",
   "metadata": {
    "tags": []
   },
   "outputs": [],
   "source": [
    "original, uni_count_vect, bi_count_vect, tri_count_vect  = w.wrangle_glassdoor()"
   ]
  },
  {
   "cell_type": "code",
   "execution_count": 3,
   "id": "edd042e2-de66-44f9-ac91-ac8b7bda2331",
   "metadata": {
    "tags": []
   },
   "outputs": [],
   "source": [
    "train, val, test = original"
   ]
  },
  {
   "cell_type": "code",
   "execution_count": 4,
   "id": "c0aa3667-7461-4374-8749-9abefc6577e6",
   "metadata": {
    "tags": []
   },
   "outputs": [
    {
     "data": {
      "text/html": [
       "<div>\n",
       "<style scoped>\n",
       "    .dataframe tbody tr th:only-of-type {\n",
       "        vertical-align: middle;\n",
       "    }\n",
       "\n",
       "    .dataframe tbody tr th {\n",
       "        vertical-align: top;\n",
       "    }\n",
       "\n",
       "    .dataframe thead th {\n",
       "        text-align: right;\n",
       "    }\n",
       "</style>\n",
       "<table border=\"1\" class=\"dataframe\">\n",
       "  <thead>\n",
       "    <tr style=\"text-align: right;\">\n",
       "      <th></th>\n",
       "      <th>pros</th>\n",
       "      <th>cons</th>\n",
       "      <th>name</th>\n",
       "      <th>rating</th>\n",
       "      <th>ceo_approval</th>\n",
       "      <th>recommended</th>\n",
       "      <th>pros_cleaned</th>\n",
       "      <th>pros_lemmatized</th>\n",
       "      <th>cons_cleaned</th>\n",
       "      <th>cons_lemmatized</th>\n",
       "      <th>binned_rating</th>\n",
       "      <th>binned_rating_int</th>\n",
       "    </tr>\n",
       "    <tr>\n",
       "      <th>url</th>\n",
       "      <th></th>\n",
       "      <th></th>\n",
       "      <th></th>\n",
       "      <th></th>\n",
       "      <th></th>\n",
       "      <th></th>\n",
       "      <th></th>\n",
       "      <th></th>\n",
       "      <th></th>\n",
       "      <th></th>\n",
       "      <th></th>\n",
       "      <th></th>\n",
       "    </tr>\n",
       "  </thead>\n",
       "  <tbody>\n",
       "    <tr>\n",
       "      <th>https://www.glassdoor.com/Reviews/Alight-Solutions-Reviews-E1729719.htm</th>\n",
       "      <td>Company values you as an employee\\nAlight is b...</td>\n",
       "      <td>High call volume sometimes during busy season\\...</td>\n",
       "      <td>Alight Solutions</td>\n",
       "      <td>3.5</td>\n",
       "      <td>71.0</td>\n",
       "      <td>64.0</td>\n",
       "      <td>company values you as an employee\\nalight is b...</td>\n",
       "      <td>company value employee alight far great compan...</td>\n",
       "      <td>high call volume sometimes during busy season\\...</td>\n",
       "      <td>high call volume sometimes busy season larger ...</td>\n",
       "      <td>Three</td>\n",
       "      <td>3</td>\n",
       "    </tr>\n",
       "    <tr>\n",
       "      <th>https://www.glassdoor.com/Reviews/eBay-Reviews-E7853.htm</th>\n",
       "      <td>I never expected working at a large company to...</td>\n",
       "      <td>I haven't found any cons yet!\\nAlthough the in...</td>\n",
       "      <td>eBay</td>\n",
       "      <td>4.1</td>\n",
       "      <td>84.0</td>\n",
       "      <td>80.0</td>\n",
       "      <td>i never expected working at a large company to...</td>\n",
       "      <td>never expected working large company like ever...</td>\n",
       "      <td>i haven ' t found any cons yet\\nalthough the i...</td>\n",
       "      <td>' found con yet although initiative really foc...</td>\n",
       "      <td>Four</td>\n",
       "      <td>4</td>\n",
       "    </tr>\n",
       "    <tr>\n",
       "      <th>https://www.glassdoor.com/Reviews/Trane-Technologies-Reviews-E349.htm</th>\n",
       "      <td>- Company is socially-minded and progressive, ...</td>\n",
       "      <td>- A few people are the over-promise, under-del...</td>\n",
       "      <td>Trane Technologies</td>\n",
       "      <td>3.9</td>\n",
       "      <td>81.0</td>\n",
       "      <td>75.0</td>\n",
       "      <td>company is sociallyminded and progressive whic...</td>\n",
       "      <td>company sociallyminded progressive make feel g...</td>\n",
       "      <td>a few people are the overpromise underdeliver ...</td>\n",
       "      <td>people overpromise underdeliver type thats unc...</td>\n",
       "      <td>Three</td>\n",
       "      <td>3</td>\n",
       "    </tr>\n",
       "  </tbody>\n",
       "</table>\n",
       "</div>"
      ],
      "text/plain": [
       "                                                                                                 pros  \\\n",
       "url                                                                                                     \n",
       "https://www.glassdoor.com/Reviews/Alight-Soluti...  Company values you as an employee\\nAlight is b...   \n",
       "https://www.glassdoor.com/Reviews/eBay-Reviews-...  I never expected working at a large company to...   \n",
       "https://www.glassdoor.com/Reviews/Trane-Technol...  - Company is socially-minded and progressive, ...   \n",
       "\n",
       "                                                                                                 cons  \\\n",
       "url                                                                                                     \n",
       "https://www.glassdoor.com/Reviews/Alight-Soluti...  High call volume sometimes during busy season\\...   \n",
       "https://www.glassdoor.com/Reviews/eBay-Reviews-...  I haven't found any cons yet!\\nAlthough the in...   \n",
       "https://www.glassdoor.com/Reviews/Trane-Technol...  - A few people are the over-promise, under-del...   \n",
       "\n",
       "                                                                  name  \\\n",
       "url                                                                      \n",
       "https://www.glassdoor.com/Reviews/Alight-Soluti...    Alight Solutions   \n",
       "https://www.glassdoor.com/Reviews/eBay-Reviews-...                eBay   \n",
       "https://www.glassdoor.com/Reviews/Trane-Technol...  Trane Technologies   \n",
       "\n",
       "                                                    rating  ceo_approval  \\\n",
       "url                                                                        \n",
       "https://www.glassdoor.com/Reviews/Alight-Soluti...     3.5          71.0   \n",
       "https://www.glassdoor.com/Reviews/eBay-Reviews-...     4.1          84.0   \n",
       "https://www.glassdoor.com/Reviews/Trane-Technol...     3.9          81.0   \n",
       "\n",
       "                                                    recommended  \\\n",
       "url                                                               \n",
       "https://www.glassdoor.com/Reviews/Alight-Soluti...         64.0   \n",
       "https://www.glassdoor.com/Reviews/eBay-Reviews-...         80.0   \n",
       "https://www.glassdoor.com/Reviews/Trane-Technol...         75.0   \n",
       "\n",
       "                                                                                         pros_cleaned  \\\n",
       "url                                                                                                     \n",
       "https://www.glassdoor.com/Reviews/Alight-Soluti...  company values you as an employee\\nalight is b...   \n",
       "https://www.glassdoor.com/Reviews/eBay-Reviews-...  i never expected working at a large company to...   \n",
       "https://www.glassdoor.com/Reviews/Trane-Technol...  company is sociallyminded and progressive whic...   \n",
       "\n",
       "                                                                                      pros_lemmatized  \\\n",
       "url                                                                                                     \n",
       "https://www.glassdoor.com/Reviews/Alight-Soluti...  company value employee alight far great compan...   \n",
       "https://www.glassdoor.com/Reviews/eBay-Reviews-...  never expected working large company like ever...   \n",
       "https://www.glassdoor.com/Reviews/Trane-Technol...  company sociallyminded progressive make feel g...   \n",
       "\n",
       "                                                                                         cons_cleaned  \\\n",
       "url                                                                                                     \n",
       "https://www.glassdoor.com/Reviews/Alight-Soluti...  high call volume sometimes during busy season\\...   \n",
       "https://www.glassdoor.com/Reviews/eBay-Reviews-...  i haven ' t found any cons yet\\nalthough the i...   \n",
       "https://www.glassdoor.com/Reviews/Trane-Technol...  a few people are the overpromise underdeliver ...   \n",
       "\n",
       "                                                                                      cons_lemmatized  \\\n",
       "url                                                                                                     \n",
       "https://www.glassdoor.com/Reviews/Alight-Soluti...  high call volume sometimes busy season larger ...   \n",
       "https://www.glassdoor.com/Reviews/eBay-Reviews-...  ' found con yet although initiative really foc...   \n",
       "https://www.glassdoor.com/Reviews/Trane-Technol...  people overpromise underdeliver type thats unc...   \n",
       "\n",
       "                                                   binned_rating  \\\n",
       "url                                                                \n",
       "https://www.glassdoor.com/Reviews/Alight-Soluti...         Three   \n",
       "https://www.glassdoor.com/Reviews/eBay-Reviews-...          Four   \n",
       "https://www.glassdoor.com/Reviews/Trane-Technol...         Three   \n",
       "\n",
       "                                                   binned_rating_int  \n",
       "url                                                                   \n",
       "https://www.glassdoor.com/Reviews/Alight-Soluti...                 3  \n",
       "https://www.glassdoor.com/Reviews/eBay-Reviews-...                 4  \n",
       "https://www.glassdoor.com/Reviews/Trane-Technol...                 3  "
      ]
     },
     "execution_count": 4,
     "metadata": {},
     "output_type": "execute_result"
    }
   ],
   "source": [
    "train.head(3)"
   ]
  },
  {
   "cell_type": "markdown",
   "id": "8444b5e9-83e3-47aa-96ce-d04be93fc4d8",
   "metadata": {},
   "source": [
    "# Explore"
   ]
  },
  {
   "cell_type": "code",
   "execution_count": 5,
   "id": "aab97316-f919-4dbd-b504-016b02dd7afa",
   "metadata": {
    "tags": []
   },
   "outputs": [],
   "source": [
    "def generate_bigrams(lemmatized):\n",
    "    words = lemmatized.split()\n",
    "    bigrams = []\n",
    "\n",
    "    if len(words) < 2:\n",
    "        return bigrams\n",
    "\n",
    "    for i in range(len(words) - 1):\n",
    "        if len(words[i]) > 1 and len(words[i+1]) > 1:\n",
    "            bigram = \" \".join(words[i:i+2])\n",
    "            bigrams.append(bigram)\n",
    "\n",
    "    return bigrams"
   ]
  },
  {
   "cell_type": "markdown",
   "id": "2dd95ea6-5ef5-46d5-a50e-9959663078d1",
   "metadata": {},
   "source": [
    "### Pros Distribution by Bin Rating"
   ]
  },
  {
   "cell_type": "code",
   "execution_count": 6,
   "id": "af33e51d-247b-462b-9345-572b039e4086",
   "metadata": {
    "tags": []
   },
   "outputs": [
    {
     "data": {
      "image/png": "[encoded data removed]",
      "text/plain": [
       "<Figure size 800x300 with 1 Axes>"
      ]
     },
     "metadata": {},
     "output_type": "display_data"
    },
    {
     "data": {
      "image/png": "[encoded data removed]",
      "text/plain": [
       "<Figure size 800x300 with 1 Axes>"
      ]
     },
     "metadata": {},
     "output_type": "display_data"
    }
   ],
   "source": [
    "# Define bin edges\n",
    "bin_edges = [2.9, 3.9, 4.9]\n",
    "\n",
    "# Define bin labels\n",
    "bin_labels = ['Three', 'Four']\n",
    "\n",
    "for i in bin_labels:\n",
    "    plt.figure(figsize=(8,3))\n",
    "    bin_data = train.pros_lemmatized[train.binned_rating == i]\n",
    "    bigram = generate_bigrams(\" \".join(bin_data.values))\n",
    "    bigram_df = pd.DataFrame({'star_bigrams': bigram})\n",
    "    \n",
    "    \n",
    "    # Calculate word counts\n",
    "    pd.Series(bigram_df.value_counts().head(20).plot(kind=\"bar\"))\n",
    "    plt.title(f\"Pros bigram distribution in binned {i.lower()} star rating\")\n",
    "    plt.xlabel(\"word\")\n",
    "    plt.ylabel(\"frequency\")\n",
    "    plt.show()"
   ]
  },
  {
   "cell_type": "markdown",
   "id": "f457758a-b7ce-4569-b8d0-50c2794b4cb6",
   "metadata": {},
   "source": [
    "- Top 3 word pairs from pros were work life, life balance, and great benefit"
   ]
  },
  {
   "cell_type": "markdown",
   "id": "c5b6db7a-495f-4a6d-a038-5f5349911f2f",
   "metadata": {},
   "source": [
    "### Cons Distribution by Bin Rating"
   ]
  },
  {
   "cell_type": "code",
   "execution_count": null,
   "id": "10ed7526-59b2-4939-8c4e-55cb057f6dd9",
   "metadata": {
    "tags": []
   },
   "outputs": [],
   "source": [
    "for i in bin_labels:\n",
    "    plt.figure(figsize=(8,3))\n",
    "    bin_data = train.cons_lemmatized[train.binned_rating == i]\n",
    "    bigram = generate_bigrams(\" \".join(bin_data.values))\n",
    "    bigram_df = pd.DataFrame({'star_bigrams': bigram})\n",
    "    \n",
    "    \n",
    "    # Calculate word counts\n",
    "    pd.Series(bigram_df.value_counts().head(20).plot(kind=\"bar\"))\n",
    "    plt.title(f\"Cons bigram distribution in binned {i.lower()} star rating\")\n",
    "    plt.xlabel(\"word\")\n",
    "    plt.ylabel(\"frequency\")\n",
    "    plt.show()"
   ]
  },
  {
   "cell_type": "markdown",
   "id": "f26de759-8150-423c-92b8-e216dbe68d75",
   "metadata": {},
   "source": [
    "- Top 3 word pairs from cons was long hour, work life, and life balance"
   ]
  },
  {
   "cell_type": "markdown",
   "id": "5fc439df-a5d9-4590-a0a6-8ebbaae4474f",
   "metadata": {},
   "source": [
    "**Which words are generally more postive or negative?**"
   ]
  },
  {
   "cell_type": "code",
   "execution_count": 7,
   "id": "d76406aa-360f-42e0-a996-87ea05b2b93d",
   "metadata": {
    "tags": []
   },
   "outputs": [],
   "source": [
    "pros_bi_freq = pd.Series(generate_bigrams(\" \".join(train.pros_lemmatized.values))).value_counts()\n",
    "cons_bi_freq = pd.Series(generate_bigrams(\" \".join(train.cons_lemmatized.values))).value_counts()\n",
    "pros_cons_str = \" \".join(train.cons_lemmatized.values) + \" \".join(train.pros_lemmatized.values)\n",
    "all_bi_freq = pd.Series(generate_bigrams(pros_cons_str)).value_counts()\n"
   ]
  },
  {
   "cell_type": "code",
   "execution_count": 8,
   "id": "a959ef9e-2d0a-4f3d-92b9-dc0358029b75",
   "metadata": {
    "tags": []
   },
   "outputs": [
    {
     "data": {
      "text/html": [
       "<div>\n",
       "<style scoped>\n",
       "    .dataframe tbody tr th:only-of-type {\n",
       "        vertical-align: middle;\n",
       "    }\n",
       "\n",
       "    .dataframe tbody tr th {\n",
       "        vertical-align: top;\n",
       "    }\n",
       "\n",
       "    .dataframe thead th {\n",
       "        text-align: right;\n",
       "    }\n",
       "</style>\n",
       "<table border=\"1\" class=\"dataframe\">\n",
       "  <thead>\n",
       "    <tr style=\"text-align: right;\">\n",
       "      <th></th>\n",
       "      <th>pros_bi_freq</th>\n",
       "      <th>cons_bi_freq</th>\n",
       "      <th>all_bi_freq</th>\n",
       "    </tr>\n",
       "  </thead>\n",
       "  <tbody>\n",
       "    <tr>\n",
       "      <th>work life</th>\n",
       "      <td>2601</td>\n",
       "      <td>1314</td>\n",
       "      <td>3915</td>\n",
       "    </tr>\n",
       "    <tr>\n",
       "      <th>life balance</th>\n",
       "      <td>2546</td>\n",
       "      <td>1297</td>\n",
       "      <td>3843</td>\n",
       "    </tr>\n",
       "    <tr>\n",
       "      <th>great benefit</th>\n",
       "      <td>2408</td>\n",
       "      <td>41</td>\n",
       "      <td>2449</td>\n",
       "    </tr>\n",
       "    <tr>\n",
       "      <th>good benefit</th>\n",
       "      <td>2351</td>\n",
       "      <td>32</td>\n",
       "      <td>2383</td>\n",
       "    </tr>\n",
       "    <tr>\n",
       "      <th>work environment</th>\n",
       "      <td>1800</td>\n",
       "      <td>656</td>\n",
       "      <td>2456</td>\n",
       "    </tr>\n",
       "  </tbody>\n",
       "</table>\n",
       "</div>"
      ],
      "text/plain": [
       "                  pros_bi_freq  cons_bi_freq  all_bi_freq\n",
       "work life                 2601          1314         3915\n",
       "life balance              2546          1297         3843\n",
       "great benefit             2408            41         2449\n",
       "good benefit              2351            32         2383\n",
       "work environment          1800           656         2456"
      ]
     },
     "execution_count": 8,
     "metadata": {},
     "output_type": "execute_result"
    }
   ],
   "source": [
    "bi_word_freq= pd.concat([pros_bi_freq, cons_bi_freq, all_bi_freq], axis=1).fillna(0).astype(int)\n",
    "bi_word_freq.columns = ['pros_bi_freq', 'cons_bi_freq', 'all_bi_freq']\n",
    "\n",
    "bi_word_freq.head(5)"
   ]
  },
  {
   "cell_type": "code",
   "execution_count": 9,
   "id": "15672798-cf2d-49a8-8a02-f9a6ffc90470",
   "metadata": {
    "tags": []
   },
   "outputs": [
    {
     "data": {
      "image/png": "[encoded data removed]",
      "text/plain": [
       "<Figure size 1200x400 with 1 Axes>"
      ]
     },
     "metadata": {},
     "output_type": "display_data"
    }
   ],
   "source": [
    "# plot most common words\n",
    "bi_word_freq.sort_values('all_bi_freq', ascending=False)[['pros_bi_freq', 'cons_bi_freq']].head(20).plot(kind=\"bar\", figsize=(12,4))\n",
    "plt.title(\"Pros vs cons count for 20 most common bigrams\")\n",
    "plt.xlabel(\"words\")\n",
    "plt.ylabel(\"count\")\n",
    "plt.show()"
   ]
  },
  {
   "cell_type": "markdown",
   "id": "2d97abeb-983f-40f7-8842-5a7fa9a78fd8",
   "metadata": {},
   "source": [
    "- Most common bigrams between pros and cons were 'work life', 'life balance' and 'work environment'."
   ]
  },
  {
   "cell_type": "markdown",
   "id": "21598fa2-7dbd-44c3-8b55-9c132f21200d",
   "metadata": {},
   "source": [
    "### Observation:\n",
    "- The word pair 'work life\" is extremely impactful for pros and cons."
   ]
  },
  {
   "cell_type": "markdown",
   "id": "335804fe-00dd-4e8b-a01a-e3bd3cf5853c",
   "metadata": {},
   "source": [
    "## Stats analysis"
   ]
  },
  {
   "cell_type": "markdown",
   "id": "1d2ce8c0-1414-42a8-a647-a4218136d6e6",
   "metadata": {},
   "source": [
    "### 1. Do employee reviews (pros and cons) significantly differ in terms of sentiment between 3-star and 4-star rated companies?\n",
    "\n",
    "- **Null Hypothesis (H0):** Employee reviews' sentiment does not significantly differ between 3-star and 4-star rated companies.\n",
    "- **Alternate Hypothesis (H1):** Employee reviews' sentiment significantly differs between 3-star and 4-star rated companies.\n",
    "   \n",
    "   - Test: Two-sample t-test"
   ]
  },
  {
   "cell_type": "code",
   "execution_count": 10,
   "id": "1f4f4a06-677a-4230-b263-2da6dbbab387",
   "metadata": {
    "tags": []
   },
   "outputs": [],
   "source": [
    "sia = nltk.sentiment.SentimentIntensityAnalyzer()\n",
    "train['pros_lem_sentiment'] = train.pros_lemmatized.apply(lambda doc: sia.polarity_scores(doc)['compound'])\n",
    "train['cons_lem_sentiment'] = train.cons_cleaned.apply(lambda doc: sia.polarity_scores(doc)['compound'])"
   ]
  },
  {
   "cell_type": "code",
   "execution_count": 11,
   "id": "c24bcb0f-8b63-4332-bfec-c2bda6ab9491",
   "metadata": {
    "tags": []
   },
   "outputs": [
    {
     "data": {
      "text/plain": [
       "array([1.    , 1.    , 1.    , 1.    , 1.    , 1.    , 1.    , 0.9999,\n",
       "       1.    ])"
      ]
     },
     "execution_count": 11,
     "metadata": {},
     "output_type": "execute_result"
    }
   ],
   "source": [
    "three_star_pros = train.pros_lem_sentiment[train.binned_rating == \"Three\"].values\n",
    "three_star_cons = train.cons_lem_sentiment[train.binned_rating == \"Three\"].values\n",
    "\n",
    "four_star_pros = train.pros_lem_sentiment[train.binned_rating == \"Four\"].values\n",
    "four_star_cons = train.pros_lem_sentiment[train.binned_rating == \"Four\"].values\n",
    "four_star_cons[:9]"
   ]
  },
  {
   "cell_type": "code",
   "execution_count": 12,
   "id": "edde6207-6212-4c11-b3f1-70c0c275eeed",
   "metadata": {
    "tags": []
   },
   "outputs": [
    {
     "data": {
      "text/plain": [
       "array([0.99997806, 0.99998556, 0.99999327, ..., 0.99998473, 0.99998956,\n",
       "       1.00005661])"
      ]
     },
     "execution_count": 12,
     "metadata": {},
     "output_type": "execute_result"
    }
   ],
   "source": [
    "three_star_pros_dist = stats.norm(three_star_pros.mean(), three_star_pros.std()).rvs(10_000)\n",
    "three_star_cons_dist = stats.norm(three_star_cons.mean(), three_star_cons.std()).rvs(10_000)\n",
    "\n",
    "four_star_pros_dist = stats.norm(four_star_pros.mean(), four_star_pros.std()).rvs(10_000)\n",
    "four_star_cons_dist = stats.norm(four_star_cons.mean(), four_star_cons.std()).rvs(10_000)\n",
    "four_star_cons_dist"
   ]
  },
  {
   "cell_type": "code",
   "execution_count": 13,
   "id": "e4590dd1-8e75-4335-a6b8-ee46ca7c529d",
   "metadata": {
    "tags": []
   },
   "outputs": [
    {
     "data": {
      "image/png": "[encoded data removed]",
      "text/plain": [
       "<Figure size 1000x600 with 4 Axes>"
      ]
     },
     "metadata": {},
     "output_type": "display_data"
    }
   ],
   "source": [
    "# Create a figure with one row and two columns of subplots\n",
    "fig, axs = plt.subplots(nrows=2, ncols=2, figsize=(10, 6))\n",
    "\n",
    "# Plot the first scatterplot on the first subplot and set title and labels\n",
    "sns.histplot(three_star_pros_dist, ax=axs[0,0])\n",
    "axs[0,0].set_title(\"Three star pros\")\n",
    "# axs[0,0].set_ylabel(\"Distribution\")\n",
    "# axs[0,0].set_xlabel(\"Sentiment\")\n",
    "\n",
    "# Plot the second scatterplot on the second subplot and set title and labels\n",
    "sns.histplot(three_star_cons_dist, ax=axs[0,1])\n",
    "axs[0,1].set_title(\"Three star cons)\")\n",
    "# axs[0,1].set_ylabel(\"Distribution\")\n",
    "# axs[0,1].set_xlabel(\"Sentiment\")\n",
    "\n",
    "# Plot the first scatterplot on the first subplot and set title and labels\n",
    "sns.histplot(four_star_pros_dist, ax=axs[1,0])\n",
    "axs[1,0].set_title(\"Four star pros\")\n",
    "# axs[1,0].set_ylabel(\"Distribution\")\n",
    "# axs[1,0].set_xlabel(\"Sentiment\")\n",
    "\n",
    "# Plot the second scatterplot on the second subplot and set title and labels\n",
    "sns.histplot(four_star_cons_dist, ax=axs[1,1])\n",
    "axs[1,1].set_title(\"Four star cons)\")\n",
    "# axs[1,1].set_ylabel(\"Distribution\")\n",
    "# axs[1,1].set_xlabel(\"Sentiment\")\n",
    "\n",
    "# Add a main title for the entire figure\n",
    "plt.suptitle(\"Sentiment distribution between 3-star and 4-star rated companies\", y=1.02)\n",
    "\n",
    "# Show the plots\n",
    "plt.tight_layout()\n",
    "plt.show()"
   ]
  },
  {
   "cell_type": "markdown",
   "id": "336d69c0-4e5a-4077-90c9-d2aa0fd92377",
   "metadata": {},
   "source": [
    "**Three and four star pros**"
   ]
  },
  {
   "cell_type": "code",
   "execution_count": 22,
   "id": "1e6d5209-dfd3-434d-a22e-16d50f9e58cd",
   "metadata": {
    "tags": []
   },
   "outputs": [],
   "source": [
    "def hypothesis_check(p_value, alpha = 0.05):\n",
    "    if p_value < alpha:\n",
    "        print(\"Reject null\")\n",
    "    else:\n",
    "        print(\"Fail to reject null hypothesis. No statistical significance.\")"
   ]
  },
  {
   "cell_type": "code",
   "execution_count": 23,
   "id": "ef3f2d80-4d80-48f4-8694-c7efa915befa",
   "metadata": {
    "tags": []
   },
   "outputs": [],
   "source": [
    "def hypothesis_check_double_side_ttest(p_value, t_stats, alpha= 0.05):\n",
    "    if (t_stats > 0) and (p_value//2 < alpha):\n",
    "        print(\"Reject the null\")\n",
    "    else:\n",
    "        print(\"Fail to reject null hypothesis. No statistical significance.\")"
   ]
  },
  {
   "cell_type": "code",
   "execution_count": 26,
   "id": "5be7dfe4-500d-4326-9b1a-d28be4a240f1",
   "metadata": {
    "tags": []
   },
   "outputs": [
    {
     "name": "stdout",
     "output_type": "stream",
     "text": [
      "Fail to reject null hypothesis. No statistical significance.\n"
     ]
    }
   ],
   "source": [
    "statistic, p_value = stats.ttest_ind(three_star_pros.mean(),four_star_pros.mean())\n",
    "hypothesis_check_double_side_ttest(p_value, statistic)"
   ]
  },
  {
   "cell_type": "markdown",
   "id": "c65f30c7-98e0-402d-8ac7-e809b8d4a658",
   "metadata": {},
   "source": [
    "**Three and four star cons**"
   ]
  },
  {
   "cell_type": "code",
   "execution_count": 28,
   "id": "fdd4b931-b206-462c-ba58-2e24f0c6db73",
   "metadata": {
    "tags": []
   },
   "outputs": [
    {
     "name": "stdout",
     "output_type": "stream",
     "text": [
      "Fail to reject null hypothesis. No statistical significance.\n"
     ]
    }
   ],
   "source": [
    "statistic, p_value = stats.ttest_ind(three_star_cons.mean(),four_star_cons.mean())\n",
    "hypothesis_check_double_side_ttest(p_value, statistic)"
   ]
  },
  {
   "cell_type": "markdown",
   "id": "8c5b7938-c95d-4292-9829-7ba89077b67a",
   "metadata": {},
   "source": [
    "# Modeling"
   ]
  },
  {
   "cell_type": "markdown",
   "id": "ed8ef735-59e7-41bf-82fc-91aa3273e070",
   "metadata": {},
   "source": [
    "## Count Vect Modeling for Pros and Cons UNIGRAMS"
   ]
  },
  {
   "cell_type": "markdown",
   "id": "14179819-fb92-410c-94e0-6b6024da8aa3",
   "metadata": {},
   "source": [
    "### Baseline"
   ]
  },
  {
   "cell_type": "code",
   "execution_count": 29,
   "id": "fc00723d-a4e6-4f5f-9d6d-26a0bb2edc30",
   "metadata": {
    "tags": []
   },
   "outputs": [],
   "source": [
    "train, val, test = bi_count_vect"
   ]
  },
  {
   "cell_type": "code",
   "execution_count": 30,
   "id": "d7eedf2e-17f4-4cf6-b412-e84d68086fb2",
   "metadata": {
    "tags": []
   },
   "outputs": [
    {
     "name": "stdout",
     "output_type": "stream",
     "text": [
      "Most Common Class: 3\n",
      "Baseline Accuracy: 0.70\n"
     ]
    }
   ],
   "source": [
    "most_common = train[\"binned_rating_int\"].value_counts().idxmax()\n",
    "most_common_frequency = train[\"binned_rating_int\"].value_counts().max()\n",
    "\n",
    "baseline_accuracy = most_common_frequency / len(train)\n",
    "\n",
    "print(f\"Most Common Class: {most_common}\")\n",
    "print(f\"Baseline Accuracy: {baseline_accuracy:.2f}\")\n",
    "\n"
   ]
  },
  {
   "cell_type": "markdown",
   "id": "2d70735f-d5e5-42df-bce4-78ee48f35c9f",
   "metadata": {},
   "source": [
    "## Decision Tree"
   ]
  },
  {
   "cell_type": "code",
   "execution_count": 31,
   "id": "47fc008a-db3f-4e64-a6f9-3e63d6b79a7e",
   "metadata": {
    "tags": []
   },
   "outputs": [],
   "source": [
    "X_train = train[['pros_work life', 'pros_life balance', 'pros_work environment', 'pros_good benefit', 'pros_worklife balance', 'cons_work life', 'cons_life balance', 'cons_work environment', 'cons_good benefit', 'cons_worklife balance']]\n",
    "y_train = train[\"binned_rating_int\"]\n",
    "\n",
    "X_val = val[['pros_work life', 'pros_life balance', 'pros_work environment', 'pros_good benefit', 'pros_worklife balance', 'cons_work life', 'cons_life balance', 'cons_work environment', 'cons_good benefit', 'cons_worklife balance']]\n",
    "y_val = val[\"binned_rating_int\"]\n",
    "\n",
    "X_test = test[['pros_work life', 'pros_life balance', 'pros_work environment', 'pros_good benefit', 'pros_worklife balance', 'cons_work life', 'cons_life balance', 'cons_work environment', 'cons_good benefit', 'cons_worklife balance']]\n",
    "y_test = test[\"binned_rating_int\"]\n"
   ]
  },
  {
   "cell_type": "code",
   "execution_count": 32,
   "id": "4d725fa3-b7ff-4e0c-8683-4285d79ce756",
   "metadata": {
    "tags": []
   },
   "outputs": [
    {
     "name": "stdout",
     "output_type": "stream",
     "text": [
      "Decision Tree:\n",
      "Best Hyperparameters: {'max_depth': 10, 'min_samples_split': 5}\n",
      "Validation Accuracy: 0.56\n",
      "Training Accuracy: 0.89\n"
     ]
    }
   ],
   "source": [
    "param_grid_tree = {\n",
    "    'max_depth': [None, 10, 20, 30],  # Maximum depth of the tree\n",
    "    'min_samples_split': [2, 5, 10],  # Minimum number of samples required to split a node\n",
    "}\n",
    "\n",
    "# Create the Decision Tree classifier\n",
    "tree = DecisionTreeClassifier(random_state=42)\n",
    "\n",
    "# Create GridSearchCV with the Decision Tree classifier and hyperparameter grid\n",
    "grid_search_tree = GridSearchCV(tree, param_grid_tree, cv=5, scoring='accuracy')\n",
    "\n",
    "# Fit the model with the training data\n",
    "grid_search_tree.fit(X_train, y_train)\n",
    "\n",
    "# Get the best hyperparameters from the search\n",
    "best_params_tree = grid_search_tree.best_params_\n",
    "\n",
    "# Get the best estimator (model) from the search\n",
    "best_tree = grid_search_tree.best_estimator_\n",
    "\n",
    "# Make predictions on the validation set using the best model\n",
    "y_val_pred_tree = best_tree.predict(X_val)\n",
    "\n",
    "# Calculate accuracy on the validation set\n",
    "val_accuracy_tree = accuracy_score(y_val, y_val_pred_tree)\n",
    "\n",
    "# Make predictions on the training set using the best Decision Tree model\n",
    "y_train_pred_tree = best_tree.predict(X_train)\n",
    "\n",
    "# Calculate accuracy on the training set\n",
    "train_accuracy_tree = accuracy_score(y_train, y_train_pred_tree)\n",
    "\n",
    "print(\"Decision Tree:\")\n",
    "print(f\"Best Hyperparameters: {best_params_tree}\")\n",
    "print(f\"Validation Accuracy: {val_accuracy_tree:.2f}\")\n",
    "print(f\"Training Accuracy: {train_accuracy_tree:.2f}\")\n"
   ]
  },
  {
   "cell_type": "code",
   "execution_count": 33,
   "id": "a535dbcd-bc49-4e27-ae68-1cab2ad2bb03",
   "metadata": {},
   "outputs": [
    {
     "name": "stdout",
     "output_type": "stream",
     "text": [
      "Feature: pros_work life, Importance: 0.1002\n",
      "Feature: pros_life balance, Importance: 0.0742\n",
      "Feature: pros_work environment, Importance: 0.1952\n",
      "Feature: pros_good benefit, Importance: 0.1711\n",
      "Feature: pros_worklife balance, Importance: 0.1870\n",
      "Feature: cons_work life, Importance: 0.0360\n",
      "Feature: cons_life balance, Importance: 0.0532\n",
      "Feature: cons_work environment, Importance: 0.0733\n",
      "Feature: cons_good benefit, Importance: 0.0379\n",
      "Feature: cons_worklife balance, Importance: 0.0717\n"
     ]
    }
   ],
   "source": [
    "feature_importance = best_tree.feature_importances_\n",
    "feature_importance\n",
    "\n",
    "feature_names = X_train.columns\n",
    "\n",
    "# Create a dictionary mapping feature names to their importance scores\n",
    "feature_importance_dict = dict(zip(feature_names, feature_importance))\n",
    "\n",
    "# Print feature importances\n",
    "for feature, importance in feature_importance_dict.items():\n",
    "    print(f\"Feature: {feature}, Importance: {importance:.4f}\")"
   ]
  },
  {
   "cell_type": "markdown",
   "id": "99379633-1afb-40b5-9d14-009c21e9e404",
   "metadata": {},
   "source": [
    "# RandomForrest"
   ]
  },
  {
   "cell_type": "code",
   "execution_count": 34,
   "id": "ea4971bf-9dcf-4d31-bbdf-95a1d30e2146",
   "metadata": {
    "tags": []
   },
   "outputs": [
    {
     "name": "stdout",
     "output_type": "stream",
     "text": [
      "Random Forest:\n",
      "Best Hyperparameters: {'max_depth': 10, 'n_estimators': 200}\n",
      "Validation Accuracy: 0.64\n",
      "Training Accuracy: 0.93\n"
     ]
    }
   ],
   "source": [
    "# Define hyperparameter grid to search for Random Forest\n",
    "param_grid_rf = {\n",
    "    'n_estimators': [50, 100, 200],  # Number of trees\n",
    "    'max_depth': [None, 10, 20, 30],  # Maximum depth of trees\n",
    "}\n",
    "\n",
    "# Create the Random Forest classifier\n",
    "rf = RandomForestClassifier(random_state=42)\n",
    "\n",
    "# Create GridSearchCV with the Random Forest classifier and hyperparameter grid\n",
    "grid_search_rf = GridSearchCV(rf, param_grid_rf, cv=5, scoring='accuracy')\n",
    "\n",
    "# Fit the model with the training data\n",
    "grid_search_rf.fit(X_train, y_train)\n",
    "\n",
    "# Get the best hyperparameters from the search\n",
    "best_params_rf = grid_search_rf.best_params_\n",
    "\n",
    "# Get the best estimator (model) from the search\n",
    "best_rf = grid_search_rf.best_estimator_\n",
    "\n",
    "# Make predictions on the validation set using the best model\n",
    "y_val_pred_rf = best_rf.predict(X_val)\n",
    "\n",
    "# Calculate accuracy on the validation set\n",
    "val_accuracy_rf = accuracy_score(y_val, y_val_pred_rf)\n",
    "\n",
    "# Make predictions on the training set using the best Random Forest model\n",
    "y_train_pred_rf = best_rf.predict(X_train)\n",
    "\n",
    "# Calculate accuracy on the training set\n",
    "train_accuracy_rf = accuracy_score(y_train, y_train_pred_rf)\n",
    "\n",
    "print(\"Random Forest:\")\n",
    "print(f\"Best Hyperparameters: {best_params_rf}\")\n",
    "print(f\"Validation Accuracy: {val_accuracy_rf:.2f}\")\n",
    "print(f\"Training Accuracy: {train_accuracy_rf:.2f}\")\n",
    "\n"
   ]
  },
  {
   "cell_type": "code",
   "execution_count": 35,
   "id": "4269c700-8d6f-4ce9-a347-13cff1e7936b",
   "metadata": {},
   "outputs": [
    {
     "name": "stdout",
     "output_type": "stream",
     "text": [
      "Feature: pros_work life, Importance: 0.1378\n",
      "Feature: pros_life balance, Importance: 0.1298\n",
      "Feature: pros_work environment, Importance: 0.1263\n",
      "Feature: pros_good benefit, Importance: 0.1162\n",
      "Feature: pros_worklife balance, Importance: 0.1649\n",
      "Feature: cons_work life, Importance: 0.0691\n",
      "Feature: cons_life balance, Importance: 0.0676\n",
      "Feature: cons_work environment, Importance: 0.0845\n",
      "Feature: cons_good benefit, Importance: 0.0225\n",
      "Feature: cons_worklife balance, Importance: 0.0812\n"
     ]
    }
   ],
   "source": [
    "feature_importance = best_rf.feature_importances_\n",
    "feature_importance\n",
    "\n",
    "feature_names = X_train.columns\n",
    "\n",
    "# Create a dictionary mapping feature names to their importance scores\n",
    "feature_importance_dict = dict(zip(feature_names, feature_importance))\n",
    "\n",
    "# Print feature importances\n",
    "for feature, importance in feature_importance_dict.items():\n",
    "    print(f\"Feature: {feature}, Importance: {importance:.4f}\")"
   ]
  },
  {
   "cell_type": "markdown",
   "id": "3b5db56b-37b0-4e9a-a0ea-7ebaee254a06",
   "metadata": {},
   "source": [
    "# KNN"
   ]
  },
  {
   "cell_type": "code",
   "execution_count": 36,
   "id": "7519814c-fe85-4293-92a3-16d2b5140eea",
   "metadata": {
    "tags": []
   },
   "outputs": [
    {
     "name": "stdout",
     "output_type": "stream",
     "text": [
      "K-Nearest Neighbors:\n",
      "Best Hyperparameters: {'n_neighbors': 7, 'weights': 'distance'}\n",
      "Validation Accuracy: 0.66\n",
      "Training Accuracy: 1.00\n"
     ]
    }
   ],
   "source": [
    "# Define hyperparameter grid to search for KNN\n",
    "param_grid_knn = {\n",
    "    'n_neighbors': [3, 5, 7, 9],  # Number of neighbors\n",
    "    'weights': ['uniform', 'distance'],  # Weighting scheme\n",
    "}\n",
    "\n",
    "# Create the KNN classifier\n",
    "knn = KNeighborsClassifier()\n",
    "\n",
    "# Create GridSearchCV with the KNN classifier and hyperparameter grid\n",
    "grid_search_knn = GridSearchCV(knn, param_grid_knn, cv=5, scoring='accuracy')\n",
    "\n",
    "# Fit the model with the training data\n",
    "grid_search_knn.fit(X_train, y_train)\n",
    "\n",
    "# Get the best hyperparameters from the search\n",
    "best_params_knn = grid_search_knn.best_params_\n",
    "\n",
    "# Get the best estimator (model) from the search\n",
    "best_knn = grid_search_knn.best_estimator_\n",
    "\n",
    "# Make predictions on the validation set using the best model\n",
    "y_val_pred_knn = best_knn.predict(X_val)\n",
    "\n",
    "# Calculate accuracy on the validation set\n",
    "val_accuracy_knn = accuracy_score(y_val, y_val_pred_knn)\n",
    "\n",
    "# Make predictions on the training set using the best KNN model\n",
    "y_train_pred_knn = best_knn.predict(X_train)\n",
    "\n",
    "# Calculate accuracy on the training set\n",
    "train_accuracy_knn = accuracy_score(y_train, y_train_pred_knn)\n",
    "\n",
    "print(\"K-Nearest Neighbors:\")\n",
    "print(f\"Best Hyperparameters: {best_params_knn}\")\n",
    "print(f\"Validation Accuracy: {val_accuracy_knn:.2f}\")\n",
    "print(f\"Training Accuracy: {train_accuracy_knn:.2f}\")\n"
   ]
  },
  {
   "cell_type": "markdown",
   "id": "de162162-1efc-4c2d-a20f-d97185d380dc",
   "metadata": {},
   "source": [
    "# Logistic Regression"
   ]
  },
  {
   "cell_type": "code",
   "execution_count": 37,
   "id": "058ce689-0008-42c5-85f9-202242c8dab2",
   "metadata": {
    "tags": []
   },
   "outputs": [
    {
     "name": "stdout",
     "output_type": "stream",
     "text": [
      "Logistic Regression:\n",
      "Best Hyperparameters: {'C': 0.01, 'solver': 'saga'}\n",
      "Validation Accuracy: 0.69\n",
      "Training Accuracy: 0.73\n"
     ]
    }
   ],
   "source": [
    "# Define hyperparameter grid to search for Logistic Regression\n",
    "param_grid_logreg ={\n",
    "    'C': [0.001, 0.01, 0.1, 1, 10, 100],  # Regularization parameter\n",
    "    'solver': ['newton-cg', 'lbfgs', 'liblinear', 'sag', 'saga']  # Solver options\n",
    "}\n",
    "\n",
    "# Create the Logistic Regression classifier\n",
    "logreg = LogisticRegression(random_state=42)\n",
    "\n",
    "# Create GridSearchCV with the Logistic Regression classifier and hyperparameter grid\n",
    "grid_search_logreg = GridSearchCV(logreg, param_grid_logreg, cv=5, scoring='accuracy')\n",
    "\n",
    "# Fit the model with the training data\n",
    "grid_search_logreg.fit(X_train, y_train)\n",
    "\n",
    "# Get the best hyperparameters from the search\n",
    "best_params_logreg = grid_search_logreg.best_params_\n",
    "\n",
    "# Get the best estimator (model) from the search\n",
    "best_logreg = grid_search_logreg.best_estimator_\n",
    "\n",
    "# Make predictions on the validation set using the best model\n",
    "y_val_pred_logreg = best_logreg.predict(X_val)\n",
    "\n",
    "# Calculate accuracy on the validation set\n",
    "val_accuracy_logreg = accuracy_score(y_val, y_val_pred_logreg)\n",
    "\n",
    "# Make predictions on the training set using the best Logistic Regression model\n",
    "y_train_pred_logreg = best_logreg.predict(X_train)\n",
    "\n",
    "# Calculate accuracy on the training set\n",
    "train_accuracy_logreg = accuracy_score(y_train, y_train_pred_logreg)\n",
    "\n",
    "print(\"Logistic Regression:\")\n",
    "print(f\"Best Hyperparameters: {best_params_logreg}\")\n",
    "print(f\"Validation Accuracy: {val_accuracy_logreg:.2f}\")\n",
    "print(f\"Training Accuracy: {train_accuracy_logreg:.2f}\")\n"
   ]
  },
  {
   "cell_type": "code",
   "execution_count": 40,
   "id": "2c86cbc6",
   "metadata": {},
   "outputs": [
    {
     "data": {
      "text/html": [
       "<div>\n",
       "<style scoped>\n",
       "    .dataframe tbody tr th:only-of-type {\n",
       "        vertical-align: middle;\n",
       "    }\n",
       "\n",
       "    .dataframe tbody tr th {\n",
       "        vertical-align: top;\n",
       "    }\n",
       "\n",
       "    .dataframe thead th {\n",
       "        text-align: right;\n",
       "    }\n",
       "</style>\n",
       "<table border=\"1\" class=\"dataframe\">\n",
       "  <thead>\n",
       "    <tr style=\"text-align: right;\">\n",
       "      <th></th>\n",
       "      <th>coeffs</th>\n",
       "    </tr>\n",
       "  </thead>\n",
       "  <tbody>\n",
       "    <tr>\n",
       "      <th>cons_work environment</th>\n",
       "      <td>0.891809</td>\n",
       "    </tr>\n",
       "    <tr>\n",
       "      <th>cons_work life</th>\n",
       "      <td>0.923999</td>\n",
       "    </tr>\n",
       "    <tr>\n",
       "      <th>cons_worklife balance</th>\n",
       "      <td>0.959717</td>\n",
       "    </tr>\n",
       "    <tr>\n",
       "      <th>cons_life balance</th>\n",
       "      <td>0.964407</td>\n",
       "    </tr>\n",
       "    <tr>\n",
       "      <th>pros_good benefit</th>\n",
       "      <td>1.015731</td>\n",
       "    </tr>\n",
       "    <tr>\n",
       "      <th>pros_work life</th>\n",
       "      <td>1.033787</td>\n",
       "    </tr>\n",
       "    <tr>\n",
       "      <th>pros_life balance</th>\n",
       "      <td>1.049849</td>\n",
       "    </tr>\n",
       "    <tr>\n",
       "      <th>cons_good benefit</th>\n",
       "      <td>1.054359</td>\n",
       "    </tr>\n",
       "    <tr>\n",
       "      <th>pros_work environment</th>\n",
       "      <td>1.056832</td>\n",
       "    </tr>\n",
       "    <tr>\n",
       "      <th>pros_worklife balance</th>\n",
       "      <td>1.142002</td>\n",
       "    </tr>\n",
       "  </tbody>\n",
       "</table>\n",
       "</div>"
      ],
      "text/plain": [
       "                         coeffs\n",
       "cons_work environment  0.891809\n",
       "cons_work life         0.923999\n",
       "cons_worklife balance  0.959717\n",
       "cons_life balance      0.964407\n",
       "pros_good benefit      1.015731\n",
       "pros_work life         1.033787\n",
       "pros_life balance      1.049849\n",
       "cons_good benefit      1.054359\n",
       "pros_work environment  1.056832\n",
       "pros_worklife balance  1.142002"
      ]
     },
     "execution_count": 40,
     "metadata": {},
     "output_type": "execute_result"
    }
   ],
   "source": [
    "log_coeffs = pd.DataFrame(best_logreg.coef_[0], index = X_train.columns,\n",
    "                          columns = ['coeffs']).sort_values(by = 'coeffs', ascending = True)\n",
    "# convert from log odds to odds (exponentiate)\n",
    "odds = np.exp(log_coeffs)\n",
    "odds"
   ]
  },
  {
   "cell_type": "markdown",
   "id": "ba88837f",
   "metadata": {},
   "source": [
    "Odds Interpretation:\n",
    "\n",
    "For every one unit increase in the 2-word phrase, we expect `coeffs` times increase in odds of being a 4-star company rather than a 3-star company"
   ]
  },
  {
   "cell_type": "markdown",
   "id": "ab1b5c00-0400-4f8f-9194-8f9202cdd999",
   "metadata": {},
   "source": [
    "# Naive Bayes"
   ]
  },
  {
   "cell_type": "code",
   "execution_count": null,
   "id": "df713922-977c-48aa-81c8-86b347429e31",
   "metadata": {
    "tags": []
   },
   "outputs": [],
   "source": [
    "# Create the Gaussian Naive Bayes classifier\n",
    "gnb = GaussianNB()\n",
    "\n",
    "# Fit the model with the training data\n",
    "gnb.fit(X_train, y_train)\n",
    "\n",
    "# Make predictions on the validation set\n",
    "y_val_pred_gnb = gnb.predict(X_val)\n",
    "\n",
    "# Calculate accuracy on the validation set\n",
    "val_accuracy_gnb = accuracy_score(y_val, y_val_pred_gnb)\n",
    "\n",
    "# Make predictions on the training set\n",
    "y_train_pred_gnb = gnb.predict(X_train)\n",
    "\n",
    "# Calculate accuracy on the training set\n",
    "train_accuracy_gnb = accuracy_score(y_train, y_train_pred_gnb)\n",
    "\n",
    "print(\"Naive Bayes (Gaussian):\")\n",
    "print(f\"Validation Accuracy: {val_accuracy_gnb:.2f}\")\n",
    "print(f\"Training Accuracy: {train_accuracy_gnb:.2f}\")\n"
   ]
  },
  {
   "cell_type": "markdown",
   "id": "6db013dc-8146-41cb-a455-ed69f582df58",
   "metadata": {},
   "source": [
    "# XG BOOST"
   ]
  },
  {
   "cell_type": "code",
   "execution_count": null,
   "id": "f480adba-6575-4289-9d93-0a1fa145b2ce",
   "metadata": {
    "tags": []
   },
   "outputs": [],
   "source": [
    "# Map class labels to 0 and 1\n",
    "y_train = y_train.map({3: 0, 4: 1})\n",
    "y_val = y_val.map({3: 0, 4: 1})\n",
    "\n",
    "# Define hyperparameter grid to search for XGBoost\n",
    "param_grid_xgb = {\n",
    "    'learning_rate': [0.01, 0.1, 0.2],\n",
    "    'max_depth': [3, 4, 5, 6],\n",
    "    'n_estimators': [100, 200, 300]\n",
    "}\n",
    "\n",
    "# Create the XGBoost classifier\n",
    "xgb_classifier = xgb.XGBClassifier(random_state=42)\n",
    "\n",
    "# Create GridSearchCV with the XGBoost classifier and hyperparameter grid\n",
    "grid_search_xgb = GridSearchCV(xgb_classifier, param_grid_xgb, cv=5, scoring='accuracy')\n",
    "\n",
    "# Fit the model with the training data\n",
    "grid_search_xgb.fit(X_train, y_train)\n",
    "\n",
    "# Get the best hyperparameters from the search\n",
    "best_params_xgb = grid_search_xgb.best_params_\n",
    "\n",
    "# Get the best estimator (model) from the search\n",
    "best_xgb = grid_search_xgb.best_estimator_\n",
    "\n",
    "# Make predictions on the validation set using the best model\n",
    "y_val_pred_xgb = best_xgb.predict(X_val)\n",
    "\n",
    "# Calculate accuracy on the validation set\n",
    "val_accuracy_xgb = accuracy_score(y_val, y_val_pred_xgb)\n",
    "\n",
    "# Make predictions on the training set using the best XGBoost model\n",
    "y_train_pred_xgb = best_xgb.predict(X_train)\n",
    "\n",
    "# Calculate accuracy on the training set\n",
    "train_accuracy_xgb = accuracy_score(y_train, y_train_pred_xgb)\n",
    "\n",
    "print(\"XGBoost:\")\n",
    "print(f\"Best Hyperparameters: {best_params_xgb}\")\n",
    "print(f\"Validation Accuracy: {val_accuracy_xgb:.2f}\")\n",
    "print(f\"Training Accuracy: {train_accuracy_xgb:.2f}\")\n"
   ]
  },
  {
   "cell_type": "code",
   "execution_count": null,
   "id": "e313137a-18bf-44cc-b5f0-089a4cc10201",
   "metadata": {
    "tags": []
   },
   "outputs": [],
   "source": [
    "feature_importance = best_xgb.feature_importances_\n",
    "feature_importance\n",
    "\n",
    "feature_names = X_train.columns\n",
    "\n",
    "# Create a dictionary mapping feature names to their importance scores\n",
    "feature_importance_dict = dict(zip(feature_names, feature_importance))\n",
    "\n",
    "# Print feature importances\n",
    "for feature, importance in feature_importance_dict.items():\n",
    "    print(f\"Feature: {feature}, Importance: {importance:.4f}\")"
   ]
  },
  {
   "cell_type": "markdown",
   "id": "02c288e0-2bb5-47a8-a0e8-b9d0688faf13",
   "metadata": {},
   "source": [
    "## Test"
   ]
  },
  {
   "cell_type": "code",
   "execution_count": null,
   "id": "8946adbd-613c-4f0a-bf49-d381217c5b52",
   "metadata": {
    "tags": []
   },
   "outputs": [],
   "source": [
    "X_train = train[['pros_work life', 'pros_life balance', 'pros_work environment', 'pros_good benefit', 'pros_worklife balance', 'cons_work life', 'cons_life balance', 'cons_work environment', 'cons_good benefit', 'cons_worklife balance']]\n",
    "y_train = train[\"binned_rating_int\"]\n",
    "\n",
    "X_val = val[['pros_work life', 'pros_life balance', 'pros_work environment', 'pros_good benefit', 'pros_worklife balance', 'cons_work life', 'cons_life balance', 'cons_work environment', 'cons_good benefit', 'cons_worklife balance']]\n",
    "y_val = val[\"binned_rating_int\"]\n",
    "\n",
    "X_test = test[['pros_work life', 'pros_life balance', 'pros_work environment', 'pros_good benefit', 'pros_worklife balance', 'cons_work life', 'cons_life balance', 'cons_work environment', 'cons_good benefit', 'cons_worklife balance']]\n",
    "y_test = test[\"binned_rating_int\"]\n",
    "\n",
    "\n",
    "logreg = LogisticRegression(C=0.01,solver=\"saga\",random_state=42)\n",
    "\n",
    "y_test_pred_logreg = best_logreg.predict(X_test)\n",
    "test_accuracy_logreg = accuracy_score(y_test, y_test_pred_logreg)\n",
    "\n",
    "print(\"Logistic Regression:\")\n",
    "print(f\"Testing Accuracy: {test_accuracy_logreg:.2f}\")"
   ]
  },
  {
   "cell_type": "markdown",
   "id": "d7716942-67ec-4850-901f-a1efc511031c",
   "metadata": {},
   "source": [
    "## Observation:\n",
    "- The logistic regression model performs at 70% accuracy on test data, which ties with baseline."
   ]
  },
  {
   "cell_type": "markdown",
   "id": "d01788fa-7d16-489b-aef2-38defd425a27",
   "metadata": {},
   "source": [
    "# Conclusion\n",
    "Our analysis of Glassdoor employee reviews identified work-life balance as the primary key factor for employee satisfaction. The Logistic Regression model performed well on the test dataset, achieving a 70% accuracy score, consistent with our baseline predictions."
   ]
  },
  {
   "cell_type": "markdown",
   "id": "b363a49e-1070-4cbe-a67a-556e4fd13f67",
   "metadata": {},
   "source": [
    "# Recommendations\n",
    " **improve the model and further explore:** As it increases performance and therefore gives predictive insight, we recommend using logistic regression model over the baseine model for this use case as its performance is tied and can be further enhaned.\n"
   ]
  },
  {
   "cell_type": "markdown",
   "id": "5b534ce4-e571-4892-95c8-ce6b64b725f5",
   "metadata": {},
   "source": [
    "# Next steps\n",
    "1. **NON-DRIVERS**: Identify what doesnt drive company ratings.\n",
    "\n",
    "2. **GATHER DATA**: Further explore data using other methods and gather data from outside sources besides glassdoor.\n",
    "\n",
    "3. **RATINGS**: Treat ratings as numbers to run numerical test.\n",
    "\n",
    "4. **ISOLATE**: Seperate factors such as industry and company size.\n"
   ]
  }
 ],
 "metadata": {
  "kernelspec": {
   "display_name": "Python 3 (ipykernel)",
   "language": "python",
   "name": "python3"
  },
  "language_info": {
   "codemirror_mode": {
    "name": "ipython",
    "version": 3
   },
   "file_extension": ".py",
   "mimetype": "text/x-python",
   "name": "python",
   "nbconvert_exporter": "python",
   "pygments_lexer": "ipython3",
   "version": "3.10.9"
  },
  "varInspector": {
   "cols": {
    "lenName": 16,
    "lenType": 16,
    "lenVar": 40
   },
   "kernels_config": {
    "python": {
     "delete_cmd_postfix": "",
     "delete_cmd_prefix": "del ",
     "library": "var_list.py",
     "varRefreshCmd": "print(var_dic_list())"
    },
    "r": {
     "delete_cmd_postfix": ") ",
     "delete_cmd_prefix": "rm(",
     "library": "var_list.r",
     "varRefreshCmd": "cat(var_dic_list()) "
    }
   },
   "types_to_exclude": [
    "module",
    "function",
    "builtin_function_or_method",
    "instance",
    "_Feature"
   ],
   "window_display": false
  }
 },
 "nbformat": 4,
 "nbformat_minor": 5
}
