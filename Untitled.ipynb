{
 "cells": [
  {
   "cell_type": "markdown",
   "id": "3151fdae-9c3b-47cf-9e3c-f75b249b38ff",
   "metadata": {},
   "source": [
    "# TFIDF Vect Modeling for Pros and Cons TRIGRAMS"
   ]
  },
  {
   "cell_type": "code",
   "execution_count": 14,
   "id": "642bfaba-2a0b-4f1f-8b26-0ab809edc9f9",
   "metadata": {},
   "outputs": [],
   "source": [
    "import wrangle as w\n",
    "import nltk\n",
    "from collections import Counter\n",
    "from sklearn.feature_extraction.text import CountVectorizer\n",
    "import pandas as pd\n",
    "from scipy.stats import ttest_ind\n",
    "import warnings\n",
    "warnings.filterwarnings('ignore')\n",
    "from sklearn.metrics import confusion_matrix\n",
    "from sklearn.linear_model import LogisticRegression\n",
    "from sklearn.ensemble import RandomForestClassifier\n",
    "from sklearn.tree import DecisionTreeClassifier, plot_tree\n",
    "from sklearn.neighbors import KNeighborsClassifier\n",
    "from sklearn.metrics import accuracy_score\n",
    "import pandas as pd\n",
    "from nltk.util import ngrams\n",
    "from nltk.tokenize import word_tokenize\n",
    "from nltk.stem import WordNetLemmatizer\n",
    "from nltk.util import ngrams\n",
    "from sklearn.feature_extraction.text import TfidfVectorizer\n",
    "from sklearn.model_selection import train_test_split\n",
    "from sklearn.linear_model import LogisticRegression  # You can choose a different model\n",
    "from sklearn.metrics import accuracy_score, classification_report"
   ]
  },
  {
   "cell_type": "markdown",
   "id": "60c0dc65-e61a-4cd3-9821-d9d9e989b608",
   "metadata": {},
   "source": [
    "# Pros Modeling "
   ]
  },
  {
   "cell_type": "code",
   "execution_count": 15,
   "id": "d08a7064-22f2-456d-8826-cdfdf520a993",
   "metadata": {
    "tags": []
   },
   "outputs": [],
   "source": [
    "train, val, test = w.wrangle_glassdoor()"
   ]
  },
  {
   "cell_type": "code",
   "execution_count": 16,
   "id": "5875cb21-85a8-4ece-be43-c5d6715e5880",
   "metadata": {
    "tags": []
   },
   "outputs": [
    {
     "data": {
      "text/html": [
       "<div>\n",
       "<style scoped>\n",
       "    .dataframe tbody tr th:only-of-type {\n",
       "        vertical-align: middle;\n",
       "    }\n",
       "\n",
       "    .dataframe tbody tr th {\n",
       "        vertical-align: top;\n",
       "    }\n",
       "\n",
       "    .dataframe thead th {\n",
       "        text-align: right;\n",
       "    }\n",
       "</style>\n",
       "<table border=\"1\" class=\"dataframe\">\n",
       "  <thead>\n",
       "    <tr style=\"text-align: right;\">\n",
       "      <th></th>\n",
       "      <th>pros</th>\n",
       "      <th>cons</th>\n",
       "      <th>name</th>\n",
       "      <th>rating</th>\n",
       "      <th>ceo_approval</th>\n",
       "      <th>friend_recommendation</th>\n",
       "      <th>pros_cleaned</th>\n",
       "      <th>pros_lemmatized</th>\n",
       "      <th>cons_cleaned</th>\n",
       "      <th>cons_lemmatized</th>\n",
       "      <th>binned_rating</th>\n",
       "      <th>binned_rating_int</th>\n",
       "    </tr>\n",
       "    <tr>\n",
       "      <th>url</th>\n",
       "      <th></th>\n",
       "      <th></th>\n",
       "      <th></th>\n",
       "      <th></th>\n",
       "      <th></th>\n",
       "      <th></th>\n",
       "      <th></th>\n",
       "      <th></th>\n",
       "      <th></th>\n",
       "      <th></th>\n",
       "      <th></th>\n",
       "      <th></th>\n",
       "    </tr>\n",
       "  </thead>\n",
       "  <tbody>\n",
       "    <tr>\n",
       "      <th>https://www.glassdoor.com/Reviews/Perficient-Reviews-E9329.htm</th>\n",
       "      <td>Perficient is an ethical company that actually...</td>\n",
       "      <td>None at all, love, love, love this company!\\nI...</td>\n",
       "      <td>Perficient</td>\n",
       "      <td>4.1</td>\n",
       "      <td>87.0</td>\n",
       "      <td>80.0</td>\n",
       "      <td>perficient is an ethical company that actually...</td>\n",
       "      <td>perficient ethical company actually value empl...</td>\n",
       "      <td>none at all love love love this company\\nit is...</td>\n",
       "      <td>none love love love company good company canno...</td>\n",
       "      <td>Four</td>\n",
       "      <td>4</td>\n",
       "    </tr>\n",
       "    <tr>\n",
       "      <th>https://www.glassdoor.com/Reviews/Farmers-Insurance-Group-Reviews-E3955.htm</th>\n",
       "      <td>This company is the best ever.\\nLarge, establi...</td>\n",
       "      <td>I have nothing bad to say.\\nManagement company...</td>\n",
       "      <td>Farmers Insurance Group</td>\n",
       "      <td>3.4</td>\n",
       "      <td>37.0</td>\n",
       "      <td>52.0</td>\n",
       "      <td>this company is the best ever\\nlarge establish...</td>\n",
       "      <td>company best ever large established company so...</td>\n",
       "      <td>i have nothing bad to say\\nmanagement company ...</td>\n",
       "      <td>nothing bad say management company get paid re...</td>\n",
       "      <td>Three</td>\n",
       "      <td>3</td>\n",
       "    </tr>\n",
       "    <tr>\n",
       "      <th>https://www.glassdoor.com/Reviews/MIT-Reviews-E2889.htm</th>\n",
       "      <td>Very inspiring place to work at, to feel that ...</td>\n",
       "      <td>Depends on the project to how much organizatio...</td>\n",
       "      <td>MIT</td>\n",
       "      <td>4.4</td>\n",
       "      <td>90.0</td>\n",
       "      <td>86.0</td>\n",
       "      <td>very inspiring place to work at to feel that s...</td>\n",
       "      <td>inspiring place work feel something new happen...</td>\n",
       "      <td>depends on the project to how much organizatio...</td>\n",
       "      <td>depends project much organization team include...</td>\n",
       "      <td>Four</td>\n",
       "      <td>4</td>\n",
       "    </tr>\n",
       "  </tbody>\n",
       "</table>\n",
       "</div>"
      ],
      "text/plain": [
       "                                                                                                 pros  \\\n",
       "url                                                                                                     \n",
       "https://www.glassdoor.com/Reviews/Perficient-Re...  Perficient is an ethical company that actually...   \n",
       "https://www.glassdoor.com/Reviews/Farmers-Insur...  This company is the best ever.\\nLarge, establi...   \n",
       "https://www.glassdoor.com/Reviews/MIT-Reviews-E...  Very inspiring place to work at, to feel that ...   \n",
       "\n",
       "                                                                                                 cons  \\\n",
       "url                                                                                                     \n",
       "https://www.glassdoor.com/Reviews/Perficient-Re...  None at all, love, love, love this company!\\nI...   \n",
       "https://www.glassdoor.com/Reviews/Farmers-Insur...  I have nothing bad to say.\\nManagement company...   \n",
       "https://www.glassdoor.com/Reviews/MIT-Reviews-E...  Depends on the project to how much organizatio...   \n",
       "\n",
       "                                                                       name  \\\n",
       "url                                                                           \n",
       "https://www.glassdoor.com/Reviews/Perficient-Re...               Perficient   \n",
       "https://www.glassdoor.com/Reviews/Farmers-Insur...  Farmers Insurance Group   \n",
       "https://www.glassdoor.com/Reviews/MIT-Reviews-E...                      MIT   \n",
       "\n",
       "                                                    rating  ceo_approval  \\\n",
       "url                                                                        \n",
       "https://www.glassdoor.com/Reviews/Perficient-Re...     4.1          87.0   \n",
       "https://www.glassdoor.com/Reviews/Farmers-Insur...     3.4          37.0   \n",
       "https://www.glassdoor.com/Reviews/MIT-Reviews-E...     4.4          90.0   \n",
       "\n",
       "                                                    friend_recommendation  \\\n",
       "url                                                                         \n",
       "https://www.glassdoor.com/Reviews/Perficient-Re...                   80.0   \n",
       "https://www.glassdoor.com/Reviews/Farmers-Insur...                   52.0   \n",
       "https://www.glassdoor.com/Reviews/MIT-Reviews-E...                   86.0   \n",
       "\n",
       "                                                                                         pros_cleaned  \\\n",
       "url                                                                                                     \n",
       "https://www.glassdoor.com/Reviews/Perficient-Re...  perficient is an ethical company that actually...   \n",
       "https://www.glassdoor.com/Reviews/Farmers-Insur...  this company is the best ever\\nlarge establish...   \n",
       "https://www.glassdoor.com/Reviews/MIT-Reviews-E...  very inspiring place to work at to feel that s...   \n",
       "\n",
       "                                                                                      pros_lemmatized  \\\n",
       "url                                                                                                     \n",
       "https://www.glassdoor.com/Reviews/Perficient-Re...  perficient ethical company actually value empl...   \n",
       "https://www.glassdoor.com/Reviews/Farmers-Insur...  company best ever large established company so...   \n",
       "https://www.glassdoor.com/Reviews/MIT-Reviews-E...  inspiring place work feel something new happen...   \n",
       "\n",
       "                                                                                         cons_cleaned  \\\n",
       "url                                                                                                     \n",
       "https://www.glassdoor.com/Reviews/Perficient-Re...  none at all love love love this company\\nit is...   \n",
       "https://www.glassdoor.com/Reviews/Farmers-Insur...  i have nothing bad to say\\nmanagement company ...   \n",
       "https://www.glassdoor.com/Reviews/MIT-Reviews-E...  depends on the project to how much organizatio...   \n",
       "\n",
       "                                                                                      cons_lemmatized  \\\n",
       "url                                                                                                     \n",
       "https://www.glassdoor.com/Reviews/Perficient-Re...  none love love love company good company canno...   \n",
       "https://www.glassdoor.com/Reviews/Farmers-Insur...  nothing bad say management company get paid re...   \n",
       "https://www.glassdoor.com/Reviews/MIT-Reviews-E...  depends project much organization team include...   \n",
       "\n",
       "                                                   binned_rating  \\\n",
       "url                                                                \n",
       "https://www.glassdoor.com/Reviews/Perficient-Re...          Four   \n",
       "https://www.glassdoor.com/Reviews/Farmers-Insur...         Three   \n",
       "https://www.glassdoor.com/Reviews/MIT-Reviews-E...          Four   \n",
       "\n",
       "                                                   binned_rating_int  \n",
       "url                                                                   \n",
       "https://www.glassdoor.com/Reviews/Perficient-Re...                 4  \n",
       "https://www.glassdoor.com/Reviews/Farmers-Insur...                 3  \n",
       "https://www.glassdoor.com/Reviews/MIT-Reviews-E...                 4  "
      ]
     },
     "execution_count": 16,
     "metadata": {},
     "output_type": "execute_result"
    }
   ],
   "source": [
    "train.head(3)"
   ]
  },
  {
   "cell_type": "code",
   "execution_count": 17,
   "id": "ba3c71e2-822f-4ee4-b861-1333193468ef",
   "metadata": {
    "tags": []
   },
   "outputs": [
    {
     "name": "stdout",
     "output_type": "stream",
     "text": [
      "Most Common Class: 3\n",
      "Baseline Accuracy: 0.68\n"
     ]
    }
   ],
   "source": [
    "most_common = train[\"binned_rating_int\"].value_counts().idxmax()\n",
    "most_common_frequency = train[\"binned_rating_int\"].value_counts().max()\n",
    "\n",
    "baseline_accuracy = most_common_frequency / len(train)\n",
    "\n",
    "print(f\"Most Common Class: {most_common}\")\n",
    "print(f\"Baseline Accuracy: {baseline_accuracy:.2f}\")\n",
    "\n"
   ]
  },
  {
   "cell_type": "markdown",
   "id": "ac71f310-eb61-499b-94b0-d18e9feb66e0",
   "metadata": {},
   "source": [
    "## Decision Tree"
   ]
  },
  {
   "cell_type": "code",
   "execution_count": 39,
   "id": "8795e45b-4ddd-4012-8486-47743d3db33f",
   "metadata": {
    "tags": []
   },
   "outputs": [],
   "source": [
    "from sklearn.feature_extraction.text import TfidfVectorizer\n",
    "\n",
    "\n",
    "significant_words = ['work life balance', 'great place work', 'good work life', 'great company work']  # Replace with your significant words\n",
    "\n",
    "tfidf_vectorizer = TfidfVectorizer(vocabulary=significant_words)\n",
    "\n",
    "\n",
    "X_train = tfidf_vectorizer.fit_transform(train[\"pros_lemmatized\"])\n",
    "y_train = train[\"binned_rating_int\"]\n",
    "\n",
    "\n",
    "X_val = tfidf_vectorizer.transform(val[\"pros_lemmatized\"])\n",
    "y_val = val[\"binned_rating_int\"]\n",
    "\n",
    "\n",
    "X_test = tfidf_vectorizer.transform(test[\"pros_lemmatized\"])\n",
    "y_test = test[\"binned_rating_int\"]\n",
    "\n",
    "\n",
    "        "
   ]
  },
  {
   "cell_type": "code",
   "execution_count": 40,
   "id": "3b84d8e7-a43d-403c-b137-78f25c405217",
   "metadata": {
    "tags": []
   },
   "outputs": [
    {
     "name": "stdout",
     "output_type": "stream",
     "text": [
      "Train Accuracy: 0.68\n",
      "Validation Accuracy: 0.65\n"
     ]
    }
   ],
   "source": [
    "clf = DecisionTreeClassifier(random_state=42)\n",
    "clf.fit(X_train, y_train)\n",
    "\n",
    "y_train_pred = clf.predict(X_train)\n",
    "y_val_pred = clf.predict(X_val)\n",
    "\n",
    "train_accuracy = accuracy_score(y_train, y_train_pred)\n",
    "val_accuracy = accuracy_score(y_val, y_val_pred)\n",
    "\n",
    "print(f\"Train Accuracy: {train_accuracy:.2f}\")\n",
    "print(f\"Validation Accuracy: {val_accuracy:.2f}\")"
   ]
  },
  {
   "cell_type": "markdown",
   "id": "4909d6af-31b3-41ed-8779-167460bd7229",
   "metadata": {},
   "source": [
    "# RandomForrest"
   ]
  },
  {
   "cell_type": "code",
   "execution_count": 41,
   "id": "40d98753-0347-4249-8bd0-f267d196e932",
   "metadata": {
    "tags": []
   },
   "outputs": [
    {
     "name": "stdout",
     "output_type": "stream",
     "text": [
      "Train Accuracy: 0.68\n",
      "Validation Accuracy: 0.65\n"
     ]
    }
   ],
   "source": [
    "clf = RandomForestClassifier(random_state=42)\n",
    "clf.fit(X_train, y_train)\n",
    "\n",
    "y_train_pred = clf.predict(X_train)\n",
    "y_val_pred = clf.predict(X_val)\n",
    "\n",
    "train_accuracy = accuracy_score(y_train, y_train_pred)\n",
    "val_accuracy = accuracy_score(y_val, y_val_pred)\n",
    "\n",
    "print(f\"Train Accuracy: {train_accuracy:.2f}\")\n",
    "print(f\"Validation Accuracy: {val_accuracy:.2f}\")\n",
    "\n"
   ]
  },
  {
   "cell_type": "markdown",
   "id": "833dc22a-4b63-4a3f-bc2b-1d1c2c554194",
   "metadata": {},
   "source": [
    "# KNN"
   ]
  },
  {
   "cell_type": "code",
   "execution_count": 42,
   "id": "c04a4786-7f46-4c24-ba68-5d9ff707868e",
   "metadata": {
    "tags": []
   },
   "outputs": [
    {
     "name": "stdout",
     "output_type": "stream",
     "text": [
      "Train Accuracy: 0.30\n",
      "Validation Accuracy: 0.33\n"
     ]
    }
   ],
   "source": [
    "k = 3  \n",
    "clf = KNeighborsClassifier(n_neighbors=k)\n",
    "clf.fit(X_train, y_train)\n",
    "\n",
    "y_train_pred = clf.predict(X_train)\n",
    "y_val_pred = clf.predict(X_val)\n",
    "\n",
    "train_accuracy = accuracy_score(y_train, y_train_pred)\n",
    "val_accuracy = accuracy_score(y_val, y_val_pred)\n",
    "\n",
    "print(f\"Train Accuracy: {train_accuracy:.2f}\")\n",
    "print(f\"Validation Accuracy: {val_accuracy:.2f}\")\n",
    "\n",
    "\n",
    "\n"
   ]
  },
  {
   "cell_type": "markdown",
   "id": "aa702571-01bc-40d6-b2ac-a4fa7e14281c",
   "metadata": {},
   "source": [
    "# LogiReg"
   ]
  },
  {
   "cell_type": "code",
   "execution_count": 43,
   "id": "06973c97-0ea8-40e8-a7bf-d8bea25d1778",
   "metadata": {
    "tags": []
   },
   "outputs": [
    {
     "name": "stdout",
     "output_type": "stream",
     "text": [
      "Train Accuracy: 0.68\n",
      "Validation Accuracy: 0.65\n"
     ]
    }
   ],
   "source": [
    "clf = LogisticRegression(random_state=42)\n",
    "clf.fit(X_train, y_train)\n",
    "\n",
    "y_train_pred = clf.predict(X_train)\n",
    "y_val_pred = clf.predict(X_val)\n",
    "\n",
    "train_accuracy = accuracy_score(y_train, y_train_pred)\n",
    "val_accuracy = accuracy_score(y_val, y_val_pred)\n",
    "\n",
    "print(f\"Train Accuracy: {train_accuracy:.2f}\")\n",
    "print(f\"Validation Accuracy: {val_accuracy:.2f}\")\n"
   ]
  },
  {
   "cell_type": "markdown",
   "id": "00d0df75-cf1e-472a-95e1-9b124e6baa93",
   "metadata": {},
   "source": [
    "# Cons Modeling "
   ]
  },
  {
   "cell_type": "code",
   "execution_count": 13,
   "id": "39233c2a-f417-4614-ae94-aeea361ccfc2",
   "metadata": {
    "tags": []
   },
   "outputs": [],
   "source": [
    "train, val, test = w.wrangle_glassdoor()"
   ]
  },
  {
   "cell_type": "code",
   "execution_count": 14,
   "id": "d80ffd52-1775-41f5-a24c-47823ea02588",
   "metadata": {
    "tags": []
   },
   "outputs": [
    {
     "data": {
      "text/html": [
       "<div>\n",
       "<style scoped>\n",
       "    .dataframe tbody tr th:only-of-type {\n",
       "        vertical-align: middle;\n",
       "    }\n",
       "\n",
       "    .dataframe tbody tr th {\n",
       "        vertical-align: top;\n",
       "    }\n",
       "\n",
       "    .dataframe thead th {\n",
       "        text-align: right;\n",
       "    }\n",
       "</style>\n",
       "<table border=\"1\" class=\"dataframe\">\n",
       "  <thead>\n",
       "    <tr style=\"text-align: right;\">\n",
       "      <th></th>\n",
       "      <th>pros</th>\n",
       "      <th>cons</th>\n",
       "      <th>name</th>\n",
       "      <th>rating</th>\n",
       "      <th>ceo_approval</th>\n",
       "      <th>friend_recommendation</th>\n",
       "      <th>pros_cleaned</th>\n",
       "      <th>pros_lemmatized</th>\n",
       "      <th>cons_cleaned</th>\n",
       "      <th>cons_lemmatized</th>\n",
       "      <th>binned_rating</th>\n",
       "      <th>binned_rating_int</th>\n",
       "    </tr>\n",
       "    <tr>\n",
       "      <th>url</th>\n",
       "      <th></th>\n",
       "      <th></th>\n",
       "      <th></th>\n",
       "      <th></th>\n",
       "      <th></th>\n",
       "      <th></th>\n",
       "      <th></th>\n",
       "      <th></th>\n",
       "      <th></th>\n",
       "      <th></th>\n",
       "      <th></th>\n",
       "      <th></th>\n",
       "    </tr>\n",
       "  </thead>\n",
       "  <tbody>\n",
       "    <tr>\n",
       "      <th>https://www.glassdoor.com/Reviews/Perficient-Reviews-E9329.htm</th>\n",
       "      <td>Perficient is an ethical company that actually...</td>\n",
       "      <td>None at all, love, love, love this company!\\nI...</td>\n",
       "      <td>Perficient</td>\n",
       "      <td>4.1</td>\n",
       "      <td>87.0</td>\n",
       "      <td>80.0</td>\n",
       "      <td>perficient is an ethical company that actually...</td>\n",
       "      <td>perficient ethical company actually value empl...</td>\n",
       "      <td>none at all love love love this company\\nit is...</td>\n",
       "      <td>none love love love company good company canno...</td>\n",
       "      <td>Four</td>\n",
       "      <td>4</td>\n",
       "    </tr>\n",
       "    <tr>\n",
       "      <th>https://www.glassdoor.com/Reviews/Farmers-Insurance-Group-Reviews-E3955.htm</th>\n",
       "      <td>This company is the best ever.\\nLarge, establi...</td>\n",
       "      <td>I have nothing bad to say.\\nManagement company...</td>\n",
       "      <td>Farmers Insurance Group</td>\n",
       "      <td>3.4</td>\n",
       "      <td>37.0</td>\n",
       "      <td>52.0</td>\n",
       "      <td>this company is the best ever\\nlarge establish...</td>\n",
       "      <td>company best ever large established company so...</td>\n",
       "      <td>i have nothing bad to say\\nmanagement company ...</td>\n",
       "      <td>nothing bad say management company get paid re...</td>\n",
       "      <td>Three</td>\n",
       "      <td>3</td>\n",
       "    </tr>\n",
       "    <tr>\n",
       "      <th>https://www.glassdoor.com/Reviews/MIT-Reviews-E2889.htm</th>\n",
       "      <td>Very inspiring place to work at, to feel that ...</td>\n",
       "      <td>Depends on the project to how much organizatio...</td>\n",
       "      <td>MIT</td>\n",
       "      <td>4.4</td>\n",
       "      <td>90.0</td>\n",
       "      <td>86.0</td>\n",
       "      <td>very inspiring place to work at to feel that s...</td>\n",
       "      <td>inspiring place work feel something new happen...</td>\n",
       "      <td>depends on the project to how much organizatio...</td>\n",
       "      <td>depends project much organization team include...</td>\n",
       "      <td>Four</td>\n",
       "      <td>4</td>\n",
       "    </tr>\n",
       "  </tbody>\n",
       "</table>\n",
       "</div>"
      ],
      "text/plain": [
       "                                                                                                 pros  \\\n",
       "url                                                                                                     \n",
       "https://www.glassdoor.com/Reviews/Perficient-Re...  Perficient is an ethical company that actually...   \n",
       "https://www.glassdoor.com/Reviews/Farmers-Insur...  This company is the best ever.\\nLarge, establi...   \n",
       "https://www.glassdoor.com/Reviews/MIT-Reviews-E...  Very inspiring place to work at, to feel that ...   \n",
       "\n",
       "                                                                                                 cons  \\\n",
       "url                                                                                                     \n",
       "https://www.glassdoor.com/Reviews/Perficient-Re...  None at all, love, love, love this company!\\nI...   \n",
       "https://www.glassdoor.com/Reviews/Farmers-Insur...  I have nothing bad to say.\\nManagement company...   \n",
       "https://www.glassdoor.com/Reviews/MIT-Reviews-E...  Depends on the project to how much organizatio...   \n",
       "\n",
       "                                                                       name  \\\n",
       "url                                                                           \n",
       "https://www.glassdoor.com/Reviews/Perficient-Re...               Perficient   \n",
       "https://www.glassdoor.com/Reviews/Farmers-Insur...  Farmers Insurance Group   \n",
       "https://www.glassdoor.com/Reviews/MIT-Reviews-E...                      MIT   \n",
       "\n",
       "                                                    rating  ceo_approval  \\\n",
       "url                                                                        \n",
       "https://www.glassdoor.com/Reviews/Perficient-Re...     4.1          87.0   \n",
       "https://www.glassdoor.com/Reviews/Farmers-Insur...     3.4          37.0   \n",
       "https://www.glassdoor.com/Reviews/MIT-Reviews-E...     4.4          90.0   \n",
       "\n",
       "                                                    friend_recommendation  \\\n",
       "url                                                                         \n",
       "https://www.glassdoor.com/Reviews/Perficient-Re...                   80.0   \n",
       "https://www.glassdoor.com/Reviews/Farmers-Insur...                   52.0   \n",
       "https://www.glassdoor.com/Reviews/MIT-Reviews-E...                   86.0   \n",
       "\n",
       "                                                                                         pros_cleaned  \\\n",
       "url                                                                                                     \n",
       "https://www.glassdoor.com/Reviews/Perficient-Re...  perficient is an ethical company that actually...   \n",
       "https://www.glassdoor.com/Reviews/Farmers-Insur...  this company is the best ever\\nlarge establish...   \n",
       "https://www.glassdoor.com/Reviews/MIT-Reviews-E...  very inspiring place to work at to feel that s...   \n",
       "\n",
       "                                                                                      pros_lemmatized  \\\n",
       "url                                                                                                     \n",
       "https://www.glassdoor.com/Reviews/Perficient-Re...  perficient ethical company actually value empl...   \n",
       "https://www.glassdoor.com/Reviews/Farmers-Insur...  company best ever large established company so...   \n",
       "https://www.glassdoor.com/Reviews/MIT-Reviews-E...  inspiring place work feel something new happen...   \n",
       "\n",
       "                                                                                         cons_cleaned  \\\n",
       "url                                                                                                     \n",
       "https://www.glassdoor.com/Reviews/Perficient-Re...  none at all love love love this company\\nit is...   \n",
       "https://www.glassdoor.com/Reviews/Farmers-Insur...  i have nothing bad to say\\nmanagement company ...   \n",
       "https://www.glassdoor.com/Reviews/MIT-Reviews-E...  depends on the project to how much organizatio...   \n",
       "\n",
       "                                                                                      cons_lemmatized  \\\n",
       "url                                                                                                     \n",
       "https://www.glassdoor.com/Reviews/Perficient-Re...  none love love love company good company canno...   \n",
       "https://www.glassdoor.com/Reviews/Farmers-Insur...  nothing bad say management company get paid re...   \n",
       "https://www.glassdoor.com/Reviews/MIT-Reviews-E...  depends project much organization team include...   \n",
       "\n",
       "                                                   binned_rating  \\\n",
       "url                                                                \n",
       "https://www.glassdoor.com/Reviews/Perficient-Re...          Four   \n",
       "https://www.glassdoor.com/Reviews/Farmers-Insur...         Three   \n",
       "https://www.glassdoor.com/Reviews/MIT-Reviews-E...          Four   \n",
       "\n",
       "                                                   binned_rating_int  \n",
       "url                                                                   \n",
       "https://www.glassdoor.com/Reviews/Perficient-Re...                 4  \n",
       "https://www.glassdoor.com/Reviews/Farmers-Insur...                 3  \n",
       "https://www.glassdoor.com/Reviews/MIT-Reviews-E...                 4  "
      ]
     },
     "execution_count": 14,
     "metadata": {},
     "output_type": "execute_result"
    }
   ],
   "source": [
    "train.head(3)"
   ]
  },
  {
   "cell_type": "code",
   "execution_count": 15,
   "id": "3bcfb3dc-b2a5-45e4-9cd7-6643932f3e79",
   "metadata": {
    "tags": []
   },
   "outputs": [
    {
     "name": "stdout",
     "output_type": "stream",
     "text": [
      "Most Common Class: 3\n",
      "Baseline Accuracy: 0.68\n"
     ]
    }
   ],
   "source": [
    "most_common = train[\"binned_rating_int\"].value_counts().idxmax()\n",
    "most_common_frequency = train[\"binned_rating_int\"].value_counts().max()\n",
    "\n",
    "baseline_accuracy = most_common_frequency / len(train)\n",
    "\n",
    "print(f\"Most Common Class: {most_common}\")\n",
    "print(f\"Baseline Accuracy: {baseline_accuracy:.2f}\")\n",
    "\n"
   ]
  },
  {
   "cell_type": "code",
   "execution_count": 46,
   "id": "b174bad8-1886-4e1b-b26d-acc80f14d234",
   "metadata": {
    "tags": []
   },
   "outputs": [],
   "source": [
    "significant_words = ['work life balance', 'great place work', 'good work life', 'good pay good']  # Replace with your significant words\n",
    "\n",
    "tfidf_vectorizer = TfidfVectorizer(vocabulary=significant_words)\n",
    "\n",
    "\n",
    "X_train = tfidf_vectorizer.fit_transform(train[\"pros_lemmatized\"])\n",
    "y_train = train[\"binned_rating_int\"]\n",
    "\n",
    "\n",
    "X_val = tfidf_vectorizer.transform(val[\"pros_lemmatized\"])\n",
    "y_val = val[\"binned_rating_int\"]\n",
    "\n",
    "\n",
    "X_test = tfidf_vectorizer.transform(test[\"pros_lemmatized\"])\n",
    "y_test = test[\"binned_rating_int\"]\n",
    "\n",
    "\n",
    "        "
   ]
  },
  {
   "cell_type": "markdown",
   "id": "5685c91c-e070-4e6d-8792-d3429a4a4216",
   "metadata": {},
   "source": [
    "## Decision Tree"
   ]
  },
  {
   "cell_type": "code",
   "execution_count": 47,
   "id": "3ad8d5cf-21fa-4e48-8f16-a88f11c243cd",
   "metadata": {
    "tags": []
   },
   "outputs": [
    {
     "name": "stdout",
     "output_type": "stream",
     "text": [
      "Train Accuracy: 0.68\n",
      "Validation Accuracy: 0.65\n"
     ]
    }
   ],
   "source": [
    "clf = DecisionTreeClassifier(random_state=42)\n",
    "clf.fit(X_train, y_train)\n",
    "\n",
    "y_train_pred = clf.predict(X_train)\n",
    "y_val_pred = clf.predict(X_val)\n",
    "\n",
    "train_accuracy = accuracy_score(y_train, y_train_pred)\n",
    "val_accuracy = accuracy_score(y_val, y_val_pred)\n",
    "\n",
    "print(f\"Train Accuracy: {train_accuracy:.2f}\")\n",
    "print(f\"Validation Accuracy: {val_accuracy:.2f}\")"
   ]
  },
  {
   "cell_type": "markdown",
   "id": "e8fd3ef5-d662-44fb-8578-63ad5df995ab",
   "metadata": {},
   "source": [
    "# RandomForrest"
   ]
  },
  {
   "cell_type": "code",
   "execution_count": 48,
   "id": "d9b3d419-3436-4e29-bdbf-e4245ab9f7a1",
   "metadata": {
    "tags": []
   },
   "outputs": [
    {
     "name": "stdout",
     "output_type": "stream",
     "text": [
      "Train Accuracy: 0.68\n",
      "Validation Accuracy: 0.65\n"
     ]
    }
   ],
   "source": [
    "clf = RandomForestClassifier(random_state=42)\n",
    "clf.fit(X_train, y_train)\n",
    "\n",
    "y_train_pred = clf.predict(X_train)\n",
    "y_val_pred = clf.predict(X_val)\n",
    "\n",
    "train_accuracy = accuracy_score(y_train, y_train_pred)\n",
    "val_accuracy = accuracy_score(y_val, y_val_pred)\n",
    "\n",
    "print(f\"Train Accuracy: {train_accuracy:.2f}\")\n",
    "print(f\"Validation Accuracy: {val_accuracy:.2f}\")\n",
    "\n"
   ]
  },
  {
   "cell_type": "markdown",
   "id": "1ca64fa3-f758-4ec2-8c37-cfe29faa7d01",
   "metadata": {},
   "source": [
    "# KNN"
   ]
  },
  {
   "cell_type": "code",
   "execution_count": 49,
   "id": "b093ee8d-85e7-4101-8383-54c4b66d056a",
   "metadata": {
    "tags": []
   },
   "outputs": [
    {
     "name": "stdout",
     "output_type": "stream",
     "text": [
      "Train Accuracy: 0.30\n",
      "Validation Accuracy: 0.33\n"
     ]
    }
   ],
   "source": [
    "k = 3  \n",
    "clf = KNeighborsClassifier(n_neighbors=k)\n",
    "clf.fit(X_train, y_train)\n",
    "\n",
    "y_train_pred = clf.predict(X_train)\n",
    "y_val_pred = clf.predict(X_val)\n",
    "\n",
    "train_accuracy = accuracy_score(y_train, y_train_pred)\n",
    "val_accuracy = accuracy_score(y_val, y_val_pred)\n",
    "\n",
    "print(f\"Train Accuracy: {train_accuracy:.2f}\")\n",
    "print(f\"Validation Accuracy: {val_accuracy:.2f}\")\n",
    "\n",
    "\n",
    "\n"
   ]
  },
  {
   "cell_type": "markdown",
   "id": "2579e7dc-7f2e-47dd-bc94-9d667b67c4bf",
   "metadata": {},
   "source": [
    "# LogiReg"
   ]
  },
  {
   "cell_type": "code",
   "execution_count": 50,
   "id": "0d016b2f-c9ab-4ce2-9ce8-706c753eebb7",
   "metadata": {
    "tags": []
   },
   "outputs": [
    {
     "name": "stdout",
     "output_type": "stream",
     "text": [
      "Train Accuracy: 0.68\n",
      "Validation Accuracy: 0.65\n"
     ]
    }
   ],
   "source": [
    "clf = LogisticRegression(random_state=42)\n",
    "clf.fit(X_train, y_train)\n",
    "\n",
    "y_train_pred = clf.predict(X_train)\n",
    "y_val_pred = clf.predict(X_val)\n",
    "\n",
    "train_accuracy = accuracy_score(y_train, y_train_pred)\n",
    "val_accuracy = accuracy_score(y_val, y_val_pred)\n",
    "\n",
    "print(f\"Train Accuracy: {train_accuracy:.2f}\")\n",
    "print(f\"Validation Accuracy: {val_accuracy:.2f}\")\n"
   ]
  },
  {
   "cell_type": "markdown",
   "id": "62b83121-fa8b-4431-8cab-273491fd0a7d",
   "metadata": {},
   "source": [
    "# Test Score for Logi"
   ]
  },
  {
   "cell_type": "code",
   "execution_count": 51,
   "id": "203372f4-0185-4f1a-8f4b-1c065293203a",
   "metadata": {
    "tags": []
   },
   "outputs": [
    {
     "name": "stdout",
     "output_type": "stream",
     "text": [
      "Test Accuracy: 0.6565656565656566\n"
     ]
    }
   ],
   "source": [
    "clf = LogisticRegression(random_state=42)\n",
    "clf.fit(X_train, y_train)\n",
    "\n",
    "# Predict on the test set\n",
    "y_test_pred = clf.predict(X_test)\n",
    "\n",
    "# Calculate test accuracy\n",
    "test_accuracy = accuracy_score(y_test, y_test_pred)\n",
    "\n",
    "print(f\"Test Accuracy: {test_accuracy}\")"
   ]
  }
 ],
 "metadata": {
  "kernelspec": {
   "display_name": "Python 3 (ipykernel)",
   "language": "python",
   "name": "python3"
  },
  "language_info": {
   "codemirror_mode": {
    "name": "ipython",
    "version": 3
   },
   "file_extension": ".py",
   "mimetype": "text/x-python",
   "name": "python",
   "nbconvert_exporter": "python",
   "pygments_lexer": "ipython3",
   "version": "3.11.4"
  }
 },
 "nbformat": 4,
 "nbformat_minor": 5
}
