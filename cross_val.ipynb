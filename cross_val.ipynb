{
 "cells": [
  {
   "cell_type": "code",
   "execution_count": 3,
   "id": "8f56cbf5-9108-4f7e-b602-d666f0c374aa",
   "metadata": {},
   "outputs": [],
   "source": [
    "import numpy as np\n",
    "import pandas as pd\n",
    "\n",
    "import matplotlib.pyplot as plt\n",
    "from pydataset import data\n",
    "\n",
    "from sklearn.model_selection import train_test_split\n",
    "from sklearn.tree import DecisionTreeClassifier\n",
    "from sklearn.neighbors import KNeighborsClassifier\n",
    "\n",
    "from sklearn.model_selection import cross_val_score\n",
    "import wrangle"
   ]
  },
  {
   "cell_type": "code",
   "execution_count": 4,
   "id": "b54f60eb-8172-46f8-902a-31bab139ca51",
   "metadata": {},
   "outputs": [],
   "source": [
    "train, val, test = wrangle.wrangle_readmes()"
   ]
  },
  {
   "cell_type": "markdown",
   "id": "5c38c929-e474-4b73-ae96-7d37cbb6bdfe",
   "metadata": {},
   "source": [
    "**Split**\n",
    "\n",
    "- We don't need the validation set"
   ]
  },
  {
   "cell_type": "code",
   "execution_count": null,
   "id": "0ff28fb0-2e84-460f-9520-74e74cfea0d0",
   "metadata": {},
   "outputs": [],
   "source": [
    "X_train, X_test, y_train, y_test = train_test_split(X, y, random_state=123)\n",
    "\n"
   ]
  }
 ],
 "metadata": {
  "kernelspec": {
   "display_name": "Python 3 (ipykernel)",
   "language": "python",
   "name": "python3"
  },
  "language_info": {
   "codemirror_mode": {
    "name": "ipython",
    "version": 3
   },
   "file_extension": ".py",
   "mimetype": "text/x-python",
   "name": "python",
   "nbconvert_exporter": "python",
   "pygments_lexer": "ipython3",
   "version": "3.10.9"
  }
 },
 "nbformat": 4,
 "nbformat_minor": 5
}
