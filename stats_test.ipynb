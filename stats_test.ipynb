{
 "cells": [
  {
   "cell_type": "markdown",
   "id": "ecba1723-bd8e-4a2e-958e-fcf1e28cb61e",
   "metadata": {},
   "source": [
    "# STATS"
   ]
  },
  {
   "cell_type": "code",
   "execution_count": 16,
   "id": "e0f7d609-7d7a-4665-8aaa-bcbb4157f2cd",
   "metadata": {},
   "outputs": [],
   "source": [
    "import pandas as pd\n",
    "from scipy import stats\n",
    "import wrangle\n",
    "\n",
    "import pandas as pd\n",
    "from sklearn.feature_extraction.text import TfidfVectorizer\n",
    "import nltk.sentiment"
   ]
  },
  {
   "cell_type": "code",
   "execution_count": 2,
   "id": "1e2f33c3-25a3-4385-aca2-cb36c99e3895",
   "metadata": {},
   "outputs": [],
   "source": [
    "train, val, test = wrangle.wrangle_glassdoor()"
   ]
  },
  {
   "cell_type": "code",
   "execution_count": 3,
   "id": "f1840bbe-99b8-413b-bf78-8893bbef0d3a",
   "metadata": {},
   "outputs": [
    {
     "data": {
      "text/html": [
       "<div>\n",
       "<style scoped>\n",
       "    .dataframe tbody tr th:only-of-type {\n",
       "        vertical-align: middle;\n",
       "    }\n",
       "\n",
       "    .dataframe tbody tr th {\n",
       "        vertical-align: top;\n",
       "    }\n",
       "\n",
       "    .dataframe thead th {\n",
       "        text-align: right;\n",
       "    }\n",
       "</style>\n",
       "<table border=\"1\" class=\"dataframe\">\n",
       "  <thead>\n",
       "    <tr style=\"text-align: right;\">\n",
       "      <th></th>\n",
       "      <th>url</th>\n",
       "      <th>pros</th>\n",
       "      <th>cons</th>\n",
       "      <th>name</th>\n",
       "      <th>rating</th>\n",
       "      <th>pros_cleaned</th>\n",
       "      <th>pros_lemmatized</th>\n",
       "      <th>cons_cleaned</th>\n",
       "      <th>cons_lemmatized</th>\n",
       "      <th>binned_rating</th>\n",
       "      <th>binned_rating_int</th>\n",
       "    </tr>\n",
       "  </thead>\n",
       "  <tbody>\n",
       "    <tr>\n",
       "      <th>490</th>\n",
       "      <td>https://www.glassdoor.com/Reviews/Perficient-R...</td>\n",
       "      <td>Perficient is an ethical company that actually...</td>\n",
       "      <td>None at all, love, love, love this company!\\nI...</td>\n",
       "      <td>Perficient</td>\n",
       "      <td>4.1</td>\n",
       "      <td>perficient is an ethical company that actually...</td>\n",
       "      <td>perficient ethical company actually value empl...</td>\n",
       "      <td>none at all love love love this company\\nit is...</td>\n",
       "      <td>none love love love company good company canno...</td>\n",
       "      <td>Four</td>\n",
       "      <td>4</td>\n",
       "    </tr>\n",
       "    <tr>\n",
       "      <th>273</th>\n",
       "      <td>https://www.glassdoor.com/Reviews/Farmers-Insu...</td>\n",
       "      <td>This company is the best ever.\\nLarge, establi...</td>\n",
       "      <td>I have nothing bad to say.\\nManagement company...</td>\n",
       "      <td>Farmers Insurance Group</td>\n",
       "      <td>3.4</td>\n",
       "      <td>this company is the best ever\\nlarge establish...</td>\n",
       "      <td>company best ever large established company so...</td>\n",
       "      <td>i have nothing bad to say\\nmanagement company ...</td>\n",
       "      <td>nothing bad say management company get paid re...</td>\n",
       "      <td>Three</td>\n",
       "      <td>3</td>\n",
       "    </tr>\n",
       "    <tr>\n",
       "      <th>30</th>\n",
       "      <td>https://www.glassdoor.com/Reviews/MIT-Reviews-...</td>\n",
       "      <td>Very inspiring place to work at, to feel that ...</td>\n",
       "      <td>Depends on the project to how much organizatio...</td>\n",
       "      <td>MIT</td>\n",
       "      <td>4.4</td>\n",
       "      <td>very inspiring place to work at to feel that s...</td>\n",
       "      <td>inspiring place work feel something new happen...</td>\n",
       "      <td>depends on the project to how much organizatio...</td>\n",
       "      <td>depends project much organization team include...</td>\n",
       "      <td>Four</td>\n",
       "      <td>4</td>\n",
       "    </tr>\n",
       "    <tr>\n",
       "      <th>406</th>\n",
       "      <td>https://www.glassdoor.com/Reviews/Morningstar-...</td>\n",
       "      <td>- Coworkers are amicable, and they're overall ...</td>\n",
       "      <td>- Base pay for the area could be slightly high...</td>\n",
       "      <td>Morningstar</td>\n",
       "      <td>4.1</td>\n",
       "      <td>coworkers are amicable and they ' re overall v...</td>\n",
       "      <td>coworkers amicable ' overall supportive unlimi...</td>\n",
       "      <td>base pay for the area could be slightly higher...</td>\n",
       "      <td>base pay area could slightly higher bonus prog...</td>\n",
       "      <td>Four</td>\n",
       "      <td>4</td>\n",
       "    </tr>\n",
       "    <tr>\n",
       "      <th>163</th>\n",
       "      <td>https://www.glassdoor.com/Reviews/ICF-Reviews-...</td>\n",
       "      <td>Loved the job and the people. Great flexibilit...</td>\n",
       "      <td>None, I would fully recommend\\nThere was disho...</td>\n",
       "      <td>ICF</td>\n",
       "      <td>3.8</td>\n",
       "      <td>loved the job and the people great flexibility...</td>\n",
       "      <td>loved job people great flexibility fun project...</td>\n",
       "      <td>none i would fully recommend\\nthere was dishon...</td>\n",
       "      <td>none would fully recommend dishonest hidden in...</td>\n",
       "      <td>Three</td>\n",
       "      <td>3</td>\n",
       "    </tr>\n",
       "  </tbody>\n",
       "</table>\n",
       "</div>"
      ],
      "text/plain": [
       "                                                   url  \\\n",
       "490  https://www.glassdoor.com/Reviews/Perficient-R...   \n",
       "273  https://www.glassdoor.com/Reviews/Farmers-Insu...   \n",
       "30   https://www.glassdoor.com/Reviews/MIT-Reviews-...   \n",
       "406  https://www.glassdoor.com/Reviews/Morningstar-...   \n",
       "163  https://www.glassdoor.com/Reviews/ICF-Reviews-...   \n",
       "\n",
       "                                                  pros  \\\n",
       "490  Perficient is an ethical company that actually...   \n",
       "273  This company is the best ever.\\nLarge, establi...   \n",
       "30   Very inspiring place to work at, to feel that ...   \n",
       "406  - Coworkers are amicable, and they're overall ...   \n",
       "163  Loved the job and the people. Great flexibilit...   \n",
       "\n",
       "                                                  cons  \\\n",
       "490  None at all, love, love, love this company!\\nI...   \n",
       "273  I have nothing bad to say.\\nManagement company...   \n",
       "30   Depends on the project to how much organizatio...   \n",
       "406  - Base pay for the area could be slightly high...   \n",
       "163  None, I would fully recommend\\nThere was disho...   \n",
       "\n",
       "                        name  rating  \\\n",
       "490               Perficient     4.1   \n",
       "273  Farmers Insurance Group     3.4   \n",
       "30                       MIT     4.4   \n",
       "406              Morningstar     4.1   \n",
       "163                      ICF     3.8   \n",
       "\n",
       "                                          pros_cleaned  \\\n",
       "490  perficient is an ethical company that actually...   \n",
       "273  this company is the best ever\\nlarge establish...   \n",
       "30   very inspiring place to work at to feel that s...   \n",
       "406  coworkers are amicable and they ' re overall v...   \n",
       "163  loved the job and the people great flexibility...   \n",
       "\n",
       "                                       pros_lemmatized  \\\n",
       "490  perficient ethical company actually value empl...   \n",
       "273  company best ever large established company so...   \n",
       "30   inspiring place work feel something new happen...   \n",
       "406  coworkers amicable ' overall supportive unlimi...   \n",
       "163  loved job people great flexibility fun project...   \n",
       "\n",
       "                                          cons_cleaned  \\\n",
       "490  none at all love love love this company\\nit is...   \n",
       "273  i have nothing bad to say\\nmanagement company ...   \n",
       "30   depends on the project to how much organizatio...   \n",
       "406  base pay for the area could be slightly higher...   \n",
       "163  none i would fully recommend\\nthere was dishon...   \n",
       "\n",
       "                                       cons_lemmatized binned_rating  \\\n",
       "490  none love love love company good company canno...          Four   \n",
       "273  nothing bad say management company get paid re...         Three   \n",
       "30   depends project much organization team include...          Four   \n",
       "406  base pay area could slightly higher bonus prog...          Four   \n",
       "163  none would fully recommend dishonest hidden in...         Three   \n",
       "\n",
       "    binned_rating_int  \n",
       "490                 4  \n",
       "273                 3  \n",
       "30                  4  \n",
       "406                 4  \n",
       "163                 3  "
      ]
     },
     "execution_count": 3,
     "metadata": {},
     "output_type": "execute_result"
    }
   ],
   "source": [
    "train.head()"
   ]
  },
  {
   "cell_type": "markdown",
   "id": "d4f4ff2c-4a1e-4b51-8f74-17093a273a6e",
   "metadata": {},
   "source": [
    "# Significance of words (tf-idf)"
   ]
  },
  {
   "cell_type": "markdown",
   "id": "20f0e81d-3477-41d9-b9de-7e40b60a0431",
   "metadata": {},
   "source": [
    "The IDF (Inverse Document Frequency) score is calculated to measure the importance of a word within a collection of documents. The IDF score indicates how rare or common a word is across the entire corpus.\n",
    "\n",
    "- A higher IDF score suggests that a word is more unique and significant within the collection of documents."
   ]
  },
  {
   "cell_type": "code",
   "execution_count": 4,
   "id": "6917a3c9-b676-4e9f-96ed-2d7a3c5e959a",
   "metadata": {},
   "outputs": [],
   "source": [
    "# # Initialize a TF-IDF vectorizer and fit it to your documents\n",
    "# tfidf_vectorizer = TfidfVectorizer()\n",
    "# tfidf_matrix = tfidf_vectorizer.fit_transform(train['pros_lemmatized'] + train['cons_lemmatized'])\n",
    "# tfidf_matrix"
   ]
  },
  {
   "cell_type": "code",
   "execution_count": 5,
   "id": "9cb9a5d9-0de3-4875-b582-abf3775dd89e",
   "metadata": {},
   "outputs": [],
   "source": [
    "# # Get the TF-IDF scores for each word:\n",
    "# feature_names = tfidf_vectorizer.get_feature_names_out()\n",
    "# tfidf_scores = tfidf_matrix.toarray()\n",
    "# tfidf_scores"
   ]
  },
  {
   "cell_type": "code",
   "execution_count": 6,
   "id": "394d60ff-7fbb-4ff1-8925-c18fb6f47932",
   "metadata": {},
   "outputs": [],
   "source": [
    "# # Create a DataFrame with TF-IDF scores\n",
    "# tfidf_df = pd.DataFrame(tfidf_scores, columns=feature_names)\n",
    "# tfidf_df"
   ]
  },
  {
   "cell_type": "markdown",
   "id": "24c65d2b-cad1-44f9-8e64-638ce0fd3b10",
   "metadata": {},
   "source": [
    "**Calculate the TF score**"
   ]
  },
  {
   "cell_type": "code",
   "execution_count": 7,
   "id": "37603be8-2fce-4820-a210-79c124bf541e",
   "metadata": {},
   "outputs": [],
   "source": [
    "documents = {\n",
    "    'pros': \" \".join(train.pros_lemmatized.values),\n",
    "    'cons': \" \".join(train.cons_lemmatized.values),\n",
    "}\n",
    "\n",
    "# Create an empty list to store the TF dataframes\n",
    "tfs = []\n",
    "\n",
    "# Iterate through documents and their corresponding text\n",
    "for doc, text in documents.items():\n",
    "    # Split the text into words, count their occurrences, and reset the index\n",
    "    word_counts = pd.Series(text.split()).value_counts().reset_index()\n",
    "\n",
    "    # Rename the columns for clarity and calculate the term frequency (TF)\n",
    "    tf_df = word_counts.rename(columns={'index': 'word', 0: 'word_count'})\n",
    "    tf_df[\"tf\"] = tf_df.word_count / len(text.split())\n",
    "    tf_df = tf_df.assign(doc = doc)\n",
    "\n",
    "    # Append the TF dataframe to the list\n",
    "    tfs.append(tf_df)"
   ]
  },
  {
   "cell_type": "markdown",
   "id": "57fa975f-4a63-4701-89a1-512fbc3a4861",
   "metadata": {},
   "source": [
    "**Calculate IDF score**"
   ]
  },
  {
   "cell_type": "code",
   "execution_count": 9,
   "id": "2ac910bb-3637-4c6e-a8d4-89458492401a",
   "metadata": {},
   "outputs": [],
   "source": [
    "def idf(word):\n",
    "    \"\"\"\n",
    "    calculates the Inverse Document Frequency (IDF) for a given word in a collection of documents.\n",
    "    \"\"\"\n",
    "    n_occurences = sum([1 for doc in documents.values() if word in doc])\n",
    "    return len(documents) / (n_occurences + 1)"
   ]
  },
  {
   "cell_type": "code",
   "execution_count": 13,
   "id": "4882b0a2-6b11-402d-98a1-a0cc8b90ee2d",
   "metadata": {},
   "outputs": [],
   "source": [
    "# Calculate the if-idf score of each word and add to the if dataframe\n",
    "tf_idf_scores = pd.concat(tfs, axis=0).assign(idf=lambda df: df.word.apply(idf)).assign(tf_idf=lambda df: df.idf * df.tf)"
   ]
  },
  {
   "cell_type": "code",
   "execution_count": 15,
   "id": "0eb5e4a1-14e0-4cc4-ad15-5d3d49190360",
   "metadata": {},
   "outputs": [
    {
     "data": {
      "text/html": [
       "<div>\n",
       "<style scoped>\n",
       "    .dataframe tbody tr th:only-of-type {\n",
       "        vertical-align: middle;\n",
       "    }\n",
       "\n",
       "    .dataframe tbody tr th {\n",
       "        vertical-align: top;\n",
       "    }\n",
       "\n",
       "    .dataframe thead th {\n",
       "        text-align: right;\n",
       "    }\n",
       "</style>\n",
       "<table border=\"1\" class=\"dataframe\">\n",
       "  <thead>\n",
       "    <tr style=\"text-align: right;\">\n",
       "      <th></th>\n",
       "      <th>word</th>\n",
       "      <th>word_count</th>\n",
       "      <th>tf</th>\n",
       "      <th>doc</th>\n",
       "      <th>idf</th>\n",
       "      <th>tf_idf</th>\n",
       "    </tr>\n",
       "  </thead>\n",
       "  <tbody>\n",
       "    <tr>\n",
       "      <th>0</th>\n",
       "      <td>work</td>\n",
       "      <td>21492</td>\n",
       "      <td>0.036295</td>\n",
       "      <td>pros</td>\n",
       "      <td>0.666667</td>\n",
       "      <td>0.024197</td>\n",
       "    </tr>\n",
       "    <tr>\n",
       "      <th>1</th>\n",
       "      <td>great</td>\n",
       "      <td>20580</td>\n",
       "      <td>0.034755</td>\n",
       "      <td>pros</td>\n",
       "      <td>0.666667</td>\n",
       "      <td>0.023170</td>\n",
       "    </tr>\n",
       "    <tr>\n",
       "      <th>2</th>\n",
       "      <td>good</td>\n",
       "      <td>20196</td>\n",
       "      <td>0.034107</td>\n",
       "      <td>pros</td>\n",
       "      <td>0.666667</td>\n",
       "      <td>0.022738</td>\n",
       "    </tr>\n",
       "    <tr>\n",
       "      <th>3</th>\n",
       "      <td>benefit</td>\n",
       "      <td>11616</td>\n",
       "      <td>0.019617</td>\n",
       "      <td>pros</td>\n",
       "      <td>0.666667</td>\n",
       "      <td>0.013078</td>\n",
       "    </tr>\n",
       "    <tr>\n",
       "      <th>4</th>\n",
       "      <td>people</td>\n",
       "      <td>9423</td>\n",
       "      <td>0.015913</td>\n",
       "      <td>pros</td>\n",
       "      <td>0.666667</td>\n",
       "      <td>0.010609</td>\n",
       "    </tr>\n",
       "  </tbody>\n",
       "</table>\n",
       "</div>"
      ],
      "text/plain": [
       "      word  word_count        tf   doc       idf    tf_idf\n",
       "0     work       21492  0.036295  pros  0.666667  0.024197\n",
       "1    great       20580  0.034755  pros  0.666667  0.023170\n",
       "2     good       20196  0.034107  pros  0.666667  0.022738\n",
       "3  benefit       11616  0.019617  pros  0.666667  0.013078\n",
       "4   people        9423  0.015913  pros  0.666667  0.010609"
      ]
     },
     "execution_count": 15,
     "metadata": {},
     "output_type": "execute_result"
    }
   ],
   "source": [
    "tf_idf_scores.head()"
   ]
  },
  {
   "cell_type": "markdown",
   "id": "1d7f12d6-e780-42b1-924f-0ce51930828d",
   "metadata": {},
   "source": [
    "**Add sentiment scores for each word**"
   ]
  },
  {
   "cell_type": "code",
   "execution_count": 18,
   "id": "92967dc5-5c66-486e-9b36-9e1f9bac92a6",
   "metadata": {},
   "outputs": [],
   "source": [
    "# use polarity_scores from that object\n",
    "sia = nltk.sentiment.SentimentIntensityAnalyzer()\n",
    "# grab the sentiment from each of the texts as they stand\n",
    "tf_idf_scores['sentiment'] = tf_idf_scores.word.apply(lambda doc: sia.polarity_scores(doc)['compound'])"
   ]
  },
  {
   "cell_type": "code",
   "execution_count": 19,
   "id": "935c79e5-55c6-45e2-b026-3bd3db35c8d5",
   "metadata": {},
   "outputs": [
    {
     "data": {
      "text/html": [
       "<div>\n",
       "<style scoped>\n",
       "    .dataframe tbody tr th:only-of-type {\n",
       "        vertical-align: middle;\n",
       "    }\n",
       "\n",
       "    .dataframe tbody tr th {\n",
       "        vertical-align: top;\n",
       "    }\n",
       "\n",
       "    .dataframe thead th {\n",
       "        text-align: right;\n",
       "    }\n",
       "</style>\n",
       "<table border=\"1\" class=\"dataframe\">\n",
       "  <thead>\n",
       "    <tr style=\"text-align: right;\">\n",
       "      <th></th>\n",
       "      <th>word</th>\n",
       "      <th>word_count</th>\n",
       "      <th>tf</th>\n",
       "      <th>doc</th>\n",
       "      <th>idf</th>\n",
       "      <th>tf_idf</th>\n",
       "      <th>sentiment</th>\n",
       "    </tr>\n",
       "  </thead>\n",
       "  <tbody>\n",
       "    <tr>\n",
       "      <th>0</th>\n",
       "      <td>work</td>\n",
       "      <td>21492</td>\n",
       "      <td>0.036295</td>\n",
       "      <td>pros</td>\n",
       "      <td>0.666667</td>\n",
       "      <td>0.024197</td>\n",
       "      <td>0.0000</td>\n",
       "    </tr>\n",
       "    <tr>\n",
       "      <th>1</th>\n",
       "      <td>great</td>\n",
       "      <td>20580</td>\n",
       "      <td>0.034755</td>\n",
       "      <td>pros</td>\n",
       "      <td>0.666667</td>\n",
       "      <td>0.023170</td>\n",
       "      <td>0.6249</td>\n",
       "    </tr>\n",
       "    <tr>\n",
       "      <th>2</th>\n",
       "      <td>good</td>\n",
       "      <td>20196</td>\n",
       "      <td>0.034107</td>\n",
       "      <td>pros</td>\n",
       "      <td>0.666667</td>\n",
       "      <td>0.022738</td>\n",
       "      <td>0.4404</td>\n",
       "    </tr>\n",
       "    <tr>\n",
       "      <th>3</th>\n",
       "      <td>benefit</td>\n",
       "      <td>11616</td>\n",
       "      <td>0.019617</td>\n",
       "      <td>pros</td>\n",
       "      <td>0.666667</td>\n",
       "      <td>0.013078</td>\n",
       "      <td>0.4588</td>\n",
       "    </tr>\n",
       "    <tr>\n",
       "      <th>4</th>\n",
       "      <td>people</td>\n",
       "      <td>9423</td>\n",
       "      <td>0.015913</td>\n",
       "      <td>pros</td>\n",
       "      <td>0.666667</td>\n",
       "      <td>0.010609</td>\n",
       "      <td>0.0000</td>\n",
       "    </tr>\n",
       "  </tbody>\n",
       "</table>\n",
       "</div>"
      ],
      "text/plain": [
       "      word  word_count        tf   doc       idf    tf_idf  sentiment\n",
       "0     work       21492  0.036295  pros  0.666667  0.024197     0.0000\n",
       "1    great       20580  0.034755  pros  0.666667  0.023170     0.6249\n",
       "2     good       20196  0.034107  pros  0.666667  0.022738     0.4404\n",
       "3  benefit       11616  0.019617  pros  0.666667  0.013078     0.4588\n",
       "4   people        9423  0.015913  pros  0.666667  0.010609     0.0000"
      ]
     },
     "execution_count": 19,
     "metadata": {},
     "output_type": "execute_result"
    }
   ],
   "source": [
    "tf_idf_scores.head()"
   ]
  },
  {
   "cell_type": "markdown",
   "id": "47e5ea56-4c6a-4f24-860c-41f840a425e5",
   "metadata": {},
   "source": [
    "### Test documents together"
   ]
  },
  {
   "cell_type": "markdown",
   "id": "4c3f4e13-d3ba-4b6b-8508-c2d73a44d691",
   "metadata": {},
   "source": [
    "1. **Does word count affect sentiment?**\n",
    "   - Null Hypothesis (H0): There is no significant relationship between word count and sentiment.\n",
    "   - Alternative Hypothesis (H1): There is a significant relationship between word count and sentiment."
   ]
  },
  {
   "cell_type": "code",
   "execution_count": null,
   "id": "1df281a1-0363-43fb-98e6-640a027600d5",
   "metadata": {},
   "outputs": [],
   "source": []
  },
  {
   "cell_type": "markdown",
   "id": "5d89f9fa-ad1d-4be8-b3d0-6536268b925b",
   "metadata": {},
   "source": [
    "2. **Is there a correlation between word frequency (tf) and sentiment?**\n",
    "   - H0: There is no significant correlation between word frequency (tf) and sentiment.\n",
    "   - H1: There is a significant correlation between word frequency (tf) and sentiment."
   ]
  },
  {
   "cell_type": "code",
   "execution_count": null,
   "id": "476fa409-d464-4451-9be0-e38f8452c8c1",
   "metadata": {},
   "outputs": [],
   "source": []
  },
  {
   "cell_type": "markdown",
   "id": "2d569e1a-a67a-442c-9726-cdef5413a3f6",
   "metadata": {},
   "source": [
    "3. **Does the inverse document frequency (idf) of a word impact its sentiment?**\n",
    "   - H0: There is no significant impact of inverse document frequency (idf) on sentiment.\n",
    "   - H1: There is a significant impact of inverse document frequency (idf) on sentiment."
   ]
  },
  {
   "cell_type": "code",
   "execution_count": null,
   "id": "d78a6436-4d22-4f10-bb82-bd0f43754058",
   "metadata": {},
   "outputs": [],
   "source": []
  },
  {
   "cell_type": "markdown",
   "id": "7ff75aaa-bdcf-428b-b855-f4325bda584a",
   "metadata": {},
   "source": [
    "4. **Do words with higher tf-idf scores tend to have a specific sentiment?**\n",
    "   - H0: There is no significant relationship between tf-idf scores and sentiment.\n",
    "   - H1: There is a significant relationship between tf-idf scores and sentiment."
   ]
  },
  {
   "cell_type": "code",
   "execution_count": null,
   "id": "a18f02e5-c7b5-4507-9fcf-5b5157cd09b7",
   "metadata": {},
   "outputs": [],
   "source": []
  },
  {
   "cell_type": "markdown",
   "id": "43e128b6-9235-4803-a6bc-c6fd5e49975e",
   "metadata": {},
   "source": [
    "5. **Is there a significant difference in sentiment between different documents (doc) or groups of documents?**\n",
    "   - H0: There is no significant difference in sentiment between documents or groups of documents.\n",
    "   - H1: There is a significant difference in sentiment between documents or groups of documents."
   ]
  },
  {
   "cell_type": "code",
   "execution_count": null,
   "id": "f9b9b40f-af9e-46ff-96be-b656a1e9b202",
   "metadata": {},
   "outputs": [],
   "source": []
  },
  {
   "cell_type": "markdown",
   "id": "b2375493-ec99-430d-980d-c7ba0e562dde",
   "metadata": {},
   "source": [
    "6. **Do specific words have significantly different sentiment scores compared to the overall sentiment of the documents they appear in?**\n",
    "   - H0: The sentiment of specific words is not significantly different from the overall sentiment of the documents they appear in.\n",
    "   - H1: The sentiment of specific words is significantly different from the overall sentiment of the documents they appear in."
   ]
  },
  {
   "cell_type": "code",
   "execution_count": null,
   "id": "c75c6ff5-1e0e-48b9-ae87-b2097ae5db74",
   "metadata": {},
   "outputs": [],
   "source": []
  },
  {
   "cell_type": "markdown",
   "id": "b4d636e2-d811-47c3-94e0-62ac2d69bf03",
   "metadata": {},
   "source": [
    "7. **Is there a significant difference in sentiment scores across different word categories or topics?**\n",
    "   - H0: There is no significant difference in sentiment scores across word categories or topics.\n",
    "   - H1: There is a significant difference in sentiment scores across word categories or topics."
   ]
  },
  {
   "cell_type": "code",
   "execution_count": null,
   "id": "87d09d05-b1da-45db-98ed-d50630c61a83",
   "metadata": {},
   "outputs": [],
   "source": []
  },
  {
   "cell_type": "markdown",
   "id": "87f51043-5828-40c2-817b-53f59e863368",
   "metadata": {},
   "source": [
    "8. **Does the sentiment of a document correlate with its length (word count)?**\n",
    "   - H0: There is no significant correlation between document length and sentiment.\n",
    "   - H1: There is a significant correlation between document length and sentiment."
   ]
  },
  {
   "cell_type": "code",
   "execution_count": null,
   "id": "fa3b4d0b-c822-4d1a-9932-4f98bb441b0a",
   "metadata": {},
   "outputs": [],
   "source": []
  },
  {
   "cell_type": "markdown",
   "id": "451eaf45-5eef-4384-b78d-8fa4fb705e43",
   "metadata": {},
   "source": [
    "9. **Is there a significant difference in sentiment scores across different documents (doc)?**\n",
    "   - H0: There is no significant difference in sentiment scores across different documents.\n",
    "   - H1: There is a significant difference in sentiment scores across different documents."
   ]
  },
  {
   "cell_type": "code",
   "execution_count": null,
   "id": "c21b931c-87bd-4c6e-995d-0a021e9ccfe9",
   "metadata": {},
   "outputs": [],
   "source": []
  },
  {
   "cell_type": "markdown",
   "id": "905dac42-0d55-4348-9731-daf215a2f7b5",
   "metadata": {},
   "source": [
    "10. **Does sentiment vary significantly between documents with different levels of word frequency (tf)?**\n",
    "    - H0: There is no significant difference in sentiment between documents with different levels of word frequency (tf).\n",
    "    - H1: There is a significant difference in sentiment between documents with different levels of word frequency (tf)."
   ]
  },
  {
   "cell_type": "markdown",
   "id": "b0f5a12c-edfc-4cb0-9a64-08eccb83284d",
   "metadata": {},
   "source": [
    "### Test documents seperatly"
   ]
  },
  {
   "cell_type": "markdown",
   "id": "d9dd5e2d-83a6-4dc7-a747-f3bed3276774",
   "metadata": {},
   "source": [
    "1. **Is there a significant difference in sentiment between the two documents?**\n",
    "   - H0: There is no significant difference in sentiment between the two documents.\n",
    "   - H1: There is a significant difference in sentiment between the two documents."
   ]
  },
  {
   "cell_type": "code",
   "execution_count": null,
   "id": "dd55db94-df7d-48aa-b550-68041faafe5a",
   "metadata": {},
   "outputs": [],
   "source": []
  },
  {
   "cell_type": "markdown",
   "id": "e281c6a5-79f5-4cd2-a4dc-3b44e4c46eaa",
   "metadata": {},
   "source": [
    "2. **Do specific words have significantly different sentiment scores between the two documents?**\n",
    "   - H0: The sentiment of specific words is not significantly different between the two documents.\n",
    "   - H1: The sentiment of specific words is significantly different between the two documents."
   ]
  },
  {
   "cell_type": "code",
   "execution_count": null,
   "id": "3f4d8936-52ed-4a76-94e6-ad263fa73107",
   "metadata": {},
   "outputs": [],
   "source": []
  },
  {
   "cell_type": "markdown",
   "id": "1b104623-b43b-4f31-8824-95c032cdac74",
   "metadata": {},
   "source": [
    "3. **Is there a significant correlation between word frequency (tf) and sentiment within each document?**\n",
    "   - For Document 1:\n",
    "     - H0: There is no significant correlation between word frequency (tf) and sentiment within Document 1.\n",
    "     - H1: There is a significant correlation between word frequency (tf) and sentiment within Document 1."
   ]
  },
  {
   "cell_type": "code",
   "execution_count": null,
   "id": "4a9bd695-3622-4c35-8d1d-994ac72ef27d",
   "metadata": {},
   "outputs": [],
   "source": []
  },
  {
   "cell_type": "markdown",
   "id": "8e901331-2f40-4fe2-84c8-2c0101ef06b0",
   "metadata": {},
   "source": [
    "   - For Document 2:\n",
    "     - H0: There is no significant correlation between word frequency (tf) and sentiment within Document 2.\n",
    "     - H1: There is a significant correlation between word frequency (tf) and sentiment within Document 2."
   ]
  },
  {
   "cell_type": "code",
   "execution_count": null,
   "id": "ecf9718d-03e2-4119-a3c5-d91f799e4646",
   "metadata": {},
   "outputs": [],
   "source": []
  },
  {
   "cell_type": "markdown",
   "id": "2790a0c9-d617-4724-938d-55efab08db7b",
   "metadata": {},
   "source": [
    "4. **Is there a significant difference in sentiment scores between words in Document 1 and words in Document 2?**\n",
    "   - H0: There is no significant difference in sentiment scores between words in Document 1 and words in Document 2.\n",
    "   - H1: There is a significant difference in sentiment scores between words in Document 1 and words in Document 2."
   ]
  },
  {
   "cell_type": "code",
   "execution_count": null,
   "id": "92f0af76-7491-479b-8aa6-95cd3b0744b9",
   "metadata": {},
   "outputs": [],
   "source": []
  },
  {
   "cell_type": "markdown",
   "id": "6e366638-2694-4410-bca2-d90fc510f1ea",
   "metadata": {},
   "source": [
    "5. **Does the sentiment of each document correlate with its respective word count?**\n",
    "   - For Document 1:\n",
    "     - H0: There is no significant correlation between the word count of Document 1 and its sentiment.\n",
    "     - H1: There is a significant correlation between the word count of Document 1 and its sentiment."
   ]
  },
  {
   "cell_type": "code",
   "execution_count": null,
   "id": "15ffa797-468f-4f20-8e1a-2caf449f4662",
   "metadata": {},
   "outputs": [],
   "source": []
  },
  {
   "cell_type": "markdown",
   "id": "478635ca-91fa-4416-9796-61ffd215f900",
   "metadata": {},
   "source": [
    "   - For Document 2:\n",
    "     - H0: There is no significant correlation between the word count of Document 2 and its sentiment.\n",
    "     - H1: There is a significant correlation between the word count of Document 2 and its sentiment."
   ]
  },
  {
   "cell_type": "code",
   "execution_count": null,
   "id": "fb8a3e71-35ff-48e3-bea7-def610ff1a69",
   "metadata": {},
   "outputs": [],
   "source": []
  },
  {
   "cell_type": "markdown",
   "id": "6eb5a74c-9e62-4a2a-b046-cac9efaaf067",
   "metadata": {},
   "source": [
    "6. **Is there a significant difference in sentiment scores between the two documents based on their word count?**\n",
    "   - H0: There is no significant difference in sentiment scores between the two documents based on their word count.\n",
    "   - H1: There is a significant difference in sentiment scores between the two documents based on their word count."
   ]
  },
  {
   "cell_type": "code",
   "execution_count": null,
   "id": "e87acdcd-f3cf-4fee-895c-73c4758ffb89",
   "metadata": {},
   "outputs": [],
   "source": []
  },
  {
   "cell_type": "markdown",
   "id": "c6c3fa59-e309-4172-9089-d3f37251fac8",
   "metadata": {},
   "source": [
    "7. **Do specific words have significantly different sentiment scores between Document 1 and Document 2 based on their tf-idf scores within each document?**\n",
    "   - H0: The sentiment of specific words is not significantly different between Document 1 and Document 2 based on their tf-idf scores.\n",
    "   - H1: The sentiment of specific words is significantly different between Document 1 and Document 2 based on their tf-idf scores."
   ]
  },
  {
   "cell_type": "code",
   "execution_count": null,
   "id": "ef645075-0f52-450e-9b97-e0678df9ce2a",
   "metadata": {},
   "outputs": [],
   "source": []
  }
 ],
 "metadata": {
  "kernelspec": {
   "display_name": "Python 3 (ipykernel)",
   "language": "python",
   "name": "python3"
  },
  "language_info": {
   "codemirror_mode": {
    "name": "ipython",
    "version": 3
   },
   "file_extension": ".py",
   "mimetype": "text/x-python",
   "name": "python",
   "nbconvert_exporter": "python",
   "pygments_lexer": "ipython3",
   "version": "3.10.9"
  }
 },
 "nbformat": 4,
 "nbformat_minor": 5
}
