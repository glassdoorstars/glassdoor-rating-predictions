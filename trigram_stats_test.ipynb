{
 "cells": [
  {
   "cell_type": "markdown",
   "id": "ecba1723-bd8e-4a2e-958e-fcf1e28cb61e",
   "metadata": {},
   "source": [
    "# STATS"
   ]
  },
  {
   "cell_type": "code",
   "execution_count": 26,
   "id": "e0f7d609-7d7a-4665-8aaa-bcbb4157f2cd",
   "metadata": {},
   "outputs": [],
   "source": [
    "import pandas as pd\n",
    "import matplotlib.pyplot as plt\n",
    "import seaborn as sns\n",
    "from scipy import stats\n",
    "import wrangle\n",
    "\n",
    "import pandas as pd\n",
    "from sklearn.feature_extraction.text import TfidfVectorizer\n",
    "import nltk.sentiment"
   ]
  },
  {
   "cell_type": "code",
   "execution_count": 21,
   "id": "1e2f33c3-25a3-4385-aca2-cb36c99e3895",
   "metadata": {},
   "outputs": [],
   "source": [
    "train, val, test = wrangle.wrangle_glassdoor()\n",
    "three_star = train[train.binned_rating_int == 3]\n",
    "four_star = train[train.binned_rating_int == 4]"
   ]
  },
  {
   "cell_type": "code",
   "execution_count": 6,
   "id": "f1840bbe-99b8-413b-bf78-8893bbef0d3a",
   "metadata": {},
   "outputs": [
    {
     "data": {
      "text/html": [
       "<div>\n",
       "<style scoped>\n",
       "    .dataframe tbody tr th:only-of-type {\n",
       "        vertical-align: middle;\n",
       "    }\n",
       "\n",
       "    .dataframe tbody tr th {\n",
       "        vertical-align: top;\n",
       "    }\n",
       "\n",
       "    .dataframe thead th {\n",
       "        text-align: right;\n",
       "    }\n",
       "</style>\n",
       "<table border=\"1\" class=\"dataframe\">\n",
       "  <thead>\n",
       "    <tr style=\"text-align: right;\">\n",
       "      <th></th>\n",
       "      <th>pros</th>\n",
       "      <th>cons</th>\n",
       "      <th>name</th>\n",
       "      <th>rating</th>\n",
       "      <th>ceo_approval</th>\n",
       "      <th>friend_recommendation</th>\n",
       "      <th>pros_cleaned</th>\n",
       "      <th>pros_lemmatized</th>\n",
       "      <th>cons_cleaned</th>\n",
       "      <th>cons_lemmatized</th>\n",
       "      <th>binned_rating</th>\n",
       "      <th>binned_rating_int</th>\n",
       "    </tr>\n",
       "    <tr>\n",
       "      <th>url</th>\n",
       "      <th></th>\n",
       "      <th></th>\n",
       "      <th></th>\n",
       "      <th></th>\n",
       "      <th></th>\n",
       "      <th></th>\n",
       "      <th></th>\n",
       "      <th></th>\n",
       "      <th></th>\n",
       "      <th></th>\n",
       "      <th></th>\n",
       "      <th></th>\n",
       "    </tr>\n",
       "  </thead>\n",
       "  <tbody>\n",
       "    <tr>\n",
       "      <th>https://www.glassdoor.com/Reviews/Perficient-Reviews-E9329.htm</th>\n",
       "      <td>Perficient is an ethical company that actually...</td>\n",
       "      <td>None at all, love, love, love this company!\\nI...</td>\n",
       "      <td>Perficient</td>\n",
       "      <td>4.1</td>\n",
       "      <td>87.0</td>\n",
       "      <td>80.0</td>\n",
       "      <td>perficient is an ethical company that actually...</td>\n",
       "      <td>perficient ethical company actually value empl...</td>\n",
       "      <td>none at all love love love this company\\nit is...</td>\n",
       "      <td>none love love love company good company canno...</td>\n",
       "      <td>Four</td>\n",
       "      <td>4</td>\n",
       "    </tr>\n",
       "    <tr>\n",
       "      <th>https://www.glassdoor.com/Reviews/MIT-Reviews-E2889.htm</th>\n",
       "      <td>Very inspiring place to work at, to feel that ...</td>\n",
       "      <td>Depends on the project to how much organizatio...</td>\n",
       "      <td>MIT</td>\n",
       "      <td>4.4</td>\n",
       "      <td>90.0</td>\n",
       "      <td>86.0</td>\n",
       "      <td>very inspiring place to work at to feel that s...</td>\n",
       "      <td>inspiring place work feel something new happen...</td>\n",
       "      <td>depends on the project to how much organizatio...</td>\n",
       "      <td>depends project much organization team include...</td>\n",
       "      <td>Four</td>\n",
       "      <td>4</td>\n",
       "    </tr>\n",
       "    <tr>\n",
       "      <th>https://www.glassdoor.com/Reviews/Morningstar-Reviews-E3299.htm</th>\n",
       "      <td>- Coworkers are amicable, and they're overall ...</td>\n",
       "      <td>- Base pay for the area could be slightly high...</td>\n",
       "      <td>Morningstar</td>\n",
       "      <td>4.1</td>\n",
       "      <td>94.0</td>\n",
       "      <td>86.0</td>\n",
       "      <td>coworkers are amicable and they ' re overall v...</td>\n",
       "      <td>coworkers amicable ' overall supportive unlimi...</td>\n",
       "      <td>base pay for the area could be slightly higher...</td>\n",
       "      <td>base pay area could slightly higher bonus prog...</td>\n",
       "      <td>Four</td>\n",
       "      <td>4</td>\n",
       "    </tr>\n",
       "    <tr>\n",
       "      <th>https://www.glassdoor.com/Reviews/L-Or%C3%A9al-Reviews-E3470.htm</th>\n",
       "      <td>Good pay and benefits. Paid time off. Work lif...</td>\n",
       "      <td>No cons at the moment\\nonly Location could be ...</td>\n",
       "      <td>L'Oréal</td>\n",
       "      <td>4.0</td>\n",
       "      <td>92.0</td>\n",
       "      <td>79.0</td>\n",
       "      <td>good pay and benefits paid time off work life ...</td>\n",
       "      <td>good pay benefit paid time work life balance c...</td>\n",
       "      <td>no cons at the moment\\nonly location could be ...</td>\n",
       "      <td>con moment location could better politics stre...</td>\n",
       "      <td>Four</td>\n",
       "      <td>4</td>\n",
       "    </tr>\n",
       "    <tr>\n",
       "      <th>https://www.glassdoor.com/Reviews/Novartis-Reviews-E6667.htm</th>\n",
       "      <td>Strong rewards and incentives: salary, bonus, ...</td>\n",
       "      <td>Leadership says one thing (e.g., be unbossed) ...</td>\n",
       "      <td>Novartis</td>\n",
       "      <td>4.0</td>\n",
       "      <td>81.0</td>\n",
       "      <td>78.0</td>\n",
       "      <td>strong rewards and incentives salary bonus sto...</td>\n",
       "      <td>strong reward incentive salary bonus stock hea...</td>\n",
       "      <td>leadership says one thing eg be unbossed but c...</td>\n",
       "      <td>leadership say one thing eg unbossed consisten...</td>\n",
       "      <td>Four</td>\n",
       "      <td>4</td>\n",
       "    </tr>\n",
       "  </tbody>\n",
       "</table>\n",
       "</div>"
      ],
      "text/plain": [
       "                                                                                                 pros  \\\n",
       "url                                                                                                     \n",
       "https://www.glassdoor.com/Reviews/Perficient-Re...  Perficient is an ethical company that actually...   \n",
       "https://www.glassdoor.com/Reviews/MIT-Reviews-E...  Very inspiring place to work at, to feel that ...   \n",
       "https://www.glassdoor.com/Reviews/Morningstar-R...  - Coworkers are amicable, and they're overall ...   \n",
       "https://www.glassdoor.com/Reviews/L-Or%C3%A9al-...  Good pay and benefits. Paid time off. Work lif...   \n",
       "https://www.glassdoor.com/Reviews/Novartis-Revi...  Strong rewards and incentives: salary, bonus, ...   \n",
       "\n",
       "                                                                                                 cons  \\\n",
       "url                                                                                                     \n",
       "https://www.glassdoor.com/Reviews/Perficient-Re...  None at all, love, love, love this company!\\nI...   \n",
       "https://www.glassdoor.com/Reviews/MIT-Reviews-E...  Depends on the project to how much organizatio...   \n",
       "https://www.glassdoor.com/Reviews/Morningstar-R...  - Base pay for the area could be slightly high...   \n",
       "https://www.glassdoor.com/Reviews/L-Or%C3%A9al-...  No cons at the moment\\nonly Location could be ...   \n",
       "https://www.glassdoor.com/Reviews/Novartis-Revi...  Leadership says one thing (e.g., be unbossed) ...   \n",
       "\n",
       "                                                           name  rating  \\\n",
       "url                                                                       \n",
       "https://www.glassdoor.com/Reviews/Perficient-Re...   Perficient     4.1   \n",
       "https://www.glassdoor.com/Reviews/MIT-Reviews-E...          MIT     4.4   \n",
       "https://www.glassdoor.com/Reviews/Morningstar-R...  Morningstar     4.1   \n",
       "https://www.glassdoor.com/Reviews/L-Or%C3%A9al-...      L'Oréal     4.0   \n",
       "https://www.glassdoor.com/Reviews/Novartis-Revi...     Novartis     4.0   \n",
       "\n",
       "                                                    ceo_approval  \\\n",
       "url                                                                \n",
       "https://www.glassdoor.com/Reviews/Perficient-Re...          87.0   \n",
       "https://www.glassdoor.com/Reviews/MIT-Reviews-E...          90.0   \n",
       "https://www.glassdoor.com/Reviews/Morningstar-R...          94.0   \n",
       "https://www.glassdoor.com/Reviews/L-Or%C3%A9al-...          92.0   \n",
       "https://www.glassdoor.com/Reviews/Novartis-Revi...          81.0   \n",
       "\n",
       "                                                    friend_recommendation  \\\n",
       "url                                                                         \n",
       "https://www.glassdoor.com/Reviews/Perficient-Re...                   80.0   \n",
       "https://www.glassdoor.com/Reviews/MIT-Reviews-E...                   86.0   \n",
       "https://www.glassdoor.com/Reviews/Morningstar-R...                   86.0   \n",
       "https://www.glassdoor.com/Reviews/L-Or%C3%A9al-...                   79.0   \n",
       "https://www.glassdoor.com/Reviews/Novartis-Revi...                   78.0   \n",
       "\n",
       "                                                                                         pros_cleaned  \\\n",
       "url                                                                                                     \n",
       "https://www.glassdoor.com/Reviews/Perficient-Re...  perficient is an ethical company that actually...   \n",
       "https://www.glassdoor.com/Reviews/MIT-Reviews-E...  very inspiring place to work at to feel that s...   \n",
       "https://www.glassdoor.com/Reviews/Morningstar-R...  coworkers are amicable and they ' re overall v...   \n",
       "https://www.glassdoor.com/Reviews/L-Or%C3%A9al-...  good pay and benefits paid time off work life ...   \n",
       "https://www.glassdoor.com/Reviews/Novartis-Revi...  strong rewards and incentives salary bonus sto...   \n",
       "\n",
       "                                                                                      pros_lemmatized  \\\n",
       "url                                                                                                     \n",
       "https://www.glassdoor.com/Reviews/Perficient-Re...  perficient ethical company actually value empl...   \n",
       "https://www.glassdoor.com/Reviews/MIT-Reviews-E...  inspiring place work feel something new happen...   \n",
       "https://www.glassdoor.com/Reviews/Morningstar-R...  coworkers amicable ' overall supportive unlimi...   \n",
       "https://www.glassdoor.com/Reviews/L-Or%C3%A9al-...  good pay benefit paid time work life balance c...   \n",
       "https://www.glassdoor.com/Reviews/Novartis-Revi...  strong reward incentive salary bonus stock hea...   \n",
       "\n",
       "                                                                                         cons_cleaned  \\\n",
       "url                                                                                                     \n",
       "https://www.glassdoor.com/Reviews/Perficient-Re...  none at all love love love this company\\nit is...   \n",
       "https://www.glassdoor.com/Reviews/MIT-Reviews-E...  depends on the project to how much organizatio...   \n",
       "https://www.glassdoor.com/Reviews/Morningstar-R...  base pay for the area could be slightly higher...   \n",
       "https://www.glassdoor.com/Reviews/L-Or%C3%A9al-...  no cons at the moment\\nonly location could be ...   \n",
       "https://www.glassdoor.com/Reviews/Novartis-Revi...  leadership says one thing eg be unbossed but c...   \n",
       "\n",
       "                                                                                      cons_lemmatized  \\\n",
       "url                                                                                                     \n",
       "https://www.glassdoor.com/Reviews/Perficient-Re...  none love love love company good company canno...   \n",
       "https://www.glassdoor.com/Reviews/MIT-Reviews-E...  depends project much organization team include...   \n",
       "https://www.glassdoor.com/Reviews/Morningstar-R...  base pay area could slightly higher bonus prog...   \n",
       "https://www.glassdoor.com/Reviews/L-Or%C3%A9al-...  con moment location could better politics stre...   \n",
       "https://www.glassdoor.com/Reviews/Novartis-Revi...  leadership say one thing eg unbossed consisten...   \n",
       "\n",
       "                                                   binned_rating  \\\n",
       "url                                                                \n",
       "https://www.glassdoor.com/Reviews/Perficient-Re...          Four   \n",
       "https://www.glassdoor.com/Reviews/MIT-Reviews-E...          Four   \n",
       "https://www.glassdoor.com/Reviews/Morningstar-R...          Four   \n",
       "https://www.glassdoor.com/Reviews/L-Or%C3%A9al-...          Four   \n",
       "https://www.glassdoor.com/Reviews/Novartis-Revi...          Four   \n",
       "\n",
       "                                                   binned_rating_int  \n",
       "url                                                                   \n",
       "https://www.glassdoor.com/Reviews/Perficient-Re...                 4  \n",
       "https://www.glassdoor.com/Reviews/MIT-Reviews-E...                 4  \n",
       "https://www.glassdoor.com/Reviews/Morningstar-R...                 4  \n",
       "https://www.glassdoor.com/Reviews/L-Or%C3%A9al-...                 4  \n",
       "https://www.glassdoor.com/Reviews/Novartis-Revi...                 4  "
      ]
     },
     "execution_count": 6,
     "metadata": {},
     "output_type": "execute_result"
    }
   ],
   "source": [
    "four_star.head()"
   ]
  },
  {
   "cell_type": "markdown",
   "id": "d4f4ff2c-4a1e-4b51-8f74-17093a273a6e",
   "metadata": {},
   "source": [
    "# Significance of words (tf-idf)"
   ]
  },
  {
   "cell_type": "markdown",
   "id": "20f0e81d-3477-41d9-b9de-7e40b60a0431",
   "metadata": {},
   "source": [
    "The IDF (Inverse Document Frequency) score is calculated to measure the importance of a word within a collection of documents. The IDF score indicates how rare or common a word is across the entire corpus.\n",
    "\n",
    "- A higher IDF score suggests that a word is more unique and significant within the collection of documents."
   ]
  },
  {
   "cell_type": "code",
   "execution_count": 7,
   "id": "8439fb62-959e-45d1-bab2-40dbada00ea5",
   "metadata": {},
   "outputs": [],
   "source": [
    "def generate_trigrams(lemmatized):\n",
    "    words = lemmatized.split()\n",
    "    trigrams = []\n",
    "    \n",
    "    if len(words) < 3:\n",
    "        return trigrams\n",
    "\n",
    "    for i in range(len(words) - 1):\n",
    "        if len(words[i]) > 1 and len(words[i+1]) > 1:\n",
    "            trigram = \" \".join(words[i:i+3])\n",
    "            trigrams.append(trigram)\n",
    "\n",
    "    return trigrams"
   ]
  },
  {
   "cell_type": "markdown",
   "id": "24c65d2b-cad1-44f9-8e64-638ce0fd3b10",
   "metadata": {},
   "source": [
    "**Calculate the TF score**"
   ]
  },
  {
   "cell_type": "code",
   "execution_count": 8,
   "id": "37603be8-2fce-4820-a210-79c124bf541e",
   "metadata": {},
   "outputs": [],
   "source": [
    "documents = {\n",
    "    'pros': \" \".join(four_star.pros_lemmatized.values),\n",
    "    'cons': \" \".join(four_star.cons_lemmatized.values),\n",
    "}\n",
    "\n",
    "# Create an empty list to store the TF dataframes\n",
    "tfs = []\n",
    "\n",
    "# Iterate through documents and their corresponding text\n",
    "for doc, text in documents.items():\n",
    "    # Split the text into words, count their occurrences, and reset the index\n",
    "    word_counts = pd.Series(generate_trigrams(text)).value_counts()\n",
    "\n",
    "    # Rename the columns for clarity and calculate the term frequency (TF)\n",
    "    tf_df = pd.DataFrame(word_counts).reset_index()\n",
    "    tf_df.columns = ['word', 'count']\n",
    "    tf_df[\"tf\"] = tf_df['count'] / len(generate_trigrams(text))\n",
    "    tf_df = tf_df.assign(doc = doc)\n",
    "\n",
    "    # Append the TF dataframe to the list\n",
    "    tfs.append(tf_df)"
   ]
  },
  {
   "cell_type": "code",
   "execution_count": 9,
   "id": "2f47f193-6821-454a-8f54-56b522c3b614",
   "metadata": {},
   "outputs": [
    {
     "data": {
      "text/html": [
       "<div>\n",
       "<style scoped>\n",
       "    .dataframe tbody tr th:only-of-type {\n",
       "        vertical-align: middle;\n",
       "    }\n",
       "\n",
       "    .dataframe tbody tr th {\n",
       "        vertical-align: top;\n",
       "    }\n",
       "\n",
       "    .dataframe thead th {\n",
       "        text-align: right;\n",
       "    }\n",
       "</style>\n",
       "<table border=\"1\" class=\"dataframe\">\n",
       "  <thead>\n",
       "    <tr style=\"text-align: right;\">\n",
       "      <th></th>\n",
       "      <th>word</th>\n",
       "      <th>count</th>\n",
       "      <th>tf</th>\n",
       "      <th>doc</th>\n",
       "    </tr>\n",
       "  </thead>\n",
       "  <tbody>\n",
       "    <tr>\n",
       "      <th>0</th>\n",
       "      <td>work life balance</td>\n",
       "      <td>317</td>\n",
       "      <td>0.001410</td>\n",
       "      <td>cons</td>\n",
       "    </tr>\n",
       "    <tr>\n",
       "      <th>1</th>\n",
       "      <td>none none none</td>\n",
       "      <td>101</td>\n",
       "      <td>0.000449</td>\n",
       "      <td>cons</td>\n",
       "    </tr>\n",
       "    <tr>\n",
       "      <th>2</th>\n",
       "      <td>pay could better</td>\n",
       "      <td>72</td>\n",
       "      <td>0.000320</td>\n",
       "      <td>cons</td>\n",
       "    </tr>\n",
       "    <tr>\n",
       "      <th>3</th>\n",
       "      <td>great place work</td>\n",
       "      <td>61</td>\n",
       "      <td>0.000271</td>\n",
       "      <td>cons</td>\n",
       "    </tr>\n",
       "    <tr>\n",
       "      <th>4</th>\n",
       "      <td>get thing done</td>\n",
       "      <td>48</td>\n",
       "      <td>0.000213</td>\n",
       "      <td>cons</td>\n",
       "    </tr>\n",
       "    <tr>\n",
       "      <th>...</th>\n",
       "      <td>...</td>\n",
       "      <td>...</td>\n",
       "      <td>...</td>\n",
       "      <td>...</td>\n",
       "    </tr>\n",
       "    <tr>\n",
       "      <th>184102</th>\n",
       "      <td>make sure company</td>\n",
       "      <td>1</td>\n",
       "      <td>0.000004</td>\n",
       "      <td>cons</td>\n",
       "    </tr>\n",
       "    <tr>\n",
       "      <th>184103</th>\n",
       "      <td>sure company applying</td>\n",
       "      <td>1</td>\n",
       "      <td>0.000004</td>\n",
       "      <td>cons</td>\n",
       "    </tr>\n",
       "    <tr>\n",
       "      <th>184104</th>\n",
       "      <td>company applying within</td>\n",
       "      <td>1</td>\n",
       "      <td>0.000004</td>\n",
       "      <td>cons</td>\n",
       "    </tr>\n",
       "    <tr>\n",
       "      <th>184105</th>\n",
       "      <td>applying within cox</td>\n",
       "      <td>1</td>\n",
       "      <td>0.000004</td>\n",
       "      <td>cons</td>\n",
       "    </tr>\n",
       "    <tr>\n",
       "      <th>184106</th>\n",
       "      <td>kill people</td>\n",
       "      <td>1</td>\n",
       "      <td>0.000004</td>\n",
       "      <td>cons</td>\n",
       "    </tr>\n",
       "  </tbody>\n",
       "</table>\n",
       "<p>184107 rows × 4 columns</p>\n",
       "</div>"
      ],
      "text/plain": [
       "                           word  count        tf   doc\n",
       "0             work life balance    317  0.001410  cons\n",
       "1                none none none    101  0.000449  cons\n",
       "2              pay could better     72  0.000320  cons\n",
       "3              great place work     61  0.000271  cons\n",
       "4                get thing done     48  0.000213  cons\n",
       "...                         ...    ...       ...   ...\n",
       "184102        make sure company      1  0.000004  cons\n",
       "184103    sure company applying      1  0.000004  cons\n",
       "184104  company applying within      1  0.000004  cons\n",
       "184105      applying within cox      1  0.000004  cons\n",
       "184106              kill people      1  0.000004  cons\n",
       "\n",
       "[184107 rows x 4 columns]"
      ]
     },
     "execution_count": 9,
     "metadata": {},
     "output_type": "execute_result"
    }
   ],
   "source": [
    "tfs[1]"
   ]
  },
  {
   "cell_type": "markdown",
   "id": "57fa975f-4a63-4701-89a1-512fbc3a4861",
   "metadata": {},
   "source": [
    "**Calculate IDF score**"
   ]
  },
  {
   "cell_type": "code",
   "execution_count": 10,
   "id": "2ac910bb-3637-4c6e-a8d4-89458492401a",
   "metadata": {},
   "outputs": [],
   "source": [
    "def idf(word):\n",
    "    \"\"\"\n",
    "    calculates the Inverse Document Frequency (IDF) for a given word in a collection of documents.\n",
    "    \"\"\"\n",
    "    n_occurences = sum([1 for doc in documents.values() if word in doc])\n",
    "    return len(documents) / (n_occurences + 1)"
   ]
  },
  {
   "cell_type": "code",
   "execution_count": 11,
   "id": "4882b0a2-6b11-402d-98a1-a0cc8b90ee2d",
   "metadata": {},
   "outputs": [],
   "source": [
    "# Calculate the if-idf score of each word and add to the if dataframe\n",
    "tf_idf_scores = pd.concat(tfs, axis=0).assign(idf=lambda df: df.word.apply(idf)).assign(tf_idf=lambda df: df.idf * df.tf)"
   ]
  },
  {
   "cell_type": "code",
   "execution_count": 12,
   "id": "35cc86fc-0455-4ede-84d9-3a94c3b404ca",
   "metadata": {},
   "outputs": [
    {
     "data": {
      "text/html": [
       "<div>\n",
       "<style scoped>\n",
       "    .dataframe tbody tr th:only-of-type {\n",
       "        vertical-align: middle;\n",
       "    }\n",
       "\n",
       "    .dataframe tbody tr th {\n",
       "        vertical-align: top;\n",
       "    }\n",
       "\n",
       "    .dataframe thead th {\n",
       "        text-align: right;\n",
       "    }\n",
       "</style>\n",
       "<table border=\"1\" class=\"dataframe\">\n",
       "  <thead>\n",
       "    <tr style=\"text-align: right;\">\n",
       "      <th></th>\n",
       "      <th>word</th>\n",
       "      <th>count</th>\n",
       "      <th>tf</th>\n",
       "      <th>doc</th>\n",
       "      <th>idf</th>\n",
       "      <th>tf_idf</th>\n",
       "    </tr>\n",
       "  </thead>\n",
       "  <tbody>\n",
       "    <tr>\n",
       "      <th>0</th>\n",
       "      <td>work life balance</td>\n",
       "      <td>1066</td>\n",
       "      <td>0.005938</td>\n",
       "      <td>pros</td>\n",
       "      <td>0.666667</td>\n",
       "      <td>0.003958</td>\n",
       "    </tr>\n",
       "    <tr>\n",
       "      <th>1</th>\n",
       "      <td>great place work</td>\n",
       "      <td>287</td>\n",
       "      <td>0.001599</td>\n",
       "      <td>pros</td>\n",
       "      <td>0.666667</td>\n",
       "      <td>0.001066</td>\n",
       "    </tr>\n",
       "    <tr>\n",
       "      <th>2</th>\n",
       "      <td>good work life</td>\n",
       "      <td>284</td>\n",
       "      <td>0.001582</td>\n",
       "      <td>pros</td>\n",
       "      <td>0.666667</td>\n",
       "      <td>0.001055</td>\n",
       "    </tr>\n",
       "    <tr>\n",
       "      <th>3</th>\n",
       "      <td>great company work</td>\n",
       "      <td>165</td>\n",
       "      <td>0.000919</td>\n",
       "      <td>pros</td>\n",
       "      <td>0.666667</td>\n",
       "      <td>0.000613</td>\n",
       "    </tr>\n",
       "    <tr>\n",
       "      <th>4</th>\n",
       "      <td>great work life</td>\n",
       "      <td>153</td>\n",
       "      <td>0.000852</td>\n",
       "      <td>pros</td>\n",
       "      <td>0.666667</td>\n",
       "      <td>0.000568</td>\n",
       "    </tr>\n",
       "  </tbody>\n",
       "</table>\n",
       "</div>"
      ],
      "text/plain": [
       "                 word  count        tf   doc       idf    tf_idf\n",
       "0   work life balance   1066  0.005938  pros  0.666667  0.003958\n",
       "1    great place work    287  0.001599  pros  0.666667  0.001066\n",
       "2      good work life    284  0.001582  pros  0.666667  0.001055\n",
       "3  great company work    165  0.000919  pros  0.666667  0.000613\n",
       "4     great work life    153  0.000852  pros  0.666667  0.000568"
      ]
     },
     "execution_count": 12,
     "metadata": {},
     "output_type": "execute_result"
    }
   ],
   "source": [
    "tf_idf_scores.head()"
   ]
  },
  {
   "cell_type": "markdown",
   "id": "1d7f12d6-e780-42b1-924f-0ce51930828d",
   "metadata": {},
   "source": [
    "**Add sentiment scores for each word**"
   ]
  },
  {
   "cell_type": "code",
   "execution_count": 13,
   "id": "92967dc5-5c66-486e-9b36-9e1f9bac92a6",
   "metadata": {},
   "outputs": [],
   "source": [
    "# use polarity_scores from that object\n",
    "sia = nltk.sentiment.SentimentIntensityAnalyzer()\n",
    "# grab the sentiment from each of the texts as they stand\n",
    "tf_idf_scores['sentiment'] = tf_idf_scores.word.apply(lambda doc: sia.polarity_scores(doc)['compound'])"
   ]
  },
  {
   "cell_type": "code",
   "execution_count": 14,
   "id": "935c79e5-55c6-45e2-b026-3bd3db35c8d5",
   "metadata": {},
   "outputs": [
    {
     "data": {
      "text/html": [
       "<div>\n",
       "<style scoped>\n",
       "    .dataframe tbody tr th:only-of-type {\n",
       "        vertical-align: middle;\n",
       "    }\n",
       "\n",
       "    .dataframe tbody tr th {\n",
       "        vertical-align: top;\n",
       "    }\n",
       "\n",
       "    .dataframe thead th {\n",
       "        text-align: right;\n",
       "    }\n",
       "</style>\n",
       "<table border=\"1\" class=\"dataframe\">\n",
       "  <thead>\n",
       "    <tr style=\"text-align: right;\">\n",
       "      <th></th>\n",
       "      <th>word</th>\n",
       "      <th>count</th>\n",
       "      <th>tf</th>\n",
       "      <th>doc</th>\n",
       "      <th>idf</th>\n",
       "      <th>tf_idf</th>\n",
       "      <th>sentiment</th>\n",
       "    </tr>\n",
       "  </thead>\n",
       "  <tbody>\n",
       "    <tr>\n",
       "      <th>0</th>\n",
       "      <td>work life balance</td>\n",
       "      <td>1066</td>\n",
       "      <td>0.005938</td>\n",
       "      <td>pros</td>\n",
       "      <td>0.666667</td>\n",
       "      <td>0.003958</td>\n",
       "      <td>0.0000</td>\n",
       "    </tr>\n",
       "    <tr>\n",
       "      <th>1</th>\n",
       "      <td>great place work</td>\n",
       "      <td>287</td>\n",
       "      <td>0.001599</td>\n",
       "      <td>pros</td>\n",
       "      <td>0.666667</td>\n",
       "      <td>0.001066</td>\n",
       "      <td>0.6249</td>\n",
       "    </tr>\n",
       "    <tr>\n",
       "      <th>2</th>\n",
       "      <td>good work life</td>\n",
       "      <td>284</td>\n",
       "      <td>0.001582</td>\n",
       "      <td>pros</td>\n",
       "      <td>0.666667</td>\n",
       "      <td>0.001055</td>\n",
       "      <td>0.4404</td>\n",
       "    </tr>\n",
       "    <tr>\n",
       "      <th>3</th>\n",
       "      <td>great company work</td>\n",
       "      <td>165</td>\n",
       "      <td>0.000919</td>\n",
       "      <td>pros</td>\n",
       "      <td>0.666667</td>\n",
       "      <td>0.000613</td>\n",
       "      <td>0.6249</td>\n",
       "    </tr>\n",
       "    <tr>\n",
       "      <th>4</th>\n",
       "      <td>great work life</td>\n",
       "      <td>153</td>\n",
       "      <td>0.000852</td>\n",
       "      <td>pros</td>\n",
       "      <td>0.666667</td>\n",
       "      <td>0.000568</td>\n",
       "      <td>0.6249</td>\n",
       "    </tr>\n",
       "  </tbody>\n",
       "</table>\n",
       "</div>"
      ],
      "text/plain": [
       "                 word  count        tf   doc       idf    tf_idf  sentiment\n",
       "0   work life balance   1066  0.005938  pros  0.666667  0.003958     0.0000\n",
       "1    great place work    287  0.001599  pros  0.666667  0.001066     0.6249\n",
       "2      good work life    284  0.001582  pros  0.666667  0.001055     0.4404\n",
       "3  great company work    165  0.000919  pros  0.666667  0.000613     0.6249\n",
       "4     great work life    153  0.000852  pros  0.666667  0.000568     0.6249"
      ]
     },
     "execution_count": 14,
     "metadata": {},
     "output_type": "execute_result"
    }
   ],
   "source": [
    "tf_idf_scores.head()"
   ]
  },
  {
   "cell_type": "markdown",
   "id": "4bfb5087-0971-4b1d-a71d-ccbd01e2d6a9",
   "metadata": {},
   "source": [
    "**Add to csv**"
   ]
  },
  {
   "cell_type": "code",
   "execution_count": 15,
   "id": "198d218c-5522-47ec-87d7-f54d1d3f57e8",
   "metadata": {},
   "outputs": [],
   "source": [
    "# tf_idf_scores.to_csv(\"./data/three_star_tf_idf_scores.csv\", mode=\"w\")"
   ]
  },
  {
   "cell_type": "code",
   "execution_count": 16,
   "id": "59721d9a-df6e-410d-89c4-f3f96d66e3e9",
   "metadata": {},
   "outputs": [],
   "source": [
    "# tf_idf_scores.to_csv(\"./data/four_star_tf_idf_scores.csv\", mode=\"w\")"
   ]
  },
  {
   "cell_type": "markdown",
   "id": "47e5ea56-4c6a-4f24-860c-41f840a425e5",
   "metadata": {},
   "source": [
    "### Test documents together"
   ]
  },
  {
   "cell_type": "code",
   "execution_count": 22,
   "id": "55ea58f9-4309-4436-a524-e5e329f93278",
   "metadata": {},
   "outputs": [
    {
     "data": {
      "text/html": [
       "<div>\n",
       "<style scoped>\n",
       "    .dataframe tbody tr th:only-of-type {\n",
       "        vertical-align: middle;\n",
       "    }\n",
       "\n",
       "    .dataframe tbody tr th {\n",
       "        vertical-align: top;\n",
       "    }\n",
       "\n",
       "    .dataframe thead th {\n",
       "        text-align: right;\n",
       "    }\n",
       "</style>\n",
       "<table border=\"1\" class=\"dataframe\">\n",
       "  <thead>\n",
       "    <tr style=\"text-align: right;\">\n",
       "      <th></th>\n",
       "      <th>word</th>\n",
       "      <th>count</th>\n",
       "      <th>tf</th>\n",
       "      <th>doc</th>\n",
       "      <th>idf</th>\n",
       "      <th>tf_idf</th>\n",
       "      <th>sentiment</th>\n",
       "    </tr>\n",
       "  </thead>\n",
       "  <tbody>\n",
       "    <tr>\n",
       "      <th>0</th>\n",
       "      <td>work life balance</td>\n",
       "      <td>1320</td>\n",
       "      <td>0.003417</td>\n",
       "      <td>pros</td>\n",
       "      <td>0.666667</td>\n",
       "      <td>0.002278</td>\n",
       "      <td>0.0000</td>\n",
       "    </tr>\n",
       "    <tr>\n",
       "      <th>1</th>\n",
       "      <td>great place work</td>\n",
       "      <td>495</td>\n",
       "      <td>0.001281</td>\n",
       "      <td>pros</td>\n",
       "      <td>0.666667</td>\n",
       "      <td>0.000854</td>\n",
       "      <td>0.6249</td>\n",
       "    </tr>\n",
       "  </tbody>\n",
       "</table>\n",
       "</div>"
      ],
      "text/plain": [
       "                word  count        tf   doc       idf    tf_idf  sentiment\n",
       "0  work life balance   1320  0.003417  pros  0.666667  0.002278     0.0000\n",
       "1   great place work    495  0.001281  pros  0.666667  0.000854     0.6249"
      ]
     },
     "execution_count": 22,
     "metadata": {},
     "output_type": "execute_result"
    }
   ],
   "source": [
    "train = train.copy()\n",
    "three_star = pd.read_csv(\"./data/three_star_tf_idf_scores.csv\", index_col=0)\n",
    "four_star = pd.read_csv(\"./data/four_star_tf_idf_scores.csv\", index_col= 0)\n",
    "three_star.head(2)"
   ]
  },
  {
   "cell_type": "code",
   "execution_count": 23,
   "id": "97580f21-2638-4640-b7cf-0c21e387aa3c",
   "metadata": {},
   "outputs": [
    {
     "data": {
      "text/html": [
       "<div>\n",
       "<style scoped>\n",
       "    .dataframe tbody tr th:only-of-type {\n",
       "        vertical-align: middle;\n",
       "    }\n",
       "\n",
       "    .dataframe tbody tr th {\n",
       "        vertical-align: top;\n",
       "    }\n",
       "\n",
       "    .dataframe thead th {\n",
       "        text-align: right;\n",
       "    }\n",
       "</style>\n",
       "<table border=\"1\" class=\"dataframe\">\n",
       "  <thead>\n",
       "    <tr style=\"text-align: right;\">\n",
       "      <th></th>\n",
       "      <th>pros</th>\n",
       "      <th>cons</th>\n",
       "      <th>name</th>\n",
       "      <th>rating</th>\n",
       "      <th>ceo_approval</th>\n",
       "      <th>friend_recommendation</th>\n",
       "      <th>pros_cleaned</th>\n",
       "      <th>pros_lemmatized</th>\n",
       "      <th>cons_cleaned</th>\n",
       "      <th>cons_lemmatized</th>\n",
       "      <th>binned_rating</th>\n",
       "      <th>binned_rating_int</th>\n",
       "    </tr>\n",
       "    <tr>\n",
       "      <th>url</th>\n",
       "      <th></th>\n",
       "      <th></th>\n",
       "      <th></th>\n",
       "      <th></th>\n",
       "      <th></th>\n",
       "      <th></th>\n",
       "      <th></th>\n",
       "      <th></th>\n",
       "      <th></th>\n",
       "      <th></th>\n",
       "      <th></th>\n",
       "      <th></th>\n",
       "    </tr>\n",
       "  </thead>\n",
       "  <tbody>\n",
       "    <tr>\n",
       "      <th>https://www.glassdoor.com/Reviews/Perficient-Reviews-E9329.htm</th>\n",
       "      <td>Perficient is an ethical company that actually...</td>\n",
       "      <td>None at all, love, love, love this company!\\nI...</td>\n",
       "      <td>Perficient</td>\n",
       "      <td>4.1</td>\n",
       "      <td>87.0</td>\n",
       "      <td>80.0</td>\n",
       "      <td>perficient is an ethical company that actually...</td>\n",
       "      <td>perficient ethical company actually value empl...</td>\n",
       "      <td>none at all love love love this company\\nit is...</td>\n",
       "      <td>none love love love company good company canno...</td>\n",
       "      <td>Four</td>\n",
       "      <td>4</td>\n",
       "    </tr>\n",
       "    <tr>\n",
       "      <th>https://www.glassdoor.com/Reviews/Farmers-Insurance-Group-Reviews-E3955.htm</th>\n",
       "      <td>This company is the best ever.\\nLarge, establi...</td>\n",
       "      <td>I have nothing bad to say.\\nManagement company...</td>\n",
       "      <td>Farmers Insurance Group</td>\n",
       "      <td>3.4</td>\n",
       "      <td>37.0</td>\n",
       "      <td>52.0</td>\n",
       "      <td>this company is the best ever\\nlarge establish...</td>\n",
       "      <td>company best ever large established company so...</td>\n",
       "      <td>i have nothing bad to say\\nmanagement company ...</td>\n",
       "      <td>nothing bad say management company get paid re...</td>\n",
       "      <td>Three</td>\n",
       "      <td>3</td>\n",
       "    </tr>\n",
       "  </tbody>\n",
       "</table>\n",
       "</div>"
      ],
      "text/plain": [
       "                                                                                                 pros  \\\n",
       "url                                                                                                     \n",
       "https://www.glassdoor.com/Reviews/Perficient-Re...  Perficient is an ethical company that actually...   \n",
       "https://www.glassdoor.com/Reviews/Farmers-Insur...  This company is the best ever.\\nLarge, establi...   \n",
       "\n",
       "                                                                                                 cons  \\\n",
       "url                                                                                                     \n",
       "https://www.glassdoor.com/Reviews/Perficient-Re...  None at all, love, love, love this company!\\nI...   \n",
       "https://www.glassdoor.com/Reviews/Farmers-Insur...  I have nothing bad to say.\\nManagement company...   \n",
       "\n",
       "                                                                       name  \\\n",
       "url                                                                           \n",
       "https://www.glassdoor.com/Reviews/Perficient-Re...               Perficient   \n",
       "https://www.glassdoor.com/Reviews/Farmers-Insur...  Farmers Insurance Group   \n",
       "\n",
       "                                                    rating  ceo_approval  \\\n",
       "url                                                                        \n",
       "https://www.glassdoor.com/Reviews/Perficient-Re...     4.1          87.0   \n",
       "https://www.glassdoor.com/Reviews/Farmers-Insur...     3.4          37.0   \n",
       "\n",
       "                                                    friend_recommendation  \\\n",
       "url                                                                         \n",
       "https://www.glassdoor.com/Reviews/Perficient-Re...                   80.0   \n",
       "https://www.glassdoor.com/Reviews/Farmers-Insur...                   52.0   \n",
       "\n",
       "                                                                                         pros_cleaned  \\\n",
       "url                                                                                                     \n",
       "https://www.glassdoor.com/Reviews/Perficient-Re...  perficient is an ethical company that actually...   \n",
       "https://www.glassdoor.com/Reviews/Farmers-Insur...  this company is the best ever\\nlarge establish...   \n",
       "\n",
       "                                                                                      pros_lemmatized  \\\n",
       "url                                                                                                     \n",
       "https://www.glassdoor.com/Reviews/Perficient-Re...  perficient ethical company actually value empl...   \n",
       "https://www.glassdoor.com/Reviews/Farmers-Insur...  company best ever large established company so...   \n",
       "\n",
       "                                                                                         cons_cleaned  \\\n",
       "url                                                                                                     \n",
       "https://www.glassdoor.com/Reviews/Perficient-Re...  none at all love love love this company\\nit is...   \n",
       "https://www.glassdoor.com/Reviews/Farmers-Insur...  i have nothing bad to say\\nmanagement company ...   \n",
       "\n",
       "                                                                                      cons_lemmatized  \\\n",
       "url                                                                                                     \n",
       "https://www.glassdoor.com/Reviews/Perficient-Re...  none love love love company good company canno...   \n",
       "https://www.glassdoor.com/Reviews/Farmers-Insur...  nothing bad say management company get paid re...   \n",
       "\n",
       "                                                   binned_rating  \\\n",
       "url                                                                \n",
       "https://www.glassdoor.com/Reviews/Perficient-Re...          Four   \n",
       "https://www.glassdoor.com/Reviews/Farmers-Insur...         Three   \n",
       "\n",
       "                                                   binned_rating_int  \n",
       "url                                                                   \n",
       "https://www.glassdoor.com/Reviews/Perficient-Re...                 4  \n",
       "https://www.glassdoor.com/Reviews/Farmers-Insur...                 3  "
      ]
     },
     "execution_count": 23,
     "metadata": {},
     "output_type": "execute_result"
    }
   ],
   "source": [
    "train.head(2)"
   ]
  },
  {
   "cell_type": "code",
   "execution_count": 24,
   "id": "5fd7a071-508f-488a-891d-c6dfbecdc56f",
   "metadata": {
    "tags": []
   },
   "outputs": [],
   "source": [
    "def Hypothesis_check(p_value, alpha = 0.05):\n",
    "    if p_value < alpha:\n",
    "        print(\"Reject null\")\n",
    "    else:\n",
    "        print(\"Fail to reject null\")"
   ]
  },
  {
   "cell_type": "markdown",
   "id": "4c3f4e13-d3ba-4b6b-8508-c2d73a44d691",
   "metadata": {},
   "source": [
    "1. **Does word count affect sentiment?**\n",
    "   - Null Hypothesis (H0): There is no significant relationship between word count and sentiment.\n",
    "   - Alternative Hypothesis (H1): There is a significant relationship between word count and sentiment."
   ]
  },
  {
   "cell_type": "code",
   "execution_count": 29,
   "id": "1df281a1-0363-43fb-98e6-640a027600d5",
   "metadata": {},
   "outputs": [
    {
     "data": {
      "image/png": "[encoded data removed]",
      "text/plain": [
       "<Figure size 1000x300 with 2 Axes>"
      ]
     },
     "metadata": {},
     "output_type": "display_data"
    }
   ],
   "source": [
    "# Create a figure with one row and two columns of subplots\n",
    "fig, axs = plt.subplots(nrows=1, ncols=2, figsize=(10, 3))\n",
    "\n",
    "# Plot the first scatterplot on the first subplot and set title and labels\n",
    "sns.scatterplot(data=three_star, x=\"count\", y=\"sentiment\", ax=axs[0])\n",
    "axs[0].set_title(\"Three stars\")\n",
    "axs[0].set_xlabel(\"Word Count\")\n",
    "axs[0].set_ylabel(\"Sentiment\")\n",
    "\n",
    "# Plot the second scatterplot on the second subplot and set title and labels\n",
    "sns.scatterplot(data=four_star, x=\"count\", y=\"sentiment\", ax=axs[1])\n",
    "axs[1].set_title(\"Four stars)\")\n",
    "axs[1].set_xlabel(\"Word Count\")\n",
    "axs[1].set_ylabel(\"Sentiment\")\n",
    "\n",
    "# Add a main title for the entire figure\n",
    "plt.suptitle(\"Relationship between word count and sentiment (three stars and four stars)\", y=1.02)\n",
    "\n",
    "# Show the plots\n",
    "plt.tight_layout()\n",
    "plt.show()"
   ]
  },
  {
   "cell_type": "markdown",
   "id": "0d7c38d5-1fff-43bc-abd9-5bc6212622f8",
   "metadata": {},
   "source": [
    "**Three star rating**"
   ]
  },
  {
   "cell_type": "code",
   "execution_count": 37,
   "id": "ff9b2149-0580-483a-a715-36ba26abd4b8",
   "metadata": {},
   "outputs": [
    {
     "name": "stdout",
     "output_type": "stream",
     "text": [
      "Reject null\n",
      "r_coeficient: 0.025026960076629315\n"
     ]
    }
   ],
   "source": [
    "statistic, p_value = stats.spearmanr(three_star[\"count\"],three_star.sentiment)\n",
    "Hypothesis_check(p_value)\n",
    "print(\"r_coeficient:\",statistic)"
   ]
  },
  {
   "cell_type": "markdown",
   "id": "7e3a7330-67d5-48e5-8778-c9ef4cf082eb",
   "metadata": {},
   "source": [
    "**Four star rating**"
   ]
  },
  {
   "cell_type": "code",
   "execution_count": 38,
   "id": "fac01d10-5108-4733-bbc0-67a017b77e43",
   "metadata": {},
   "outputs": [
    {
     "name": "stdout",
     "output_type": "stream",
     "text": [
      "Reject null\n",
      "r_coeficient: 0.03173805496766481\n"
     ]
    }
   ],
   "source": [
    "statistic, p_value = stats.spearmanr(four_star[\"count\"],four_star.sentiment)\n",
    "Hypothesis_check(p_value)\n",
    "print(\"r_coeficient:\",statistic)"
   ]
  },
  {
   "cell_type": "markdown",
   "id": "5d89f9fa-ad1d-4be8-b3d0-6536268b925b",
   "metadata": {},
   "source": [
    "2. **Is there a correlation between word frequency (tf) and sentiment?**\n",
    "   - H0: There is no significant correlation between word frequency (tf) and sentiment.\n",
    "   - H1: There is a significant correlation between word frequency (tf) and sentiment."
   ]
  },
  {
   "cell_type": "code",
   "execution_count": null,
   "id": "476fa409-d464-4451-9be0-e38f8452c8c1",
   "metadata": {},
   "outputs": [],
   "source": []
  },
  {
   "cell_type": "markdown",
   "id": "2d569e1a-a67a-442c-9726-cdef5413a3f6",
   "metadata": {},
   "source": [
    "3. **Does the inverse document frequency (idf) of a word impact its sentiment?**\n",
    "   - H0: There is no significant impact of inverse document frequency (idf) on sentiment.\n",
    "   - H1: There is a significant impact of inverse document frequency (idf) on sentiment."
   ]
  },
  {
   "cell_type": "code",
   "execution_count": null,
   "id": "d78a6436-4d22-4f10-bb82-bd0f43754058",
   "metadata": {},
   "outputs": [],
   "source": []
  },
  {
   "cell_type": "markdown",
   "id": "7ff75aaa-bdcf-428b-b855-f4325bda584a",
   "metadata": {},
   "source": [
    "4. **Do words with higher tf-idf scores tend to have a specific sentiment?**\n",
    "   - H0: There is no significant relationship between tf-idf scores and sentiment.\n",
    "   - H1: There is a significant relationship between tf-idf scores and sentiment."
   ]
  },
  {
   "cell_type": "code",
   "execution_count": null,
   "id": "a18f02e5-c7b5-4507-9fcf-5b5157cd09b7",
   "metadata": {},
   "outputs": [],
   "source": []
  },
  {
   "cell_type": "markdown",
   "id": "43e128b6-9235-4803-a6bc-c6fd5e49975e",
   "metadata": {},
   "source": [
    "5. **Is there a significant difference in sentiment between different documents (doc) or groups of documents?**\n",
    "   - H0: There is no significant difference in sentiment between documents or groups of documents.\n",
    "   - H1: There is a significant difference in sentiment between documents or groups of documents."
   ]
  },
  {
   "cell_type": "code",
   "execution_count": null,
   "id": "f9b9b40f-af9e-46ff-96be-b656a1e9b202",
   "metadata": {},
   "outputs": [],
   "source": []
  },
  {
   "cell_type": "markdown",
   "id": "b2375493-ec99-430d-980d-c7ba0e562dde",
   "metadata": {},
   "source": [
    "6. **Do specific words have significantly different sentiment scores compared to the overall sentiment of the documents they appear in?**\n",
    "   - H0: The sentiment of specific words is not significantly different from the overall sentiment of the documents they appear in.\n",
    "   - H1: The sentiment of specific words is significantly different from the overall sentiment of the documents they appear in."
   ]
  },
  {
   "cell_type": "code",
   "execution_count": null,
   "id": "c75c6ff5-1e0e-48b9-ae87-b2097ae5db74",
   "metadata": {},
   "outputs": [],
   "source": []
  },
  {
   "cell_type": "markdown",
   "id": "b4d636e2-d811-47c3-94e0-62ac2d69bf03",
   "metadata": {},
   "source": [
    "7. **Is there a significant difference in sentiment scores across different word categories or topics?**\n",
    "   - H0: There is no significant difference in sentiment scores across word categories or topics.\n",
    "   - H1: There is a significant difference in sentiment scores across word categories or topics."
   ]
  },
  {
   "cell_type": "code",
   "execution_count": null,
   "id": "87d09d05-b1da-45db-98ed-d50630c61a83",
   "metadata": {},
   "outputs": [],
   "source": []
  },
  {
   "cell_type": "markdown",
   "id": "87f51043-5828-40c2-817b-53f59e863368",
   "metadata": {},
   "source": [
    "8. **Does the sentiment of a document correlate with its length (word count)?**\n",
    "   - H0: There is no significant correlation between document length and sentiment.\n",
    "   - H1: There is a significant correlation between document length and sentiment."
   ]
  },
  {
   "cell_type": "code",
   "execution_count": null,
   "id": "fa3b4d0b-c822-4d1a-9932-4f98bb441b0a",
   "metadata": {},
   "outputs": [],
   "source": []
  },
  {
   "cell_type": "markdown",
   "id": "451eaf45-5eef-4384-b78d-8fa4fb705e43",
   "metadata": {},
   "source": [
    "9. **Is there a significant difference in sentiment scores across different documents (doc)?**\n",
    "   - H0: There is no significant difference in sentiment scores across different documents.\n",
    "   - H1: There is a significant difference in sentiment scores across different documents."
   ]
  },
  {
   "cell_type": "code",
   "execution_count": null,
   "id": "c21b931c-87bd-4c6e-995d-0a021e9ccfe9",
   "metadata": {},
   "outputs": [],
   "source": []
  },
  {
   "cell_type": "markdown",
   "id": "905dac42-0d55-4348-9731-daf215a2f7b5",
   "metadata": {},
   "source": [
    "10. **Does sentiment vary significantly between documents with different levels of word frequency (tf)?**\n",
    "    - H0: There is no significant difference in sentiment between documents with different levels of word frequency (tf).\n",
    "    - H1: There is a significant difference in sentiment between documents with different levels of word frequency (tf)."
   ]
  },
  {
   "cell_type": "markdown",
   "id": "b0f5a12c-edfc-4cb0-9a64-08eccb83284d",
   "metadata": {},
   "source": [
    "### Test documents seperatly"
   ]
  },
  {
   "cell_type": "markdown",
   "id": "d9dd5e2d-83a6-4dc7-a747-f3bed3276774",
   "metadata": {},
   "source": [
    "1. **Is there a significant difference in sentiment between the two documents?**\n",
    "   - H0: There is no significant difference in sentiment between the two documents.\n",
    "   - H1: There is a significant difference in sentiment between the two documents."
   ]
  },
  {
   "cell_type": "code",
   "execution_count": null,
   "id": "dd55db94-df7d-48aa-b550-68041faafe5a",
   "metadata": {},
   "outputs": [],
   "source": []
  },
  {
   "cell_type": "markdown",
   "id": "e281c6a5-79f5-4cd2-a4dc-3b44e4c46eaa",
   "metadata": {},
   "source": [
    "2. **Do specific words have significantly different sentiment scores between the two documents?**\n",
    "   - H0: The sentiment of specific words is not significantly different between the two documents.\n",
    "   - H1: The sentiment of specific words is significantly different between the two documents."
   ]
  },
  {
   "cell_type": "code",
   "execution_count": null,
   "id": "3f4d8936-52ed-4a76-94e6-ad263fa73107",
   "metadata": {},
   "outputs": [],
   "source": []
  },
  {
   "cell_type": "markdown",
   "id": "1b104623-b43b-4f31-8824-95c032cdac74",
   "metadata": {},
   "source": [
    "3. **Is there a significant correlation between word frequency (tf) and sentiment within each document?**\n",
    "   - For Document 1:\n",
    "     - H0: There is no significant correlation between word frequency (tf) and sentiment within Document 1.\n",
    "     - H1: There is a significant correlation between word frequency (tf) and sentiment within Document 1."
   ]
  },
  {
   "cell_type": "code",
   "execution_count": null,
   "id": "4a9bd695-3622-4c35-8d1d-994ac72ef27d",
   "metadata": {},
   "outputs": [],
   "source": []
  },
  {
   "cell_type": "markdown",
   "id": "8e901331-2f40-4fe2-84c8-2c0101ef06b0",
   "metadata": {},
   "source": [
    "   - For Document 2:\n",
    "     - H0: There is no significant correlation between word frequency (tf) and sentiment within Document 2.\n",
    "     - H1: There is a significant correlation between word frequency (tf) and sentiment within Document 2."
   ]
  },
  {
   "cell_type": "code",
   "execution_count": null,
   "id": "ecf9718d-03e2-4119-a3c5-d91f799e4646",
   "metadata": {},
   "outputs": [],
   "source": []
  },
  {
   "cell_type": "markdown",
   "id": "2790a0c9-d617-4724-938d-55efab08db7b",
   "metadata": {},
   "source": [
    "4. **Is there a significant difference in sentiment scores between words in Document 1 and words in Document 2?**\n",
    "   - H0: There is no significant difference in sentiment scores between words in Document 1 and words in Document 2.\n",
    "   - H1: There is a significant difference in sentiment scores between words in Document 1 and words in Document 2."
   ]
  },
  {
   "cell_type": "code",
   "execution_count": null,
   "id": "92f0af76-7491-479b-8aa6-95cd3b0744b9",
   "metadata": {},
   "outputs": [],
   "source": []
  },
  {
   "cell_type": "markdown",
   "id": "6e366638-2694-4410-bca2-d90fc510f1ea",
   "metadata": {},
   "source": [
    "5. **Does the sentiment of each document correlate with its respective word count?**\n",
    "   - For Document 1:\n",
    "     - H0: There is no significant correlation between the word count of Document 1 and its sentiment.\n",
    "     - H1: There is a significant correlation between the word count of Document 1 and its sentiment."
   ]
  },
  {
   "cell_type": "code",
   "execution_count": null,
   "id": "15ffa797-468f-4f20-8e1a-2caf449f4662",
   "metadata": {},
   "outputs": [],
   "source": []
  },
  {
   "cell_type": "markdown",
   "id": "478635ca-91fa-4416-9796-61ffd215f900",
   "metadata": {},
   "source": [
    "   - For Document 2:\n",
    "     - H0: There is no significant correlation between the word count of Document 2 and its sentiment.\n",
    "     - H1: There is a significant correlation between the word count of Document 2 and its sentiment."
   ]
  },
  {
   "cell_type": "code",
   "execution_count": null,
   "id": "fb8a3e71-35ff-48e3-bea7-def610ff1a69",
   "metadata": {},
   "outputs": [],
   "source": []
  },
  {
   "cell_type": "markdown",
   "id": "6eb5a74c-9e62-4a2a-b046-cac9efaaf067",
   "metadata": {},
   "source": [
    "6. **Is there a significant difference in sentiment scores between the two documents based on their word count?**\n",
    "   - H0: There is no significant difference in sentiment scores between the two documents based on their word count.\n",
    "   - H1: There is a significant difference in sentiment scores between the two documents based on their word count."
   ]
  },
  {
   "cell_type": "code",
   "execution_count": null,
   "id": "e87acdcd-f3cf-4fee-895c-73c4758ffb89",
   "metadata": {},
   "outputs": [],
   "source": []
  },
  {
   "cell_type": "markdown",
   "id": "c6c3fa59-e309-4172-9089-d3f37251fac8",
   "metadata": {},
   "source": [
    "7. **Do specific words have significantly different sentiment scores between Document 1 and Document 2 based on their tf-idf scores within each document?**\n",
    "   - H0: The sentiment of specific words is not significantly different between Document 1 and Document 2 based on their tf-idf scores.\n",
    "   - H1: The sentiment of specific words is significantly different between Document 1 and Document 2 based on their tf-idf scores."
   ]
  },
  {
   "cell_type": "code",
   "execution_count": null,
   "id": "ef645075-0f52-450e-9b97-e0678df9ce2a",
   "metadata": {},
   "outputs": [],
   "source": []
  }
 ],
 "metadata": {
  "kernelspec": {
   "display_name": "Python 3 (ipykernel)",
   "language": "python",
   "name": "python3"
  },
  "language_info": {
   "codemirror_mode": {
    "name": "ipython",
    "version": 3
   },
   "file_extension": ".py",
   "mimetype": "text/x-python",
   "name": "python",
   "nbconvert_exporter": "python",
   "pygments_lexer": "ipython3",
   "version": "3.10.9"
  }
 },
 "nbformat": 4,
 "nbformat_minor": 5
}
