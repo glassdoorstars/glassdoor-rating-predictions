{
 "cells": [
  {
   "cell_type": "code",
   "execution_count": 1,
   "id": "b5e16d7c-0b0b-4066-8559-21778a8dd1fa",
   "metadata": {
    "tags": []
   },
   "outputs": [],
   "source": [
    "import unicodedata\n",
    "import re\n",
    "import json\n",
    "import wrangle as w\n",
    "import nltk\n",
    "from nltk.tokenize.toktok import ToktokTokenizer\n",
    "from nltk.corpus import stopwords\n",
    "from collections import Counter\n",
    "from sklearn.feature_extraction.text import CountVectorizer\n",
    "from scipy.stats import ttest_ind\n",
    "import pandas as pd\n",
    "from time import strftime\n",
    "import warnings\n",
    "warnings.filterwarnings('ignore')\n",
    "import env \n",
    "import numpy as np\n",
    "import requests\n",
    "from bs4 import BeautifulSoup\n",
    "import re\n",
    "from sklearn.model_selection import train_test_split\n",
    "from sklearn.metrics import confusion_matrix\n",
    "from sklearn.linear_model import LogisticRegression\n",
    "from sklearn.ensemble import RandomForestClassifier\n",
    "from sklearn.tree import DecisionTreeClassifier, plot_tree\n",
    "from sklearn.neighbors import KNeighborsClassifier\n",
    "from sklearn.metrics import accuracy_score\n",
    "from sklearn.metrics import classification_report, confusion_matrix, ConfusionMatrixDisplay\n",
    "import scipy.stats as stats\n",
    "from scipy.stats import  chi2_contingency\n",
    "import matplotlib.pyplot as plt\n",
    "%matplotlib inline\n",
    "import seaborn as sns\n",
    "\n"
   ]
  },
  {
   "cell_type": "markdown",
   "id": "9cb846d9-e8cb-407d-a236-93569509a142",
   "metadata": {},
   "source": [
    "# Modeling"
   ]
  },
  {
   "cell_type": "code",
   "execution_count": 2,
   "id": "ca84504b-383d-4b7c-a443-fa70bb6b1a82",
   "metadata": {
    "tags": []
   },
   "outputs": [
    {
     "name": "stdout",
     "output_type": "stream",
     "text": [
      "Returning Python and Java-script data\n"
     ]
    }
   ],
   "source": [
    "train, test, validate = w.wrangle_readmes()"
   ]
  },
  {
   "cell_type": "markdown",
   "id": "dee22f28-6523-4a26-bfae-ca761eb7872f",
   "metadata": {
    "tags": []
   },
   "source": [
    "# Baseline"
   ]
  },
  {
   "cell_type": "code",
   "execution_count": 3,
   "id": "548aa0f0-3f2e-4d62-8b37-0719a826fc06",
   "metadata": {
    "tags": []
   },
   "outputs": [
    {
     "name": "stdout",
     "output_type": "stream",
     "text": [
      "Most Common Class: Python\n",
      "Baseline Accuracy: 0.54\n"
     ]
    }
   ],
   "source": [
    "df = train\n",
    "\n",
    "most_common_class = df[\"language\"].value_counts().idxmax()\n",
    "most_common_frequency = df[\"language\"].value_counts().max()\n",
    "\n",
    "baseline_accuracy = most_common_frequency / len(df)\n",
    "\n",
    "print(f\"Most Common Class: {most_common_class}\")\n",
    "print(f\"Baseline Accuracy: {baseline_accuracy:.2f}\")\n",
    "\n",
    "\n",
    "\n"
   ]
  },
  {
   "cell_type": "markdown",
   "id": "994e49ab-9448-40e7-a262-d3a2c2c6cf49",
   "metadata": {},
   "source": [
    "# Decision Tree"
   ]
  },
  {
   "cell_type": "code",
   "execution_count": 4,
   "id": "9a70cef8-578f-42cc-bee8-542a7ebff1e5",
   "metadata": {
    "tags": []
   },
   "outputs": [],
   "source": [
    "significant_words = ['learning', 'test', 'library', 'create', 'line']\n",
    "\n",
    "for word in significant_words:\n",
    "    df[word] = df[\"lemmatized\"].apply(lambda x: x.count(word))\n",
    "    \n",
    "for word in significant_words:\n",
    "    validate[word] = validate[\"lemmatized\"].apply(lambda x: x.count(word))\n",
    "    \n",
    "for word in significant_words:\n",
    "    test[word] = test[\"lemmatized\"].apply(lambda x: x.count(word))\n",
    "df = train\n",
    "\n",
    "\n",
    "\n",
    "X_train = df[significant_words]\n",
    "y_train = df[\"lemmatized\"]\n",
    "\n",
    "X_val = validate[significant_words]\n",
    "y_val = validate[\"lemmatized\"]\n",
    "\n",
    "X_test = test[significant_words]\n",
    "y_test = test[\"lemmatized\"]"
   ]
  },
  {
   "cell_type": "code",
   "execution_count": 5,
   "id": "625a6e61-38c8-46ef-a02c-ac07b650290c",
   "metadata": {
    "tags": []
   },
   "outputs": [
    {
     "name": "stdout",
     "output_type": "stream",
     "text": [
      "Train Accuracy: 0.78\n",
      "Validation Accuracy: 0.30\n"
     ]
    }
   ],
   "source": [
    "clf = DecisionTreeClassifier(random_state=42)\n",
    "clf.fit(X_train, y_train)\n",
    "\n",
    "y_train_pred = clf.predict(X_train)\n",
    "y_val_pred = clf.predict(X_val)\n",
    "\n",
    "train_accuracy = accuracy_score(y_train, y_train_pred)\n",
    "val_accuracy = accuracy_score(y_val, y_val_pred)\n",
    "\n",
    "print(f\"Train Accuracy: {train_accuracy:.2f}\")\n",
    "print(f\"Validation Accuracy: {val_accuracy:.2f}\")"
   ]
  },
  {
   "cell_type": "markdown",
   "id": "85f0d82b-f6c1-4f44-ab74-e6ebdf218b29",
   "metadata": {},
   "source": [
    "# RandomForrest"
   ]
  },
  {
   "cell_type": "code",
   "execution_count": 6,
   "id": "8ad066a5-c500-41e8-b558-2f5add38528f",
   "metadata": {
    "tags": []
   },
   "outputs": [
    {
     "name": "stdout",
     "output_type": "stream",
     "text": [
      "Train Accuracy: 0.78\n",
      "Validation Accuracy: 0.44\n"
     ]
    }
   ],
   "source": [
    "clf = RandomForestClassifier(random_state=42)\n",
    "clf.fit(X_train, y_train)\n",
    "\n",
    "y_train_pred = clf.predict(X_train)\n",
    "y_val_pred = clf.predict(X_val)\n",
    "\n",
    "train_accuracy = accuracy_score(y_train, y_train_pred)\n",
    "val_accuracy = accuracy_score(y_val, y_val_pred)\n",
    "\n",
    "print(f\"Train Accuracy: {train_accuracy:.2f}\")\n",
    "print(f\"Validation Accuracy: {val_accuracy:.2f}\")\n",
    "\n"
   ]
  },
  {
   "cell_type": "markdown",
   "id": "b6c85014-0795-4448-ae0b-3c1fda40fc71",
   "metadata": {},
   "source": [
    "# KNN"
   ]
  },
  {
   "cell_type": "code",
   "execution_count": 7,
   "id": "1b78d75d-1009-4c58-906b-9ba1eef5b030",
   "metadata": {
    "tags": []
   },
   "outputs": [
    {
     "name": "stdout",
     "output_type": "stream",
     "text": [
      "Train Accuracy: 0.48\n",
      "Validation Accuracy: 0.22\n"
     ]
    }
   ],
   "source": [
    "k = 3  \n",
    "clf = KNeighborsClassifier(n_neighbors=k)\n",
    "clf.fit(X_train, y_train)\n",
    "\n",
    "y_train_pred = clf.predict(X_train)\n",
    "y_val_pred = clf.predict(X_val)\n",
    "\n",
    "train_accuracy = accuracy_score(y_train, y_train_pred)\n",
    "val_accuracy = accuracy_score(y_val, y_val_pred)\n",
    "\n",
    "print(f\"Train Accuracy: {train_accuracy:.2f}\")\n",
    "print(f\"Validation Accuracy: {val_accuracy:.2f}\")\n",
    "\n",
    "\n",
    "\n"
   ]
  },
  {
   "cell_type": "markdown",
   "id": "abc9d962-226e-4507-9edd-b4cc8ce7dd25",
   "metadata": {},
   "source": [
    "# LogiReg"
   ]
  },
  {
   "cell_type": "code",
   "execution_count": 8,
   "id": "42bca639-f7e2-4b60-afc5-bd1cf7d9897d",
   "metadata": {
    "tags": []
   },
   "outputs": [
    {
     "name": "stdout",
     "output_type": "stream",
     "text": [
      "Train Accuracy: 0.57\n",
      "Validation Accuracy: 0.26\n"
     ]
    }
   ],
   "source": [
    "clf = LogisticRegression(random_state=42)\n",
    "clf.fit(X_train, y_train)\n",
    "\n",
    "y_train_pred = clf.predict(X_train)\n",
    "y_val_pred = clf.predict(X_val)\n",
    "\n",
    "train_accuracy = accuracy_score(y_train, y_train_pred)\n",
    "val_accuracy = accuracy_score(y_val, y_val_pred)\n",
    "\n",
    "print(f\"Train Accuracy: {train_accuracy:.2f}\")\n",
    "print(f\"Validation Accuracy: {val_accuracy:.2f}\")\n"
   ]
  },
  {
   "cell_type": "markdown",
   "id": "8fde5c92-3fe4-4fad-96b9-5f3a0c56ec47",
   "metadata": {},
   "source": [
    "# TEST ON RF"
   ]
  },
  {
   "cell_type": "code",
   "execution_count": 10,
   "id": "d69a3d43-be45-40cd-9bba-15e1463a6dec",
   "metadata": {
    "tags": []
   },
   "outputs": [
    {
     "name": "stdout",
     "output_type": "stream",
     "text": [
      "Test Accuracy: 0.38\n"
     ]
    }
   ],
   "source": [
    "clf = RandomForestClassifier(random_state=42)\n",
    "clf.fit(X_train, y_train)\n",
    "\n",
    "y_test_pred = clf.predict(X_test)\n",
    "\n",
    "test_accuracy = accuracy_score(y_test, y_test_pred)\n",
    "\n",
    "print(f\"Test Accuracy: {test_accuracy:.2f}\")\n",
    "\n",
    "\n"
   ]
  }
 ],
 "metadata": {
  "kernelspec": {
   "display_name": "Python 3 (ipykernel)",
   "language": "python",
   "name": "python3"
  },
  "language_info": {
   "codemirror_mode": {
    "name": "ipython",
    "version": 3
   },
   "file_extension": ".py",
   "mimetype": "text/x-python",
   "name": "python",
   "nbconvert_exporter": "python",
   "pygments_lexer": "ipython3",
   "version": "3.10.9"
  }
 },
 "nbformat": 4,
 "nbformat_minor": 5
}
