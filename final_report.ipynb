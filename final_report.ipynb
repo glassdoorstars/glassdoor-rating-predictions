{
 "cells": [
  {
   "cell_type": "markdown",
   "id": "2c6eeccb",
   "metadata": {},
   "source": [
    "# NLP Project: Predicting Glassdoor Ratings"
   ]
  },
  {
   "cell_type": "markdown",
   "id": "a6beb96f",
   "metadata": {},
   "source": [
    "**Overview:**\n",
    "\n",
    "In this project, company reviews (pros and cons) on Glassdoor are analyzed and modelled using natural language processing techniques. The reviews are scraped on Glassdoor's most popular companies and the companies are grouped as 3-star and 4-star companies. After the data is acquired, the review contents are cleaned and prepared so they can be analyzed. Statistical analysis is done to identify words and phrases that make a company 3-star or 4-star. Lastly, NLP techniques and classification models will be used to predict whether a company is 3-star or 4-star based on the company's reviews.\n",
    "\n",
    "**Goals:**\n",
    "- identify words and phrases that suggest whether a company is 3-star or 4-star.\n",
    "    - ideally, these words will represent positive and negative things about working for the company whether it be pay, work-life balance, or management.\n",
    "- build a machine learning classification model that will accurately predict whether a company is 3-star or 4-star."
   ]
  },
  {
   "cell_type": "code",
   "execution_count": 1,
   "id": "2b8bb01f",
   "metadata": {},
   "outputs": [],
   "source": [
    "# import libraries\n",
    "import pandas as pd\n",
    "%config InlineBackend.figure_format = 'retina'\n",
    "\n",
    "import wrangle as w"
   ]
  },
  {
   "cell_type": "markdown",
   "id": "2388418f",
   "metadata": {},
   "source": [
    "## Data Wrangling\n",
    "\n",
    "Data Acquisition: Selenium is used to scrape and store data on the top 1,000 companies.\n",
    "1. First, company names, ratings, CEO approval, recommendation percentages, and review URL's are scraped.\n",
    "2. The 100 most recent company reviews (pros and cons) are then scraped using the review URL's.\n"
   ]
  },
  {
   "cell_type": "code",
   "execution_count": 13,
   "id": "09ba2bd8",
   "metadata": {},
   "outputs": [
    {
     "data": {
      "text/html": [
       "<div>\n",
       "<style scoped>\n",
       "    .dataframe tbody tr th:only-of-type {\n",
       "        vertical-align: middle;\n",
       "    }\n",
       "\n",
       "    .dataframe tbody tr th {\n",
       "        vertical-align: top;\n",
       "    }\n",
       "\n",
       "    .dataframe thead th {\n",
       "        text-align: right;\n",
       "    }\n",
       "</style>\n",
       "<table border=\"1\" class=\"dataframe\">\n",
       "  <thead>\n",
       "    <tr style=\"text-align: right;\">\n",
       "      <th></th>\n",
       "      <th>url</th>\n",
       "      <th>pros</th>\n",
       "      <th>cons</th>\n",
       "      <th>name</th>\n",
       "      <th>rating</th>\n",
       "      <th>ceo_approval</th>\n",
       "      <th>recommended</th>\n",
       "    </tr>\n",
       "  </thead>\n",
       "  <tbody>\n",
       "    <tr>\n",
       "      <th>0</th>\n",
       "      <td>https://www.glassdoor.com/Reviews/Amazon-Revie...</td>\n",
       "      <td>Gain useful experience and great benefits\\nRea...</td>\n",
       "      <td>Not much room for advancement\\nYou have to be ...</td>\n",
       "      <td>Amazon</td>\n",
       "      <td>3.7</td>\n",
       "      <td>71.0</td>\n",
       "      <td>69.0</td>\n",
       "    </tr>\n",
       "    <tr>\n",
       "      <th>1</th>\n",
       "      <td>https://www.glassdoor.com/Reviews/Deloitte-Rev...</td>\n",
       "      <td>Well, it's BigD isn't it? Everyone on the ball...</td>\n",
       "      <td>Not really a con, but a very large, structured...</td>\n",
       "      <td>Deloitte</td>\n",
       "      <td>4.0</td>\n",
       "      <td>87.0</td>\n",
       "      <td>78.0</td>\n",
       "    </tr>\n",
       "    <tr>\n",
       "      <th>2</th>\n",
       "      <td>https://www.glassdoor.com/Reviews/Walmart-Revi...</td>\n",
       "      <td>good employees good working emviromet\\nAdvance...</td>\n",
       "      <td>log time stading on feet\\nUnderstaffing issues...</td>\n",
       "      <td>Walmart</td>\n",
       "      <td>3.3</td>\n",
       "      <td>59.0</td>\n",
       "      <td>55.0</td>\n",
       "    </tr>\n",
       "  </tbody>\n",
       "</table>\n",
       "</div>"
      ],
      "text/plain": [
       "                                                 url  \\\n",
       "0  https://www.glassdoor.com/Reviews/Amazon-Revie...   \n",
       "1  https://www.glassdoor.com/Reviews/Deloitte-Rev...   \n",
       "2  https://www.glassdoor.com/Reviews/Walmart-Revi...   \n",
       "\n",
       "                                                pros  \\\n",
       "0  Gain useful experience and great benefits\\nRea...   \n",
       "1  Well, it's BigD isn't it? Everyone on the ball...   \n",
       "2  good employees good working emviromet\\nAdvance...   \n",
       "\n",
       "                                                cons      name  rating  \\\n",
       "0  Not much room for advancement\\nYou have to be ...    Amazon     3.7   \n",
       "1  Not really a con, but a very large, structured...  Deloitte     4.0   \n",
       "2  log time stading on feet\\nUnderstaffing issues...   Walmart     3.3   \n",
       "\n",
       "   ceo_approval  recommended  \n",
       "0          71.0         69.0  \n",
       "1          87.0         78.0  \n",
       "2          59.0         55.0  "
      ]
     },
     "execution_count": 13,
     "metadata": {},
     "output_type": "execute_result"
    }
   ],
   "source": [
    "pd.read_csv('data/glassdoor_reviews.csv').head(3)"
   ]
  },
  {
   "cell_type": "markdown",
   "id": "6246229f",
   "metadata": {},
   "source": [
    "Data Preparation:\n",
    "- Review text is lowercased, reduced normalized, unicode characters, tokenized and lemmatized. \n",
    "- Common stopwords are also removed as well duplicate companies and companies with missing.\n",
    "- The target, ratings, is also binned into 3-star companies and 4-star companies."
   ]
  },
  {
   "cell_type": "code",
   "execution_count": 3,
   "id": "e13aafe9",
   "metadata": {},
   "outputs": [],
   "source": [
    "original, uni_count_vect, bi_count_vect, tri_count_vect = w.wrangle_glassdoor()\n",
    "train, val, test = original"
   ]
  },
  {
   "cell_type": "code",
   "execution_count": 12,
   "id": "95509f27",
   "metadata": {},
   "outputs": [
    {
     "data": {
      "text/html": [
       "<div>\n",
       "<style scoped>\n",
       "    .dataframe tbody tr th:only-of-type {\n",
       "        vertical-align: middle;\n",
       "    }\n",
       "\n",
       "    .dataframe tbody tr th {\n",
       "        vertical-align: top;\n",
       "    }\n",
       "\n",
       "    .dataframe thead th {\n",
       "        text-align: right;\n",
       "    }\n",
       "</style>\n",
       "<table border=\"1\" class=\"dataframe\">\n",
       "  <thead>\n",
       "    <tr style=\"text-align: right;\">\n",
       "      <th></th>\n",
       "      <th>pros</th>\n",
       "      <th>cons</th>\n",
       "      <th>name</th>\n",
       "      <th>rating</th>\n",
       "      <th>ceo_approval</th>\n",
       "      <th>friend_recommendation</th>\n",
       "      <th>pros_cleaned</th>\n",
       "      <th>pros_lemmatized</th>\n",
       "      <th>cons_cleaned</th>\n",
       "      <th>cons_lemmatized</th>\n",
       "      <th>binned_rating</th>\n",
       "      <th>binned_rating_int</th>\n",
       "    </tr>\n",
       "    <tr>\n",
       "      <th>url</th>\n",
       "      <th></th>\n",
       "      <th></th>\n",
       "      <th></th>\n",
       "      <th></th>\n",
       "      <th></th>\n",
       "      <th></th>\n",
       "      <th></th>\n",
       "      <th></th>\n",
       "      <th></th>\n",
       "      <th></th>\n",
       "      <th></th>\n",
       "      <th></th>\n",
       "    </tr>\n",
       "  </thead>\n",
       "  <tbody>\n",
       "    <tr>\n",
       "      <th>https://www.glassdoor.com/Reviews/Alight-Solutions-Reviews-E1729719.htm</th>\n",
       "      <td>Company values you as an employee\\nAlight is b...</td>\n",
       "      <td>High call volume sometimes during busy season\\...</td>\n",
       "      <td>Alight Solutions</td>\n",
       "      <td>3.5</td>\n",
       "      <td>71.0</td>\n",
       "      <td>64.0</td>\n",
       "      <td>company values you as an employee\\nalight is b...</td>\n",
       "      <td>company value employee alight far great compan...</td>\n",
       "      <td>high call volume sometimes during busy season\\...</td>\n",
       "      <td>high call volume sometimes busy season larger ...</td>\n",
       "      <td>Three</td>\n",
       "      <td>3</td>\n",
       "    </tr>\n",
       "    <tr>\n",
       "      <th>https://www.glassdoor.com/Reviews/eBay-Reviews-E7853.htm</th>\n",
       "      <td>I never expected working at a large company to...</td>\n",
       "      <td>I haven't found any cons yet!\\nAlthough the in...</td>\n",
       "      <td>eBay</td>\n",
       "      <td>4.1</td>\n",
       "      <td>84.0</td>\n",
       "      <td>80.0</td>\n",
       "      <td>i never expected working at a large company to...</td>\n",
       "      <td>never expected working large company like ever...</td>\n",
       "      <td>i haven ' t found any cons yet\\nalthough the i...</td>\n",
       "      <td>' found con yet although initiative really foc...</td>\n",
       "      <td>Four</td>\n",
       "      <td>4</td>\n",
       "    </tr>\n",
       "    <tr>\n",
       "      <th>https://www.glassdoor.com/Reviews/Trane-Technologies-Reviews-E349.htm</th>\n",
       "      <td>- Company is socially-minded and progressive, ...</td>\n",
       "      <td>- A few people are the over-promise, under-del...</td>\n",
       "      <td>Trane Technologies</td>\n",
       "      <td>3.9</td>\n",
       "      <td>81.0</td>\n",
       "      <td>75.0</td>\n",
       "      <td>company is sociallyminded and progressive whic...</td>\n",
       "      <td>company sociallyminded progressive make feel g...</td>\n",
       "      <td>a few people are the overpromise underdeliver ...</td>\n",
       "      <td>people overpromise underdeliver type thats unc...</td>\n",
       "      <td>Three</td>\n",
       "      <td>3</td>\n",
       "    </tr>\n",
       "  </tbody>\n",
       "</table>\n",
       "</div>"
      ],
      "text/plain": [
       "                                                                                                 pros  \\\n",
       "url                                                                                                     \n",
       "https://www.glassdoor.com/Reviews/Alight-Soluti...  Company values you as an employee\\nAlight is b...   \n",
       "https://www.glassdoor.com/Reviews/eBay-Reviews-...  I never expected working at a large company to...   \n",
       "https://www.glassdoor.com/Reviews/Trane-Technol...  - Company is socially-minded and progressive, ...   \n",
       "\n",
       "                                                                                                 cons  \\\n",
       "url                                                                                                     \n",
       "https://www.glassdoor.com/Reviews/Alight-Soluti...  High call volume sometimes during busy season\\...   \n",
       "https://www.glassdoor.com/Reviews/eBay-Reviews-...  I haven't found any cons yet!\\nAlthough the in...   \n",
       "https://www.glassdoor.com/Reviews/Trane-Technol...  - A few people are the over-promise, under-del...   \n",
       "\n",
       "                                                                  name  \\\n",
       "url                                                                      \n",
       "https://www.glassdoor.com/Reviews/Alight-Soluti...    Alight Solutions   \n",
       "https://www.glassdoor.com/Reviews/eBay-Reviews-...                eBay   \n",
       "https://www.glassdoor.com/Reviews/Trane-Technol...  Trane Technologies   \n",
       "\n",
       "                                                    rating  ceo_approval  \\\n",
       "url                                                                        \n",
       "https://www.glassdoor.com/Reviews/Alight-Soluti...     3.5          71.0   \n",
       "https://www.glassdoor.com/Reviews/eBay-Reviews-...     4.1          84.0   \n",
       "https://www.glassdoor.com/Reviews/Trane-Technol...     3.9          81.0   \n",
       "\n",
       "                                                    friend_recommendation  \\\n",
       "url                                                                         \n",
       "https://www.glassdoor.com/Reviews/Alight-Soluti...                   64.0   \n",
       "https://www.glassdoor.com/Reviews/eBay-Reviews-...                   80.0   \n",
       "https://www.glassdoor.com/Reviews/Trane-Technol...                   75.0   \n",
       "\n",
       "                                                                                         pros_cleaned  \\\n",
       "url                                                                                                     \n",
       "https://www.glassdoor.com/Reviews/Alight-Soluti...  company values you as an employee\\nalight is b...   \n",
       "https://www.glassdoor.com/Reviews/eBay-Reviews-...  i never expected working at a large company to...   \n",
       "https://www.glassdoor.com/Reviews/Trane-Technol...  company is sociallyminded and progressive whic...   \n",
       "\n",
       "                                                                                      pros_lemmatized  \\\n",
       "url                                                                                                     \n",
       "https://www.glassdoor.com/Reviews/Alight-Soluti...  company value employee alight far great compan...   \n",
       "https://www.glassdoor.com/Reviews/eBay-Reviews-...  never expected working large company like ever...   \n",
       "https://www.glassdoor.com/Reviews/Trane-Technol...  company sociallyminded progressive make feel g...   \n",
       "\n",
       "                                                                                         cons_cleaned  \\\n",
       "url                                                                                                     \n",
       "https://www.glassdoor.com/Reviews/Alight-Soluti...  high call volume sometimes during busy season\\...   \n",
       "https://www.glassdoor.com/Reviews/eBay-Reviews-...  i haven ' t found any cons yet\\nalthough the i...   \n",
       "https://www.glassdoor.com/Reviews/Trane-Technol...  a few people are the overpromise underdeliver ...   \n",
       "\n",
       "                                                                                      cons_lemmatized  \\\n",
       "url                                                                                                     \n",
       "https://www.glassdoor.com/Reviews/Alight-Soluti...  high call volume sometimes busy season larger ...   \n",
       "https://www.glassdoor.com/Reviews/eBay-Reviews-...  ' found con yet although initiative really foc...   \n",
       "https://www.glassdoor.com/Reviews/Trane-Technol...  people overpromise underdeliver type thats unc...   \n",
       "\n",
       "                                                   binned_rating  \\\n",
       "url                                                                \n",
       "https://www.glassdoor.com/Reviews/Alight-Soluti...         Three   \n",
       "https://www.glassdoor.com/Reviews/eBay-Reviews-...          Four   \n",
       "https://www.glassdoor.com/Reviews/Trane-Technol...         Three   \n",
       "\n",
       "                                                   binned_rating_int  \n",
       "url                                                                   \n",
       "https://www.glassdoor.com/Reviews/Alight-Soluti...                 3  \n",
       "https://www.glassdoor.com/Reviews/eBay-Reviews-...                 4  \n",
       "https://www.glassdoor.com/Reviews/Trane-Technol...                 3  "
      ]
     },
     "execution_count": 12,
     "metadata": {},
     "output_type": "execute_result"
    }
   ],
   "source": [
    "train.head(3)"
   ]
  },
  {
   "cell_type": "markdown",
   "id": "d377cf80",
   "metadata": {},
   "source": [
    "## Exploratory Analysis\n",
    "\n",
    "Only exploring the training set to avoid bias during modeling."
   ]
  },
  {
   "cell_type": "code",
   "execution_count": null,
   "id": "a3002c31",
   "metadata": {},
   "outputs": [],
   "source": []
  },
  {
   "cell_type": "code",
   "execution_count": null,
   "id": "c66d6797",
   "metadata": {},
   "outputs": [],
   "source": []
  },
  {
   "cell_type": "markdown",
   "id": "bd0ed6bb",
   "metadata": {},
   "source": [
    "***Do 4-star companies have a signicant diffierence in CEO approval than 3-star companies?***"
   ]
  },
  {
   "cell_type": "code",
   "execution_count": null,
   "id": "6cbb4c97",
   "metadata": {},
   "outputs": [],
   "source": []
  },
  {
   "cell_type": "markdown",
   "id": "d332df90",
   "metadata": {},
   "source": [
    "***Are 4-star companies more likely to be recommended than 3-star companies?***"
   ]
  },
  {
   "cell_type": "code",
   "execution_count": null,
   "id": "175dc5bf",
   "metadata": {},
   "outputs": [],
   "source": []
  },
  {
   "cell_type": "code",
   "execution_count": null,
   "id": "7787de78",
   "metadata": {},
   "outputs": [],
   "source": []
  },
  {
   "cell_type": "markdown",
   "id": "a9114d03",
   "metadata": {},
   "source": [
    "## Modeling"
   ]
  },
  {
   "cell_type": "code",
   "execution_count": null,
   "id": "30b846ca",
   "metadata": {},
   "outputs": [],
   "source": []
  },
  {
   "cell_type": "markdown",
   "id": "60b48c76",
   "metadata": {},
   "source": [
    "## Conclusion\n",
    "\n",
    "**Insights**\n",
    "\n",
    "**Modeling**\n",
    "\n",
    "**Recommendations**\n",
    "\n",
    "**Next Steps**\n"
   ]
  },
  {
   "cell_type": "code",
   "execution_count": null,
   "id": "c02634e9",
   "metadata": {},
   "outputs": [],
   "source": []
  }
 ],
 "metadata": {
  "kernelspec": {
   "display_name": "Python 3 (ipykernel)",
   "language": "python",
   "name": "python3"
  },
  "language_info": {
   "codemirror_mode": {
    "name": "ipython",
    "version": 3
   },
   "file_extension": ".py",
   "mimetype": "text/x-python",
   "name": "python",
   "nbconvert_exporter": "python",
   "pygments_lexer": "ipython3",
   "version": "3.10.9"
  },
  "varInspector": {
   "cols": {
    "lenName": 16,
    "lenType": 16,
    "lenVar": 40
   },
   "kernels_config": {
    "python": {
     "delete_cmd_postfix": "",
     "delete_cmd_prefix": "del ",
     "library": "var_list.py",
     "varRefreshCmd": "print(var_dic_list())"
    },
    "r": {
     "delete_cmd_postfix": ") ",
     "delete_cmd_prefix": "rm(",
     "library": "var_list.r",
     "varRefreshCmd": "cat(var_dic_list()) "
    }
   },
   "types_to_exclude": [
    "module",
    "function",
    "builtin_function_or_method",
    "instance",
    "_Feature"
   ],
   "window_display": false
  }
 },
 "nbformat": 4,
 "nbformat_minor": 5
}
