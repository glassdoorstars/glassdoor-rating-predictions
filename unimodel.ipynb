{
 "cells": [
  {
   "cell_type": "markdown",
   "id": "3151fdae-9c3b-47cf-9e3c-f75b249b38ff",
   "metadata": {},
   "source": [
    "# TFIDF Vect Modeling for Pros and Cons TRIGRAMS"
   ]
  },
  {
   "cell_type": "code",
   "execution_count": 45,
   "id": "642bfaba-2a0b-4f1f-8b26-0ab809edc9f9",
   "metadata": {},
   "outputs": [],
   "source": [
    "import wrangle as w\n",
    "import nltk\n",
    "from collections import Counter\n",
    "from sklearn.feature_extraction.text import CountVectorizer\n",
    "import pandas as pd\n",
    "from scipy.stats import ttest_ind\n",
    "import warnings\n",
    "warnings.filterwarnings('ignore')\n",
    "from sklearn.metrics import confusion_matrix\n",
    "from sklearn.linear_model import LogisticRegression\n",
    "from sklearn.ensemble import RandomForestClassifier\n",
    "from sklearn.tree import DecisionTreeClassifier, plot_tree\n",
    "from sklearn.neighbors import KNeighborsClassifier\n",
    "from sklearn.metrics import accuracy_score\n",
    "import pandas as pd\n",
    "from nltk.util import ngrams\n",
    "from nltk.tokenize import word_tokenize\n",
    "from nltk.stem import WordNetLemmatizer\n",
    "from nltk.util import ngrams\n",
    "from sklearn.feature_extraction.text import TfidfVectorizer\n",
    "from sklearn.model_selection import train_test_split\n",
    "from sklearn.linear_model import LogisticRegression  # You can choose a different model\n",
    "from sklearn.metrics import accuracy_score, classification_report\n",
    "from sklearn.model_selection import GridSearchCV\n",
    "from sklearn.naive_bayes import GaussianNB\n",
    "import xgboost as xgb"
   ]
  },
  {
   "cell_type": "markdown",
   "id": "60c0dc65-e61a-4cd3-9821-d9d9e989b608",
   "metadata": {},
   "source": [
    "# Pros Modeling "
   ]
  },
  {
   "cell_type": "code",
   "execution_count": 2,
   "id": "d08a7064-22f2-456d-8826-cdfdf520a993",
   "metadata": {
    "tags": []
   },
   "outputs": [],
   "source": [
    "train, val, test, countvect = w.wrangle_glassdoor()"
   ]
  },
  {
   "cell_type": "code",
   "execution_count": 3,
   "id": "5875cb21-85a8-4ece-be43-c5d6715e5880",
   "metadata": {
    "tags": []
   },
   "outputs": [],
   "source": [
    "train, val, test = countvect"
   ]
  },
  {
   "cell_type": "code",
   "execution_count": 13,
   "id": "ba3c71e2-822f-4ee4-b861-1333193468ef",
   "metadata": {
    "tags": []
   },
   "outputs": [
    {
     "name": "stdout",
     "output_type": "stream",
     "text": [
      "Most Common Class: 3\n",
      "Baseline Accuracy: 0.70\n"
     ]
    }
   ],
   "source": [
    "most_common = train[\"binned_rating_int\"].value_counts().idxmax()\n",
    "most_common_frequency = train[\"binned_rating_int\"].value_counts().max()\n",
    "\n",
    "baseline_accuracy = most_common_frequency / len(train)\n",
    "\n",
    "print(f\"Most Common Class: {most_common}\")\n",
    "print(f\"Baseline Accuracy: {baseline_accuracy:.2f}\")\n",
    "\n"
   ]
  },
  {
   "cell_type": "markdown",
   "id": "ac71f310-eb61-499b-94b0-d18e9feb66e0",
   "metadata": {},
   "source": [
    "## Decision Tree"
   ]
  },
  {
   "cell_type": "code",
   "execution_count": 15,
   "id": "8795e45b-4ddd-4012-8486-47743d3db33f",
   "metadata": {
    "tags": []
   },
   "outputs": [],
   "source": [
    "X_train = train[['pros_work', 'pros_great', 'pros_good', 'pros_benefit', 'pros_people', 'cons_work', 'cons_great', 'cons_good', 'cons_benefit', 'cons_people']]\n",
    "y_train = train[\"binned_rating_int\"]\n",
    "\n",
    "X_val = val[['pros_work', 'pros_great', 'pros_good', 'pros_benefit', 'pros_people', 'cons_work', 'cons_great', 'cons_good', 'cons_benefit', 'cons_people']]\n",
    "y_val = val[\"binned_rating_int\"]\n",
    "\n",
    "X_test = test[['pros_work', 'pros_great', 'pros_good', 'pros_benefit', 'pros_people', 'cons_work', 'cons_great', 'cons_good', 'cons_benefit', 'cons_people']]\n",
    "y_test = test[\"binned_rating_int\"]\n"
   ]
  },
  {
   "cell_type": "code",
   "execution_count": 39,
   "id": "3b84d8e7-a43d-403c-b137-78f25c405217",
   "metadata": {
    "tags": []
   },
   "outputs": [
    {
     "name": "stdout",
     "output_type": "stream",
     "text": [
      "Decision Tree:\n",
      "Best Hyperparameters: {'max_depth': None, 'min_samples_split': 10}\n",
      "Validation Accuracy: 0.65\n",
      "Training Accuracy: 0.91\n"
     ]
    }
   ],
   "source": [
    "param_grid_tree = {\n",
    "    'max_depth': [None, 10, 20, 30],  # Maximum depth of the tree\n",
    "    'min_samples_split': [2, 5, 10],  # Minimum number of samples required to split a node\n",
    "}\n",
    "\n",
    "# Create the Decision Tree classifier\n",
    "tree = DecisionTreeClassifier(random_state=42)\n",
    "\n",
    "# Create GridSearchCV with the Decision Tree classifier and hyperparameter grid\n",
    "grid_search_tree = GridSearchCV(tree, param_grid_tree, cv=5, scoring='accuracy')\n",
    "\n",
    "# Fit the model with the training data\n",
    "grid_search_tree.fit(X_train, y_train)\n",
    "\n",
    "# Get the best hyperparameters from the search\n",
    "best_params_tree = grid_search_tree.best_params_\n",
    "\n",
    "# Get the best estimator (model) from the search\n",
    "best_tree = grid_search_tree.best_estimator_\n",
    "\n",
    "# Make predictions on the validation set using the best model\n",
    "y_val_pred_tree = best_tree.predict(X_val)\n",
    "\n",
    "# Calculate accuracy on the validation set\n",
    "val_accuracy_tree = accuracy_score(y_val, y_val_pred_tree)\n",
    "\n",
    "# Make predictions on the training set using the best Decision Tree model\n",
    "y_train_pred_tree = best_tree.predict(X_train)\n",
    "\n",
    "# Calculate accuracy on the training set\n",
    "train_accuracy_tree = accuracy_score(y_train, y_train_pred_tree)\n",
    "\n",
    "print(\"Decision Tree:\")\n",
    "print(f\"Best Hyperparameters: {best_params_tree}\")\n",
    "print(f\"Validation Accuracy: {val_accuracy_tree:.2f}\")\n",
    "print(f\"Training Accuracy: {train_accuracy_tree:.2f}\")\n"
   ]
  },
  {
   "cell_type": "markdown",
   "id": "4909d6af-31b3-41ed-8779-167460bd7229",
   "metadata": {},
   "source": [
    "# RandomForrest"
   ]
  },
  {
   "cell_type": "code",
   "execution_count": 38,
   "id": "40d98753-0347-4249-8bd0-f267d196e932",
   "metadata": {
    "tags": []
   },
   "outputs": [
    {
     "name": "stdout",
     "output_type": "stream",
     "text": [
      "Random Forest:\n",
      "Best Hyperparameters: {'max_depth': None, 'n_estimators': 50}\n",
      "Validation Accuracy: 0.64\n",
      "Training Accuracy: 1.00\n"
     ]
    }
   ],
   "source": [
    "# Define hyperparameter grid to search for Random Forest\n",
    "param_grid_rf = {\n",
    "    'n_estimators': [50, 100, 200],  # Number of trees\n",
    "    'max_depth': [None, 10, 20, 30],  # Maximum depth of trees\n",
    "}\n",
    "\n",
    "# Create the Random Forest classifier\n",
    "rf = RandomForestClassifier(random_state=42)\n",
    "\n",
    "# Create GridSearchCV with the Random Forest classifier and hyperparameter grid\n",
    "grid_search_rf = GridSearchCV(rf, param_grid_rf, cv=5, scoring='accuracy')\n",
    "\n",
    "# Fit the model with the training data\n",
    "grid_search_rf.fit(X_train, y_train)\n",
    "\n",
    "# Get the best hyperparameters from the search\n",
    "best_params_rf = grid_search_rf.best_params_\n",
    "\n",
    "# Get the best estimator (model) from the search\n",
    "best_rf = grid_search_rf.best_estimator_\n",
    "\n",
    "# Make predictions on the validation set using the best model\n",
    "y_val_pred_rf = best_rf.predict(X_val)\n",
    "\n",
    "# Calculate accuracy on the validation set\n",
    "val_accuracy_rf = accuracy_score(y_val, y_val_pred_rf)\n",
    "\n",
    "# Make predictions on the training set using the best Random Forest model\n",
    "y_train_pred_rf = best_rf.predict(X_train)\n",
    "\n",
    "# Calculate accuracy on the training set\n",
    "train_accuracy_rf = accuracy_score(y_train, y_train_pred_rf)\n",
    "\n",
    "print(\"Random Forest:\")\n",
    "print(f\"Best Hyperparameters: {best_params_rf}\")\n",
    "print(f\"Validation Accuracy: {val_accuracy_rf:.2f}\")\n",
    "print(f\"Training Accuracy: {train_accuracy_rf:.2f}\")\n",
    "\n"
   ]
  },
  {
   "cell_type": "markdown",
   "id": "833dc22a-4b63-4a3f-bc2b-1d1c2c554194",
   "metadata": {},
   "source": [
    "# KNN"
   ]
  },
  {
   "cell_type": "code",
   "execution_count": 37,
   "id": "c04a4786-7f46-4c24-ba68-5d9ff707868e",
   "metadata": {
    "tags": []
   },
   "outputs": [
    {
     "name": "stdout",
     "output_type": "stream",
     "text": [
      "K-Nearest Neighbors:\n",
      "Best Hyperparameters: {'n_neighbors': 7, 'weights': 'uniform'}\n",
      "Validation Accuracy: 0.67\n",
      "Training Accuracy: 0.74\n"
     ]
    }
   ],
   "source": [
    "# Define hyperparameter grid to search for KNN\n",
    "param_grid_knn = {\n",
    "    'n_neighbors': [3, 5, 7, 9],  # Number of neighbors\n",
    "    'weights': ['uniform', 'distance'],  # Weighting scheme\n",
    "}\n",
    "\n",
    "# Create the KNN classifier\n",
    "knn = KNeighborsClassifier()\n",
    "\n",
    "# Create GridSearchCV with the KNN classifier and hyperparameter grid\n",
    "grid_search_knn = GridSearchCV(knn, param_grid_knn, cv=5, scoring='accuracy')\n",
    "\n",
    "# Fit the model with the training data\n",
    "grid_search_knn.fit(X_train, y_train)\n",
    "\n",
    "# Get the best hyperparameters from the search\n",
    "best_params_knn = grid_search_knn.best_params_\n",
    "\n",
    "# Get the best estimator (model) from the search\n",
    "best_knn = grid_search_knn.best_estimator_\n",
    "\n",
    "# Make predictions on the validation set using the best model\n",
    "y_val_pred_knn = best_knn.predict(X_val)\n",
    "\n",
    "# Calculate accuracy on the validation set\n",
    "val_accuracy_knn = accuracy_score(y_val, y_val_pred_knn)\n",
    "\n",
    "# Make predictions on the training set using the best KNN model\n",
    "y_train_pred_knn = best_knn.predict(X_train)\n",
    "\n",
    "# Calculate accuracy on the training set\n",
    "train_accuracy_knn = accuracy_score(y_train, y_train_pred_knn)\n",
    "\n",
    "print(\"K-Nearest Neighbors:\")\n",
    "print(f\"Best Hyperparameters: {best_params_knn}\")\n",
    "print(f\"Validation Accuracy: {val_accuracy_knn:.2f}\")\n",
    "print(f\"Training Accuracy: {train_accuracy_knn:.2f}\")\n"
   ]
  },
  {
   "cell_type": "markdown",
   "id": "aa702571-01bc-40d6-b2ac-a4fa7e14281c",
   "metadata": {},
   "source": [
    "# LogiReg"
   ]
  },
  {
   "cell_type": "code",
   "execution_count": 40,
   "id": "06973c97-0ea8-40e8-a7bf-d8bea25d1778",
   "metadata": {
    "tags": []
   },
   "outputs": [
    {
     "name": "stdout",
     "output_type": "stream",
     "text": [
      "Logistic Regression:\n",
      "Best Hyperparameters: {'C': 0.001, 'solver': 'newton-cg'}\n",
      "Validation Accuracy: 0.70\n",
      "Training Accuracy: 0.72\n"
     ]
    }
   ],
   "source": [
    "# Define hyperparameter grid to search for Logistic Regression\n",
    "param_grid_logreg = {\n",
    "    'C': [0.001, 0.01, 0.1, 1, 10, 100],  # Regularization parameter\n",
    "    'solver': ['newton-cg', 'lbfgs', 'liblinear', 'sag', 'saga']  # Solver options\n",
    "}\n",
    "\n",
    "# Create the Logistic Regression classifier\n",
    "logreg = LogisticRegression(random_state=42)\n",
    "\n",
    "# Create GridSearchCV with the Logistic Regression classifier and hyperparameter grid\n",
    "grid_search_logreg = GridSearchCV(logreg, param_grid_logreg, cv=5, scoring='accuracy')\n",
    "\n",
    "# Fit the model with the training data\n",
    "grid_search_logreg.fit(X_train, y_train)\n",
    "\n",
    "# Get the best hyperparameters from the search\n",
    "best_params_logreg = grid_search_logreg.best_params_\n",
    "\n",
    "# Get the best estimator (model) from the search\n",
    "best_logreg = grid_search_logreg.best_estimator_\n",
    "\n",
    "# Make predictions on the validation set using the best model\n",
    "y_val_pred_logreg = best_logreg.predict(X_val)\n",
    "\n",
    "# Calculate accuracy on the validation set\n",
    "val_accuracy_logreg = accuracy_score(y_val, y_val_pred_logreg)\n",
    "\n",
    "# Make predictions on the training set using the best Logistic Regression model\n",
    "y_train_pred_logreg = best_logreg.predict(X_train)\n",
    "\n",
    "# Calculate accuracy on the training set\n",
    "train_accuracy_logreg = accuracy_score(y_train, y_train_pred_logreg)\n",
    "\n",
    "print(\"Logistic Regression:\")\n",
    "print(f\"Best Hyperparameters: {best_params_logreg}\")\n",
    "print(f\"Validation Accuracy: {val_accuracy_logreg:.2f}\")\n",
    "print(f\"Training Accuracy: {train_accuracy_logreg:.2f}\")\n"
   ]
  },
  {
   "cell_type": "markdown",
   "id": "20a6f3cb-2405-4ceb-a562-07ecfc4017d8",
   "metadata": {},
   "source": [
    "# Naive Bayes"
   ]
  },
  {
   "cell_type": "code",
   "execution_count": 43,
   "id": "b9f64b2d-5382-492e-9f58-7abd82ec077f",
   "metadata": {
    "tags": []
   },
   "outputs": [
    {
     "name": "stdout",
     "output_type": "stream",
     "text": [
      "Naive Bayes (Gaussian):\n",
      "Validation Accuracy: 0.64\n",
      "Training Accuracy: 0.69\n"
     ]
    }
   ],
   "source": [
    "# Create the Gaussian Naive Bayes classifier\n",
    "gnb = GaussianNB()\n",
    "\n",
    "# Fit the model with the training data\n",
    "gnb.fit(X_train, y_train)\n",
    "\n",
    "# Make predictions on the validation set\n",
    "y_val_pred_gnb = gnb.predict(X_val)\n",
    "\n",
    "# Calculate accuracy on the validation set\n",
    "val_accuracy_gnb = accuracy_score(y_val, y_val_pred_gnb)\n",
    "\n",
    "# Make predictions on the training set\n",
    "y_train_pred_gnb = gnb.predict(X_train)\n",
    "\n",
    "# Calculate accuracy on the training set\n",
    "train_accuracy_gnb = accuracy_score(y_train, y_train_pred_gnb)\n",
    "\n",
    "print(\"Naive Bayes (Gaussian):\")\n",
    "print(f\"Validation Accuracy: {val_accuracy_gnb:.2f}\")\n",
    "print(f\"Training Accuracy: {train_accuracy_gnb:.2f}\")\n"
   ]
  },
  {
   "cell_type": "markdown",
   "id": "f6d71005-417e-4bef-8866-273a0dc60b5f",
   "metadata": {},
   "source": [
    "# XG BOOST"
   ]
  },
  {
   "cell_type": "code",
   "execution_count": 46,
   "id": "4c87f745-6996-48f1-85df-49a67a48d82f",
   "metadata": {
    "tags": []
   },
   "outputs": [
    {
     "ename": "ValueError",
     "evalue": "\nAll the 180 fits failed.\nIt is very likely that your model is misconfigured.\nYou can try to debug the error by setting error_score='raise'.\n\nBelow are more details about the failures:\n--------------------------------------------------------------------------------\n180 fits failed with the following error:\nTraceback (most recent call last):\n  File \"/opt/homebrew/anaconda3/lib/python3.11/site-packages/sklearn/model_selection/_validation.py\", line 732, in _fit_and_score\n    estimator.fit(X_train, y_train, **fit_params)\n  File \"/opt/homebrew/anaconda3/lib/python3.11/site-packages/xgboost/core.py\", line 620, in inner_f\n    return func(**kwargs)\n           ^^^^^^^^^^^^^^\n  File \"/opt/homebrew/anaconda3/lib/python3.11/site-packages/xgboost/sklearn.py\", line 1440, in fit\n    raise ValueError(\nValueError: Invalid classes inferred from unique values of `y`.  Expected: [0 1], got [3 4]\n",
     "output_type": "error",
     "traceback": [
      "\u001b[0;31m---------------------------------------------------------------------------\u001b[0m",
      "\u001b[0;31mValueError\u001b[0m                                Traceback (most recent call last)",
      "Cell \u001b[0;32mIn[46], line 15\u001b[0m\n\u001b[1;32m     12\u001b[0m grid_search_xgb \u001b[38;5;241m=\u001b[39m GridSearchCV(xgb_classifier, param_grid_xgb, cv\u001b[38;5;241m=\u001b[39m\u001b[38;5;241m5\u001b[39m, scoring\u001b[38;5;241m=\u001b[39m\u001b[38;5;124m'\u001b[39m\u001b[38;5;124maccuracy\u001b[39m\u001b[38;5;124m'\u001b[39m)\n\u001b[1;32m     14\u001b[0m \u001b[38;5;66;03m# Fit the model with the training data\u001b[39;00m\n\u001b[0;32m---> 15\u001b[0m grid_search_xgb\u001b[38;5;241m.\u001b[39mfit(X_train, y_train)\n\u001b[1;32m     17\u001b[0m \u001b[38;5;66;03m# Get the best hyperparameters from the search\u001b[39;00m\n\u001b[1;32m     18\u001b[0m best_params_xgb \u001b[38;5;241m=\u001b[39m grid_search_xgb\u001b[38;5;241m.\u001b[39mbest_params_\n",
      "File \u001b[0;32m/opt/homebrew/anaconda3/lib/python3.11/site-packages/sklearn/base.py:1151\u001b[0m, in \u001b[0;36m_fit_context.<locals>.decorator.<locals>.wrapper\u001b[0;34m(estimator, *args, **kwargs)\u001b[0m\n\u001b[1;32m   1144\u001b[0m     estimator\u001b[38;5;241m.\u001b[39m_validate_params()\n\u001b[1;32m   1146\u001b[0m \u001b[38;5;28;01mwith\u001b[39;00m config_context(\n\u001b[1;32m   1147\u001b[0m     skip_parameter_validation\u001b[38;5;241m=\u001b[39m(\n\u001b[1;32m   1148\u001b[0m         prefer_skip_nested_validation \u001b[38;5;129;01mor\u001b[39;00m global_skip_validation\n\u001b[1;32m   1149\u001b[0m     )\n\u001b[1;32m   1150\u001b[0m ):\n\u001b[0;32m-> 1151\u001b[0m     \u001b[38;5;28;01mreturn\u001b[39;00m fit_method(estimator, \u001b[38;5;241m*\u001b[39margs, \u001b[38;5;241m*\u001b[39m\u001b[38;5;241m*\u001b[39mkwargs)\n",
      "File \u001b[0;32m/opt/homebrew/anaconda3/lib/python3.11/site-packages/sklearn/model_selection/_search.py:898\u001b[0m, in \u001b[0;36mBaseSearchCV.fit\u001b[0;34m(self, X, y, groups, **fit_params)\u001b[0m\n\u001b[1;32m    892\u001b[0m     results \u001b[38;5;241m=\u001b[39m \u001b[38;5;28mself\u001b[39m\u001b[38;5;241m.\u001b[39m_format_results(\n\u001b[1;32m    893\u001b[0m         all_candidate_params, n_splits, all_out, all_more_results\n\u001b[1;32m    894\u001b[0m     )\n\u001b[1;32m    896\u001b[0m     \u001b[38;5;28;01mreturn\u001b[39;00m results\n\u001b[0;32m--> 898\u001b[0m \u001b[38;5;28mself\u001b[39m\u001b[38;5;241m.\u001b[39m_run_search(evaluate_candidates)\n\u001b[1;32m    900\u001b[0m \u001b[38;5;66;03m# multimetric is determined here because in the case of a callable\u001b[39;00m\n\u001b[1;32m    901\u001b[0m \u001b[38;5;66;03m# self.scoring the return type is only known after calling\u001b[39;00m\n\u001b[1;32m    902\u001b[0m first_test_score \u001b[38;5;241m=\u001b[39m all_out[\u001b[38;5;241m0\u001b[39m][\u001b[38;5;124m\"\u001b[39m\u001b[38;5;124mtest_scores\u001b[39m\u001b[38;5;124m\"\u001b[39m]\n",
      "File \u001b[0;32m/opt/homebrew/anaconda3/lib/python3.11/site-packages/sklearn/model_selection/_search.py:1419\u001b[0m, in \u001b[0;36mGridSearchCV._run_search\u001b[0;34m(self, evaluate_candidates)\u001b[0m\n\u001b[1;32m   1417\u001b[0m \u001b[38;5;28;01mdef\u001b[39;00m \u001b[38;5;21m_run_search\u001b[39m(\u001b[38;5;28mself\u001b[39m, evaluate_candidates):\n\u001b[1;32m   1418\u001b[0m \u001b[38;5;250m    \u001b[39m\u001b[38;5;124;03m\"\"\"Search all candidates in param_grid\"\"\"\u001b[39;00m\n\u001b[0;32m-> 1419\u001b[0m     evaluate_candidates(ParameterGrid(\u001b[38;5;28mself\u001b[39m\u001b[38;5;241m.\u001b[39mparam_grid))\n",
      "File \u001b[0;32m/opt/homebrew/anaconda3/lib/python3.11/site-packages/sklearn/model_selection/_search.py:875\u001b[0m, in \u001b[0;36mBaseSearchCV.fit.<locals>.evaluate_candidates\u001b[0;34m(candidate_params, cv, more_results)\u001b[0m\n\u001b[1;32m    868\u001b[0m \u001b[38;5;28;01melif\u001b[39;00m \u001b[38;5;28mlen\u001b[39m(out) \u001b[38;5;241m!=\u001b[39m n_candidates \u001b[38;5;241m*\u001b[39m n_splits:\n\u001b[1;32m    869\u001b[0m     \u001b[38;5;28;01mraise\u001b[39;00m \u001b[38;5;167;01mValueError\u001b[39;00m(\n\u001b[1;32m    870\u001b[0m         \u001b[38;5;124m\"\u001b[39m\u001b[38;5;124mcv.split and cv.get_n_splits returned \u001b[39m\u001b[38;5;124m\"\u001b[39m\n\u001b[1;32m    871\u001b[0m         \u001b[38;5;124m\"\u001b[39m\u001b[38;5;124minconsistent results. Expected \u001b[39m\u001b[38;5;132;01m{}\u001b[39;00m\u001b[38;5;124m \u001b[39m\u001b[38;5;124m\"\u001b[39m\n\u001b[1;32m    872\u001b[0m         \u001b[38;5;124m\"\u001b[39m\u001b[38;5;124msplits, got \u001b[39m\u001b[38;5;132;01m{}\u001b[39;00m\u001b[38;5;124m\"\u001b[39m\u001b[38;5;241m.\u001b[39mformat(n_splits, \u001b[38;5;28mlen\u001b[39m(out) \u001b[38;5;241m/\u001b[39m\u001b[38;5;241m/\u001b[39m n_candidates)\n\u001b[1;32m    873\u001b[0m     )\n\u001b[0;32m--> 875\u001b[0m _warn_or_raise_about_fit_failures(out, \u001b[38;5;28mself\u001b[39m\u001b[38;5;241m.\u001b[39merror_score)\n\u001b[1;32m    877\u001b[0m \u001b[38;5;66;03m# For callable self.scoring, the return type is only know after\u001b[39;00m\n\u001b[1;32m    878\u001b[0m \u001b[38;5;66;03m# calling. If the return type is a dictionary, the error scores\u001b[39;00m\n\u001b[1;32m    879\u001b[0m \u001b[38;5;66;03m# can now be inserted with the correct key. The type checking\u001b[39;00m\n\u001b[1;32m    880\u001b[0m \u001b[38;5;66;03m# of out will be done in `_insert_error_scores`.\u001b[39;00m\n\u001b[1;32m    881\u001b[0m \u001b[38;5;28;01mif\u001b[39;00m \u001b[38;5;28mcallable\u001b[39m(\u001b[38;5;28mself\u001b[39m\u001b[38;5;241m.\u001b[39mscoring):\n",
      "File \u001b[0;32m/opt/homebrew/anaconda3/lib/python3.11/site-packages/sklearn/model_selection/_validation.py:414\u001b[0m, in \u001b[0;36m_warn_or_raise_about_fit_failures\u001b[0;34m(results, error_score)\u001b[0m\n\u001b[1;32m    407\u001b[0m \u001b[38;5;28;01mif\u001b[39;00m num_failed_fits \u001b[38;5;241m==\u001b[39m num_fits:\n\u001b[1;32m    408\u001b[0m     all_fits_failed_message \u001b[38;5;241m=\u001b[39m (\n\u001b[1;32m    409\u001b[0m         \u001b[38;5;124mf\u001b[39m\u001b[38;5;124m\"\u001b[39m\u001b[38;5;130;01m\\n\u001b[39;00m\u001b[38;5;124mAll the \u001b[39m\u001b[38;5;132;01m{\u001b[39;00mnum_fits\u001b[38;5;132;01m}\u001b[39;00m\u001b[38;5;124m fits failed.\u001b[39m\u001b[38;5;130;01m\\n\u001b[39;00m\u001b[38;5;124m\"\u001b[39m\n\u001b[1;32m    410\u001b[0m         \u001b[38;5;124m\"\u001b[39m\u001b[38;5;124mIt is very likely that your model is misconfigured.\u001b[39m\u001b[38;5;130;01m\\n\u001b[39;00m\u001b[38;5;124m\"\u001b[39m\n\u001b[1;32m    411\u001b[0m         \u001b[38;5;124m\"\u001b[39m\u001b[38;5;124mYou can try to debug the error by setting error_score=\u001b[39m\u001b[38;5;124m'\u001b[39m\u001b[38;5;124mraise\u001b[39m\u001b[38;5;124m'\u001b[39m\u001b[38;5;124m.\u001b[39m\u001b[38;5;130;01m\\n\u001b[39;00m\u001b[38;5;130;01m\\n\u001b[39;00m\u001b[38;5;124m\"\u001b[39m\n\u001b[1;32m    412\u001b[0m         \u001b[38;5;124mf\u001b[39m\u001b[38;5;124m\"\u001b[39m\u001b[38;5;124mBelow are more details about the failures:\u001b[39m\u001b[38;5;130;01m\\n\u001b[39;00m\u001b[38;5;132;01m{\u001b[39;00mfit_errors_summary\u001b[38;5;132;01m}\u001b[39;00m\u001b[38;5;124m\"\u001b[39m\n\u001b[1;32m    413\u001b[0m     )\n\u001b[0;32m--> 414\u001b[0m     \u001b[38;5;28;01mraise\u001b[39;00m \u001b[38;5;167;01mValueError\u001b[39;00m(all_fits_failed_message)\n\u001b[1;32m    416\u001b[0m \u001b[38;5;28;01melse\u001b[39;00m:\n\u001b[1;32m    417\u001b[0m     some_fits_failed_message \u001b[38;5;241m=\u001b[39m (\n\u001b[1;32m    418\u001b[0m         \u001b[38;5;124mf\u001b[39m\u001b[38;5;124m\"\u001b[39m\u001b[38;5;130;01m\\n\u001b[39;00m\u001b[38;5;132;01m{\u001b[39;00mnum_failed_fits\u001b[38;5;132;01m}\u001b[39;00m\u001b[38;5;124m fits failed out of a total of \u001b[39m\u001b[38;5;132;01m{\u001b[39;00mnum_fits\u001b[38;5;132;01m}\u001b[39;00m\u001b[38;5;124m.\u001b[39m\u001b[38;5;130;01m\\n\u001b[39;00m\u001b[38;5;124m\"\u001b[39m\n\u001b[1;32m    419\u001b[0m         \u001b[38;5;124m\"\u001b[39m\u001b[38;5;124mThe score on these train-test partitions for these parameters\u001b[39m\u001b[38;5;124m\"\u001b[39m\n\u001b[0;32m   (...)\u001b[0m\n\u001b[1;32m    423\u001b[0m         \u001b[38;5;124mf\u001b[39m\u001b[38;5;124m\"\u001b[39m\u001b[38;5;124mBelow are more details about the failures:\u001b[39m\u001b[38;5;130;01m\\n\u001b[39;00m\u001b[38;5;132;01m{\u001b[39;00mfit_errors_summary\u001b[38;5;132;01m}\u001b[39;00m\u001b[38;5;124m\"\u001b[39m\n\u001b[1;32m    424\u001b[0m     )\n",
      "\u001b[0;31mValueError\u001b[0m: \nAll the 180 fits failed.\nIt is very likely that your model is misconfigured.\nYou can try to debug the error by setting error_score='raise'.\n\nBelow are more details about the failures:\n--------------------------------------------------------------------------------\n180 fits failed with the following error:\nTraceback (most recent call last):\n  File \"/opt/homebrew/anaconda3/lib/python3.11/site-packages/sklearn/model_selection/_validation.py\", line 732, in _fit_and_score\n    estimator.fit(X_train, y_train, **fit_params)\n  File \"/opt/homebrew/anaconda3/lib/python3.11/site-packages/xgboost/core.py\", line 620, in inner_f\n    return func(**kwargs)\n           ^^^^^^^^^^^^^^\n  File \"/opt/homebrew/anaconda3/lib/python3.11/site-packages/xgboost/sklearn.py\", line 1440, in fit\n    raise ValueError(\nValueError: Invalid classes inferred from unique values of `y`.  Expected: [0 1], got [3 4]\n"
     ]
    }
   ],
   "source": [
    "# Define hyperparameter grid to search for XGBoost\n",
    "param_grid_xgb = {\n",
    "    'learning_rate': [0.01, 0.1, 0.2],\n",
    "    'max_depth': [3, 4, 5, 6],\n",
    "    'n_estimators': [100, 200, 300]\n",
    "}\n",
    "\n",
    "# Create the XGBoost classifier\n",
    "xgb_classifier = xgb.XGBClassifier(random_state=42)\n",
    "\n",
    "# Create GridSearchCV with the XGBoost classifier and hyperparameter grid\n",
    "grid_search_xgb = GridSearchCV(xgb_classifier, param_grid_xgb, cv=5, scoring='accuracy')\n",
    "\n",
    "# Fit the model with the training data\n",
    "grid_search_xgb.fit(X_train, y_train)\n",
    "\n",
    "# Get the best hyperparameters from the search\n",
    "best_params_xgb = grid_search_xgb.best_params_\n",
    "\n",
    "# Get the best estimator (model) from the search\n",
    "best_xgb = grid_search_xgb.best_estimator_\n",
    "\n",
    "# Make predictions on the validation set using the best model\n",
    "y_val_pred_xgb = best_xgb.predict(X_val)\n",
    "\n",
    "# Calculate accuracy on the validation set\n",
    "val_accuracy_xgb = accuracy_score(y_val, y_val_pred_xgb)\n",
    "\n",
    "# Make predictions on the training set using the best XGBoost model\n",
    "y_train_pred_xgb = best_xgb.predict(X_train)\n",
    "\n",
    "# Calculate accuracy on the training set\n",
    "train_accuracy_xgb = accuracy_score(y_train, y_train_pred_xgb)\n",
    "\n",
    "print(\"XGBoost:\")\n",
    "print(f\"Best Hyperparameters: {best_params_xgb}\")\n",
    "print(f\"Validation Accuracy: {val_accuracy_xgb:.2f}\")\n",
    "print(f\"Training Accuracy: {train_accuracy_xgb:.2f}\")\n"
   ]
  },
  {
   "cell_type": "code",
   "execution_count": null,
   "id": "8fcb5f53-7092-44f0-8bb3-2d212f8b4e42",
   "metadata": {},
   "outputs": [],
   "source": []
  }
 ],
 "metadata": {
  "kernelspec": {
   "display_name": "Python 3 (ipykernel)",
   "language": "python",
   "name": "python3"
  },
  "language_info": {
   "codemirror_mode": {
    "name": "ipython",
    "version": 3
   },
   "file_extension": ".py",
   "mimetype": "text/x-python",
   "name": "python",
   "nbconvert_exporter": "python",
   "pygments_lexer": "ipython3",
   "version": "3.11.4"
  }
 },
 "nbformat": 4,
 "nbformat_minor": 5
}
