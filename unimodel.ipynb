{
 "cells": [
  {
   "cell_type": "markdown",
   "id": "3151fdae-9c3b-47cf-9e3c-f75b249b38ff",
   "metadata": {},
   "source": [
    "# Count Vect Modeling for Pros and Cons TRIGRAMS"
   ]
  },
  {
   "cell_type": "code",
   "execution_count": 4,
   "id": "642bfaba-2a0b-4f1f-8b26-0ab809edc9f9",
   "metadata": {},
   "outputs": [],
   "source": [
    "import wrangle as w\n",
    "import nltk\n",
    "from collections import Counter\n",
    "from sklearn.feature_extraction.text import CountVectorizer\n",
    "import pandas as pd\n",
    "from scipy.stats import ttest_ind\n",
    "import warnings\n",
    "warnings.filterwarnings('ignore')\n",
    "from sklearn.metrics import confusion_matrix\n",
    "from sklearn.linear_model import LogisticRegression\n",
    "from sklearn.ensemble import RandomForestClassifier\n",
    "from sklearn.tree import DecisionTreeClassifier, plot_tree\n",
    "from sklearn.neighbors import KNeighborsClassifier\n",
    "from sklearn.metrics import accuracy_score\n",
    "import pandas as pd\n",
    "from nltk.util import ngrams\n",
    "from nltk.tokenize import word_tokenize\n",
    "from nltk.stem import WordNetLemmatizer\n",
    "from nltk.util import ngrams\n",
    "from sklearn.feature_extraction.text import TfidfVectorizer\n",
    "from sklearn.model_selection import train_test_split\n",
    "from sklearn.linear_model import LogisticRegression  # You can choose a different model\n",
    "from sklearn.metrics import accuracy_score, classification_report\n",
    "from sklearn.model_selection import GridSearchCV\n",
    "from sklearn.naive_bayes import GaussianNB\n",
    "import xgboost as xgb\n",
    "import xgboost"
   ]
  },
  {
   "cell_type": "markdown",
   "id": "60c0dc65-e61a-4cd3-9821-d9d9e989b608",
   "metadata": {},
   "source": [
    "# Pros Modeling "
   ]
  },
  {
   "cell_type": "code",
   "execution_count": 5,
   "id": "d08a7064-22f2-456d-8826-cdfdf520a993",
   "metadata": {
    "tags": []
   },
   "outputs": [],
   "source": [
    "train, val, test, countvect = w.wrangle_glassdoor()"
   ]
  },
  {
   "cell_type": "code",
   "execution_count": 6,
   "id": "5875cb21-85a8-4ece-be43-c5d6715e5880",
   "metadata": {
    "tags": []
   },
   "outputs": [],
   "source": [
    "train, val, test = countvect"
   ]
  },
  {
   "cell_type": "code",
   "execution_count": 7,
   "id": "ba3c71e2-822f-4ee4-b861-1333193468ef",
   "metadata": {
    "tags": []
   },
   "outputs": [
    {
     "name": "stdout",
     "output_type": "stream",
     "text": [
      "Most Common Class: 3\n",
      "Baseline Accuracy: 0.70\n"
     ]
    }
   ],
   "source": [
    "most_common = train[\"binned_rating_int\"].value_counts().idxmax()\n",
    "most_common_frequency = train[\"binned_rating_int\"].value_counts().max()\n",
    "\n",
    "baseline_accuracy = most_common_frequency / len(train)\n",
    "\n",
    "print(f\"Most Common Class: {most_common}\")\n",
    "print(f\"Baseline Accuracy: {baseline_accuracy:.2f}\")\n",
    "\n"
   ]
  },
  {
   "cell_type": "markdown",
   "id": "ac71f310-eb61-499b-94b0-d18e9feb66e0",
   "metadata": {},
   "source": [
    "## Decision Tree"
   ]
  },
  {
   "cell_type": "code",
   "execution_count": 9,
   "id": "8795e45b-4ddd-4012-8486-47743d3db33f",
   "metadata": {
    "tags": []
   },
   "outputs": [],
   "source": [
    "X_train = train[['pros_work', 'pros_great', 'pros_good', 'pros_benefit', 'pros_people', 'cons_work', 'cons_great', 'cons_good', 'cons_benefit', 'cons_people']]\n",
    "y_train = train[\"binned_rating_int\"]\n",
    "\n",
    "X_val = val[['pros_work', 'pros_great', 'pros_good', 'pros_benefit', 'pros_people', 'cons_work', 'cons_great', 'cons_good', 'cons_benefit', 'cons_people']]\n",
    "y_val = val[\"binned_rating_int\"]\n",
    "\n",
    "X_test = test[['pros_work', 'pros_great', 'pros_good', 'pros_benefit', 'pros_people', 'cons_work', 'cons_great', 'cons_good', 'cons_benefit', 'cons_people']]\n",
    "y_test = test[\"binned_rating_int\"]\n"
   ]
  },
  {
   "cell_type": "code",
   "execution_count": 39,
   "id": "3b84d8e7-a43d-403c-b137-78f25c405217",
   "metadata": {
    "tags": []
   },
   "outputs": [
    {
     "name": "stdout",
     "output_type": "stream",
     "text": [
      "Decision Tree:\n",
      "Best Hyperparameters: {'max_depth': None, 'min_samples_split': 10}\n",
      "Validation Accuracy: 0.65\n",
      "Training Accuracy: 0.91\n"
     ]
    }
   ],
   "source": [
    "param_grid_tree = {\n",
    "    'max_depth': [None, 10, 20, 30],  # Maximum depth of the tree\n",
    "    'min_samples_split': [2, 5, 10],  # Minimum number of samples required to split a node\n",
    "}\n",
    "\n",
    "# Create the Decision Tree classifier\n",
    "tree = DecisionTreeClassifier(random_state=42)\n",
    "\n",
    "# Create GridSearchCV with the Decision Tree classifier and hyperparameter grid\n",
    "grid_search_tree = GridSearchCV(tree, param_grid_tree, cv=5, scoring='accuracy')\n",
    "\n",
    "# Fit the model with the training data\n",
    "grid_search_tree.fit(X_train, y_train)\n",
    "\n",
    "# Get the best hyperparameters from the search\n",
    "best_params_tree = grid_search_tree.best_params_\n",
    "\n",
    "# Get the best estimator (model) from the search\n",
    "best_tree = grid_search_tree.best_estimator_\n",
    "\n",
    "# Make predictions on the validation set using the best model\n",
    "y_val_pred_tree = best_tree.predict(X_val)\n",
    "\n",
    "# Calculate accuracy on the validation set\n",
    "val_accuracy_tree = accuracy_score(y_val, y_val_pred_tree)\n",
    "\n",
    "# Make predictions on the training set using the best Decision Tree model\n",
    "y_train_pred_tree = best_tree.predict(X_train)\n",
    "\n",
    "# Calculate accuracy on the training set\n",
    "train_accuracy_tree = accuracy_score(y_train, y_train_pred_tree)\n",
    "\n",
    "print(\"Decision Tree:\")\n",
    "print(f\"Best Hyperparameters: {best_params_tree}\")\n",
    "print(f\"Validation Accuracy: {val_accuracy_tree:.2f}\")\n",
    "print(f\"Training Accuracy: {train_accuracy_tree:.2f}\")\n"
   ]
  },
  {
   "cell_type": "markdown",
   "id": "4909d6af-31b3-41ed-8779-167460bd7229",
   "metadata": {},
   "source": [
    "# RandomForrest"
   ]
  },
  {
   "cell_type": "code",
   "execution_count": 38,
   "id": "40d98753-0347-4249-8bd0-f267d196e932",
   "metadata": {
    "tags": []
   },
   "outputs": [
    {
     "name": "stdout",
     "output_type": "stream",
     "text": [
      "Random Forest:\n",
      "Best Hyperparameters: {'max_depth': None, 'n_estimators': 50}\n",
      "Validation Accuracy: 0.64\n",
      "Training Accuracy: 1.00\n"
     ]
    }
   ],
   "source": [
    "# Define hyperparameter grid to search for Random Forest\n",
    "param_grid_rf = {\n",
    "    'n_estimators': [50, 100, 200],  # Number of trees\n",
    "    'max_depth': [None, 10, 20, 30],  # Maximum depth of trees\n",
    "}\n",
    "\n",
    "# Create the Random Forest classifier\n",
    "rf = RandomForestClassifier(random_state=42)\n",
    "\n",
    "# Create GridSearchCV with the Random Forest classifier and hyperparameter grid\n",
    "grid_search_rf = GridSearchCV(rf, param_grid_rf, cv=5, scoring='accuracy')\n",
    "\n",
    "# Fit the model with the training data\n",
    "grid_search_rf.fit(X_train, y_train)\n",
    "\n",
    "# Get the best hyperparameters from the search\n",
    "best_params_rf = grid_search_rf.best_params_\n",
    "\n",
    "# Get the best estimator (model) from the search\n",
    "best_rf = grid_search_rf.best_estimator_\n",
    "\n",
    "# Make predictions on the validation set using the best model\n",
    "y_val_pred_rf = best_rf.predict(X_val)\n",
    "\n",
    "# Calculate accuracy on the validation set\n",
    "val_accuracy_rf = accuracy_score(y_val, y_val_pred_rf)\n",
    "\n",
    "# Make predictions on the training set using the best Random Forest model\n",
    "y_train_pred_rf = best_rf.predict(X_train)\n",
    "\n",
    "# Calculate accuracy on the training set\n",
    "train_accuracy_rf = accuracy_score(y_train, y_train_pred_rf)\n",
    "\n",
    "print(\"Random Forest:\")\n",
    "print(f\"Best Hyperparameters: {best_params_rf}\")\n",
    "print(f\"Validation Accuracy: {val_accuracy_rf:.2f}\")\n",
    "print(f\"Training Accuracy: {train_accuracy_rf:.2f}\")\n",
    "\n"
   ]
  },
  {
   "cell_type": "markdown",
   "id": "833dc22a-4b63-4a3f-bc2b-1d1c2c554194",
   "metadata": {},
   "source": [
    "# KNN"
   ]
  },
  {
   "cell_type": "code",
   "execution_count": 37,
   "id": "c04a4786-7f46-4c24-ba68-5d9ff707868e",
   "metadata": {
    "tags": []
   },
   "outputs": [
    {
     "name": "stdout",
     "output_type": "stream",
     "text": [
      "K-Nearest Neighbors:\n",
      "Best Hyperparameters: {'n_neighbors': 7, 'weights': 'uniform'}\n",
      "Validation Accuracy: 0.67\n",
      "Training Accuracy: 0.74\n"
     ]
    }
   ],
   "source": [
    "# Define hyperparameter grid to search for KNN\n",
    "param_grid_knn = {\n",
    "    'n_neighbors': [3, 5, 7, 9],  # Number of neighbors\n",
    "    'weights': ['uniform', 'distance'],  # Weighting scheme\n",
    "}\n",
    "\n",
    "# Create the KNN classifier\n",
    "knn = KNeighborsClassifier()\n",
    "\n",
    "# Create GridSearchCV with the KNN classifier and hyperparameter grid\n",
    "grid_search_knn = GridSearchCV(knn, param_grid_knn, cv=5, scoring='accuracy')\n",
    "\n",
    "# Fit the model with the training data\n",
    "grid_search_knn.fit(X_train, y_train)\n",
    "\n",
    "# Get the best hyperparameters from the search\n",
    "best_params_knn = grid_search_knn.best_params_\n",
    "\n",
    "# Get the best estimator (model) from the search\n",
    "best_knn = grid_search_knn.best_estimator_\n",
    "\n",
    "# Make predictions on the validation set using the best model\n",
    "y_val_pred_knn = best_knn.predict(X_val)\n",
    "\n",
    "# Calculate accuracy on the validation set\n",
    "val_accuracy_knn = accuracy_score(y_val, y_val_pred_knn)\n",
    "\n",
    "# Make predictions on the training set using the best KNN model\n",
    "y_train_pred_knn = best_knn.predict(X_train)\n",
    "\n",
    "# Calculate accuracy on the training set\n",
    "train_accuracy_knn = accuracy_score(y_train, y_train_pred_knn)\n",
    "\n",
    "print(\"K-Nearest Neighbors:\")\n",
    "print(f\"Best Hyperparameters: {best_params_knn}\")\n",
    "print(f\"Validation Accuracy: {val_accuracy_knn:.2f}\")\n",
    "print(f\"Training Accuracy: {train_accuracy_knn:.2f}\")\n"
   ]
  },
  {
   "cell_type": "markdown",
   "id": "aa702571-01bc-40d6-b2ac-a4fa7e14281c",
   "metadata": {},
   "source": [
    "# LogiReg"
   ]
  },
  {
   "cell_type": "code",
   "execution_count": 10,
   "id": "06973c97-0ea8-40e8-a7bf-d8bea25d1778",
   "metadata": {
    "tags": []
   },
   "outputs": [
    {
     "name": "stdout",
     "output_type": "stream",
     "text": [
      "Logistic Regression:\n",
      "Best Hyperparameters: {'C': 0.001, 'solver': 'newton-cg'}\n",
      "Validation Accuracy: 0.70\n",
      "Training Accuracy: 0.72\n"
     ]
    }
   ],
   "source": [
    "# Define hyperparameter grid to search for Logistic Regression\n",
    "param_grid_logreg = {\n",
    "    'C': [0.001, 0.01, 0.1, 1, 10, 100],  # Regularization parameter\n",
    "    'solver': ['newton-cg', 'lbfgs', 'liblinear', 'sag', 'saga']  # Solver options\n",
    "}\n",
    "\n",
    "# Create the Logistic Regression classifier\n",
    "logreg = LogisticRegression(random_state=42)\n",
    "\n",
    "# Create GridSearchCV with the Logistic Regression classifier and hyperparameter grid\n",
    "grid_search_logreg = GridSearchCV(logreg, param_grid_logreg, cv=5, scoring='accuracy')\n",
    "\n",
    "# Fit the model with the training data\n",
    "grid_search_logreg.fit(X_train, y_train)\n",
    "\n",
    "# Get the best hyperparameters from the search\n",
    "best_params_logreg = grid_search_logreg.best_params_\n",
    "\n",
    "# Get the best estimator (model) from the search\n",
    "best_logreg = grid_search_logreg.best_estimator_\n",
    "\n",
    "# Make predictions on the validation set using the best model\n",
    "y_val_pred_logreg = best_logreg.predict(X_val)\n",
    "\n",
    "# Calculate accuracy on the validation set\n",
    "val_accuracy_logreg = accuracy_score(y_val, y_val_pred_logreg)\n",
    "\n",
    "# Make predictions on the training set using the best Logistic Regression model\n",
    "y_train_pred_logreg = best_logreg.predict(X_train)\n",
    "\n",
    "# Calculate accuracy on the training set\n",
    "train_accuracy_logreg = accuracy_score(y_train, y_train_pred_logreg)\n",
    "\n",
    "print(\"Logistic Regression:\")\n",
    "print(f\"Best Hyperparameters: {best_params_logreg}\")\n",
    "print(f\"Validation Accuracy: {val_accuracy_logreg:.2f}\")\n",
    "print(f\"Training Accuracy: {train_accuracy_logreg:.2f}\")\n"
   ]
  },
  {
   "cell_type": "markdown",
   "id": "20a6f3cb-2405-4ceb-a562-07ecfc4017d8",
   "metadata": {},
   "source": [
    "# Naive Bayes"
   ]
  },
  {
   "cell_type": "code",
   "execution_count": 43,
   "id": "b9f64b2d-5382-492e-9f58-7abd82ec077f",
   "metadata": {
    "tags": []
   },
   "outputs": [
    {
     "name": "stdout",
     "output_type": "stream",
     "text": [
      "Naive Bayes (Gaussian):\n",
      "Validation Accuracy: 0.64\n",
      "Training Accuracy: 0.69\n"
     ]
    }
   ],
   "source": [
    "# Create the Gaussian Naive Bayes classifier\n",
    "gnb = GaussianNB()\n",
    "\n",
    "# Fit the model with the training data\n",
    "gnb.fit(X_train, y_train)\n",
    "\n",
    "# Make predictions on the validation set\n",
    "y_val_pred_gnb = gnb.predict(X_val)\n",
    "\n",
    "# Calculate accuracy on the validation set\n",
    "val_accuracy_gnb = accuracy_score(y_val, y_val_pred_gnb)\n",
    "\n",
    "# Make predictions on the training set\n",
    "y_train_pred_gnb = gnb.predict(X_train)\n",
    "\n",
    "# Calculate accuracy on the training set\n",
    "train_accuracy_gnb = accuracy_score(y_train, y_train_pred_gnb)\n",
    "\n",
    "print(\"Naive Bayes (Gaussian):\")\n",
    "print(f\"Validation Accuracy: {val_accuracy_gnb:.2f}\")\n",
    "print(f\"Training Accuracy: {train_accuracy_gnb:.2f}\")\n"
   ]
  },
  {
   "cell_type": "markdown",
   "id": "f6d71005-417e-4bef-8866-273a0dc60b5f",
   "metadata": {},
   "source": [
    "# XG BOOST"
   ]
  },
  {
   "cell_type": "code",
   "execution_count": 47,
   "id": "4c87f745-6996-48f1-85df-49a67a48d82f",
   "metadata": {
    "tags": []
   },
   "outputs": [
    {
     "name": "stdout",
     "output_type": "stream",
     "text": [
      "XGBoost:\n",
      "Best Hyperparameters: {'learning_rate': 0.01, 'max_depth': 3, 'n_estimators': 300}\n",
      "Validation Accuracy: 0.67\n",
      "Training Accuracy: 0.80\n"
     ]
    }
   ],
   "source": [
    "# Map class labels to 0 and 1\n",
    "y_train = y_train.map({3: 0, 4: 1})\n",
    "y_val = y_val.map({3: 0, 4: 1})\n",
    "\n",
    "\n",
    "# Define hyperparameter grid to search for XGBoost\n",
    "param_grid_xgb = {\n",
    "    'learning_rate': [0.01, 0.1, 0.2],\n",
    "    'max_depth': [3, 4, 5, 6],\n",
    "    'n_estimators': [100, 200, 300]\n",
    "}\n",
    "\n",
    "# Create the XGBoost classifier\n",
    "xgb_classifier = xgb.XGBClassifier(random_state=42)\n",
    "\n",
    "# Create GridSearchCV with the XGBoost classifier and hyperparameter grid\n",
    "grid_search_xgb = GridSearchCV(xgb_classifier, param_grid_xgb, cv=5, scoring='accuracy')\n",
    "\n",
    "# Fit the model with the training data\n",
    "grid_search_xgb.fit(X_train, y_train)\n",
    "\n",
    "# Get the best hyperparameters from the search\n",
    "best_params_xgb = grid_search_xgb.best_params_\n",
    "\n",
    "# Get the best estimator (model) from the search\n",
    "best_xgb = grid_search_xgb.best_estimator_\n",
    "\n",
    "# Make predictions on the validation set using the best model\n",
    "y_val_pred_xgb = best_xgb.predict(X_val)\n",
    "\n",
    "# Calculate accuracy on the validation set\n",
    "val_accuracy_xgb = accuracy_score(y_val, y_val_pred_xgb)\n",
    "\n",
    "# Make predictions on the training set using the best XGBoost model\n",
    "y_train_pred_xgb = best_xgb.predict(X_train)\n",
    "\n",
    "# Calculate accuracy on the training set\n",
    "train_accuracy_xgb = accuracy_score(y_train, y_train_pred_xgb)\n",
    "\n",
    "print(\"XGBoost:\")\n",
    "print(f\"Best Hyperparameters: {best_params_xgb}\")\n",
    "print(f\"Validation Accuracy: {val_accuracy_xgb:.2f}\")\n",
    "print(f\"Training Accuracy: {train_accuracy_xgb:.2f}\")\n"
   ]
  },
  {
   "cell_type": "markdown",
   "id": "8a95053e-dfb4-41eb-ad8e-10853344a07b",
   "metadata": {},
   "source": [
    "## Test"
   ]
  },
  {
   "cell_type": "code",
   "execution_count": 15,
   "id": "37ce27c4-1f7c-4867-bcdf-6e277a1558e4",
   "metadata": {},
   "outputs": [
    {
     "name": "stdout",
     "output_type": "stream",
     "text": [
      "Logistic Regression:\n",
      "Testing Accuracy: 0.69\n"
     ]
    }
   ],
   "source": [
    "logreg = LogisticRegression(C=0.001,solver=\"newton-cg\",random_state=42)\n",
    "\n",
    "y_test_pred_logreg = best_logreg.predict(X_test)\n",
    "test_accuracy_logreg = accuracy_score(y_test, y_test_pred_logreg)\n",
    "\n",
    "print(\"Logistic Regression:\")\n",
    "print(f\"Testing Accuracy: {test_accuracy_logreg:.2f}\")"
   ]
  }
 ],
 "metadata": {
  "kernelspec": {
   "display_name": "Python 3 (ipykernel)",
   "language": "python",
   "name": "python3"
  },
  "language_info": {
   "codemirror_mode": {
    "name": "ipython",
    "version": 3
   },
   "file_extension": ".py",
   "mimetype": "text/x-python",
   "name": "python",
   "nbconvert_exporter": "python",
   "pygments_lexer": "ipython3",
   "version": "3.10.9"
  }
 },
 "nbformat": 4,
 "nbformat_minor": 5
}
