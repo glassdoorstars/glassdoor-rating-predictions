{
 "cells": [
  {
   "cell_type": "code",
   "execution_count": 1,
   "id": "832f487d",
   "metadata": {},
   "outputs": [],
   "source": [
    "import pandas as pd\n",
    "from bs4 import BeautifulSoup\n",
    "import requests\n",
    "\n",
    "from selenium import webdriver\n",
    "from selenium.webdriver.chrome.service import Service\n",
    "from selenium.webdriver.common.by import By\n",
    "from selenium.webdriver.chrome.options import Options\n",
    "from selenium.webdriver.common.action_chains import ActionChains\n",
    "from selenium.webdriver.common.keys import Keys\n",
    "\n",
    "def read_website_tables(url, webdriver_path = '~/chromedriver'):\n",
    "    \"\"\"\n",
    "        reads table elements from a url and returns these tables in a list of DataFrames\n",
    "    \"\"\"\n",
    "    # Read url and return parsed HTML\n",
    "    soup = read_website(url)\n",
    "\n",
    "    # Find all the table elements\n",
    "    table_elements = soup.find_all('table')\n",
    "\n",
    "    # Extract the HTML content from each table element\n",
    "    html_tables = [str(table) for table in table_elements]\n",
    "\n",
    "    # Pass the list of HTML tables to pd.read_html()\n",
    "    dfs = pd.read_html('\\n'.join(html_tables))\n",
    "    \n",
    "    return dfs\n",
    "\n",
    "\n",
    "def read_website(url, webdriver_path = '~/chromedriver'):\n",
    "    '''\n",
    "        read website and returns a data structure representing a parsed HTML document\n",
    "    '''\n",
    "    # Path to chromedriver executable\n",
    "    webdriver_path = webdriver_path\n",
    "\n",
    "    # Set up the Selenium driver with options\n",
    "    options = Options()\n",
    "    options.add_argument('--headless')  # Run in headless mode\n",
    "    driver = webdriver.Chrome(service=Service(webdriver_path), options=options)\n",
    "    \n",
    "    # Load the webpage\n",
    "    driver.get(url)\n",
    "\n",
    "    # Wait for the dynamic content to load (if necessary)\n",
    "    # You can use driver.implicitly_wait() or other wait methods\n",
    "\n",
    "    # Extract the page source after the dynamic content has loaded\n",
    "    source = driver.page_source\n",
    "\n",
    "    # Close the Selenium driver\n",
    "    driver.quit()\n",
    "    \n",
    "    # Parse the page source with BeautifulSoup\n",
    "    soup = BeautifulSoup(source, 'lxml')\n",
    "\n",
    "    return soup"
   ]
  },
  {
   "cell_type": "code",
   "execution_count": null,
   "id": "777cf4fb",
   "metadata": {},
   "outputs": [],
   "source": []
  }
 ],
 "metadata": {
  "kernelspec": {
   "display_name": "Python 3 (ipykernel)",
   "language": "python",
   "name": "python3"
  },
  "language_info": {
   "codemirror_mode": {
    "name": "ipython",
    "version": 3
   },
   "file_extension": ".py",
   "mimetype": "text/x-python",
   "name": "python",
   "nbconvert_exporter": "python",
   "pygments_lexer": "ipython3",
   "version": "3.10.9"
  },
  "varInspector": {
   "cols": {
    "lenName": 16,
    "lenType": 16,
    "lenVar": 40
   },
   "kernels_config": {
    "python": {
     "delete_cmd_postfix": "",
     "delete_cmd_prefix": "del ",
     "library": "var_list.py",
     "varRefreshCmd": "print(var_dic_list())"
    },
    "r": {
     "delete_cmd_postfix": ") ",
     "delete_cmd_prefix": "rm(",
     "library": "var_list.r",
     "varRefreshCmd": "cat(var_dic_list()) "
    }
   },
   "types_to_exclude": [
    "module",
    "function",
    "builtin_function_or_method",
    "instance",
    "_Feature"
   ],
   "window_display": false
  }
 },
 "nbformat": 4,
 "nbformat_minor": 5
}
