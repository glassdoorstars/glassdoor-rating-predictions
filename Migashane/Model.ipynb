{
 "cells": [
  {
   "cell_type": "markdown",
   "id": "85fd7989-b572-4d6d-a904-faec9c04be71",
   "metadata": {},
   "source": [
    "# Modeling"
   ]
  },
  {
   "cell_type": "code",
   "execution_count": 4,
   "id": "71bfe241-2c11-4408-941d-b0ab1441c4a8",
   "metadata": {},
   "outputs": [],
   "source": [
    "import wrangle\n",
    "import matplotlib.pyplot as plt\n",
    "import seaborn as sns\n",
    "import pandas as pd\n",
    "import numpy as np\n",
    "from sklearn.metrics import confusion_matrix\n",
    "from sklearn.linear_model import LogisticRegression\n",
    "from sklearn.ensemble import RandomForestClassifier\n",
    "from sklearn.tree import DecisionTreeClassifier, plot_tree\n",
    "from sklearn.neighbors import KNeighborsClassifier\n",
    "from sklearn.metrics import accuracy_score\n",
    "from sklearn.metrics import classification_report, confusion_matrix, ConfusionMatrixDisplay"
   ]
  },
  {
   "cell_type": "markdown",
   "id": "3757f1c8-82ea-4443-99c5-e89d4e76b321",
   "metadata": {},
   "source": [
    "**Get data**"
   ]
  },
  {
   "cell_type": "code",
   "execution_count": 8,
   "id": "c6b31538-4b9e-4b4b-93d9-7d65d12fdc7d",
   "metadata": {},
   "outputs": [],
   "source": [
    "import pandas as pd\n",
    "from requests import get\n",
    "from bs4 import BeautifulSoup\n",
    "import os\n",
    "from pprint import pprint\n",
    "from datetime import datetime as dt\n",
    "\n",
    "\n",
    "def get_news_articles():\n",
    "    url = \"https://inshorts.com/en/read\"\n",
    "    # set different categories to perse through\n",
    "    category = [\"business\", \"sports\", \"technology\", \"entertainment\"]\n",
    "\n",
    "    articles = {}\n",
    "    df_setup = []\n",
    "    for cat in category:\n",
    "        # read the url\n",
    "        res = get(url + \"/\" + category[0])\n",
    "        print(res)\n",
    "\n",
    "        # create a beautiful soup object\n",
    "        soup_parser = BeautifulSoup(res.content, 'html.parser').body\n",
    "\n",
    "        soup = soup_parser.find_all(\"span\", itemprop=\"mainEntityOfPage\")\n",
    "        for i in range(len(soup)):\n",
    "            link = soup[i][\"itemid\"]\n",
    "\n",
    "            article = get(link)\n",
    "            article_soup = BeautifulSoup(article.content,\"html.parser\").body\n",
    "\n",
    "            article_title = article_soup.find('span', itemprop='headline').text\n",
    "            article_body = article_soup.find('div', itemprop='articleBody').text\n",
    "            # articles[f\"article {cat} {i}\"] = [article_title, cat ,link ,article_body]\n",
    "\n",
    "            article_instance = {\n",
    "                'title': article_title,\n",
    "                'content': article_body,\n",
    "                'category': cat,\n",
    "            }\n",
    "\n",
    "            df_setup.append(article_instance)\n",
    "    return pd.DataFrame(df_setup)"
   ]
  },
  {
   "cell_type": "code",
   "execution_count": 18,
   "id": "c7ac819e-a9bb-4edf-bd73-96488928eac7",
   "metadata": {},
   "outputs": [
    {
     "name": "stdout",
     "output_type": "stream",
     "text": [
      "<Response [200]>\n",
      "<Response [200]>\n",
      "<Response [200]>\n",
      "<Response [200]>\n"
     ]
    }
   ],
   "source": [
    "rating = get_news_articles()"
   ]
  },
  {
   "cell_type": "code",
   "execution_count": 20,
   "id": "8d41019c-7613-4f66-ad01-d20272f77732",
   "metadata": {},
   "outputs": [
    {
     "data": {
      "text/plain": [
       "((24, 5), (8, 5), (8, 5))"
      ]
     },
     "execution_count": 20,
     "metadata": {},
     "output_type": "execute_result"
    }
   ],
   "source": [
    "train, val, test = wrangle.prep_readmes(rating, \"content\")\n",
    "train.shape, val.shape, test.shape"
   ]
  },
  {
   "cell_type": "markdown",
   "id": "c3c8a965-1979-436a-b4df-3ffb62841376",
   "metadata": {},
   "source": [
    "**variables**\n",
    "\n",
    "- df.stars = The stars column\n",
    "- Random state = 95"
   ]
  },
  {
   "cell_type": "code",
   "execution_count": 22,
   "id": "d83097e1-360d-4b1c-aab8-202b15139573",
   "metadata": {},
   "outputs": [
    {
     "data": {
      "text/html": [
       "<div>\n",
       "<style scoped>\n",
       "    .dataframe tbody tr th:only-of-type {\n",
       "        vertical-align: middle;\n",
       "    }\n",
       "\n",
       "    .dataframe tbody tr th {\n",
       "        vertical-align: top;\n",
       "    }\n",
       "\n",
       "    .dataframe thead th {\n",
       "        text-align: right;\n",
       "    }\n",
       "</style>\n",
       "<table border=\"1\" class=\"dataframe\">\n",
       "  <thead>\n",
       "    <tr style=\"text-align: right;\">\n",
       "      <th></th>\n",
       "      <th>title</th>\n",
       "      <th>content</th>\n",
       "      <th>category</th>\n",
       "      <th>cleaned_content</th>\n",
       "      <th>lemmatized</th>\n",
       "      <th>stars</th>\n",
       "    </tr>\n",
       "  </thead>\n",
       "  <tbody>\n",
       "    <tr>\n",
       "      <th>4</th>\n",
       "      <td>HC asks govt, Delhi to take action on illegal ...</td>\n",
       "      <td>Delhi High Court directed the Centre and the D...</td>\n",
       "      <td>business</td>\n",
       "      <td>delhi high court directed the centre and the d...</td>\n",
       "      <td>delhi high court directed centre delhi governm...</td>\n",
       "      <td>1</td>\n",
       "    </tr>\n",
       "    <tr>\n",
       "      <th>11</th>\n",
       "      <td>Remove duplication of PMJDY accounts: FM to Re...</td>\n",
       "      <td>Finance Minister Nirmala Sitharaman asked Regi...</td>\n",
       "      <td>sports</td>\n",
       "      <td>finance minister nirmala sitharaman asked regi...</td>\n",
       "      <td>finance minister nirmala sitharaman asked regi...</td>\n",
       "      <td>3</td>\n",
       "    </tr>\n",
       "    <tr>\n",
       "      <th>33</th>\n",
       "      <td>US GDP growth revised down to 2.1% annual rate...</td>\n",
       "      <td>The US economy grew at 2.1% annual pace in the...</td>\n",
       "      <td>entertainment</td>\n",
       "      <td>the us economy grew at 21 annual pace in the s...</td>\n",
       "      <td>u economy grew 21 annual pace second quarter i...</td>\n",
       "      <td>4</td>\n",
       "    </tr>\n",
       "    <tr>\n",
       "      <th>3</th>\n",
       "      <td>US GDP growth revised down to 2.1% annual rate...</td>\n",
       "      <td>The US economy grew at 2.1% annual pace in the...</td>\n",
       "      <td>business</td>\n",
       "      <td>the us economy grew at 21 annual pace in the s...</td>\n",
       "      <td>u economy grew 21 annual pace second quarter i...</td>\n",
       "      <td>3</td>\n",
       "    </tr>\n",
       "    <tr>\n",
       "      <th>39</th>\n",
       "      <td>Titagarh Rail bags ₹350-cr Gujarat Metro contr...</td>\n",
       "      <td>Titagarh Rail Systems, formerly Titagarh Wagon...</td>\n",
       "      <td>entertainment</td>\n",
       "      <td>titagarh rail systems formerly titagarh wagons...</td>\n",
       "      <td>titagarh rail system formerly titagarh wagon r...</td>\n",
       "      <td>3</td>\n",
       "    </tr>\n",
       "  </tbody>\n",
       "</table>\n",
       "</div>"
      ],
      "text/plain": [
       "                                                title  \\\n",
       "4   HC asks govt, Delhi to take action on illegal ...   \n",
       "11  Remove duplication of PMJDY accounts: FM to Re...   \n",
       "33  US GDP growth revised down to 2.1% annual rate...   \n",
       "3   US GDP growth revised down to 2.1% annual rate...   \n",
       "39  Titagarh Rail bags ₹350-cr Gujarat Metro contr...   \n",
       "\n",
       "                                              content       category  \\\n",
       "4   Delhi High Court directed the Centre and the D...       business   \n",
       "11  Finance Minister Nirmala Sitharaman asked Regi...         sports   \n",
       "33  The US economy grew at 2.1% annual pace in the...  entertainment   \n",
       "3   The US economy grew at 2.1% annual pace in the...       business   \n",
       "39  Titagarh Rail Systems, formerly Titagarh Wagon...  entertainment   \n",
       "\n",
       "                                      cleaned_content  \\\n",
       "4   delhi high court directed the centre and the d...   \n",
       "11  finance minister nirmala sitharaman asked regi...   \n",
       "33  the us economy grew at 21 annual pace in the s...   \n",
       "3   the us economy grew at 21 annual pace in the s...   \n",
       "39  titagarh rail systems formerly titagarh wagons...   \n",
       "\n",
       "                                           lemmatized  stars  \n",
       "4   delhi high court directed centre delhi governm...      1  \n",
       "11  finance minister nirmala sitharaman asked regi...      3  \n",
       "33  u economy grew 21 annual pace second quarter i...      4  \n",
       "3   u economy grew 21 annual pace second quarter i...      3  \n",
       "39  titagarh rail system formerly titagarh wagon r...      3  "
      ]
     },
     "execution_count": 22,
     "metadata": {},
     "output_type": "execute_result"
    }
   ],
   "source": [
    "# Generate random numbers between 1 and 5\n",
    "random_numbers = np.random.randint(1, 6, size=len(train))\n",
    "train[\"stars\"] = random_numbers\n",
    "train.head()"
   ]
  },
  {
   "cell_type": "markdown",
   "id": "86622aef-37b6-449a-8ede-f4b8c48f5a72",
   "metadata": {},
   "source": [
    "## Baseline"
   ]
  },
  {
   "cell_type": "code",
   "execution_count": 25,
   "id": "679b6ebd-4cff-49e7-8029-b36a0d4612d4",
   "metadata": {},
   "outputs": [
    {
     "name": "stdout",
     "output_type": "stream",
     "text": [
      "Most Common Star: 2\n",
      "Baseline Accuracy: 0.33\n"
     ]
    }
   ],
   "source": [
    "df = train.copy()\n",
    "\n",
    "most_common_star = df[\"stars\"].value_counts().idxmax()\n",
    "most_common_freq = df[\"stars\"].value_counts().max()\n",
    "\n",
    "baseline_acc = most_common_freq / len(df)\n",
    "\n",
    "print(f\"Most Common Star: {most_common_star}\")\n",
    "print(f\"Baseline Accuracy: {baseline_acc:.2f}\")"
   ]
  },
  {
   "cell_type": "markdown",
   "id": "12d73594-e841-47ce-9f15-8b6cca56a878",
   "metadata": {},
   "source": [
    "**Significant Words**"
   ]
  },
  {
   "cell_type": "code",
   "execution_count": null,
   "id": "8b2c2e7c-98fb-4247-933f-e399f50c4157",
   "metadata": {},
   "outputs": [],
   "source": [
    "significant_words = ['learning', 'test', 'library', 'create', 'line']\n",
    "\n",
    "for word in significant_words:\n",
    "    df[word] = df[\"lemmatized\"].apply(lambda x: x.count(word))\n",
    "    \n",
    "for word in significant_words:\n",
    "    validate[word] = validate[\"lemmatized\"].apply(lambda x: x.count(word))\n",
    "    \n",
    "for word in significant_words:\n",
    "    test[word] = test[\"lemmatized\"].apply(lambda x: x.count(word))\n",
    "    \n",
    "X_train = df[significant_words]\n",
    "y_train = df[\"lemmatized\"]\n",
    "\n",
    "X_val = validate[significant_words]\n",
    "y_val = validate[\"lemmatized\"]\n",
    "\n",
    "X_test = test[significant_words]\n",
    "y_test = test[\"lemmatized\"]"
   ]
  },
  {
   "cell_type": "markdown",
   "id": "26706f3b-cd74-4fc5-a32f-27f7260c9f33",
   "metadata": {
    "tags": []
   },
   "source": [
    "## KNN"
   ]
  },
  {
   "cell_type": "code",
   "execution_count": null,
   "id": "e3526b31-f225-4cc1-b353-eb1b7d776a0d",
   "metadata": {},
   "outputs": [],
   "source": [
    "k = 3  \n",
    "knn = KNeighborsClassifier(n_neighbors=k)\n",
    "knn.fit(X_train, y_train)\n",
    "\n",
    "y_train_pred = knn.predict(X_train)\n",
    "y_val_pred = knn.predict(X_val)\n",
    "\n",
    "train_accuracy = accuracy_score(y_train, y_train_pred)\n",
    "val_accuracy = accuracy_score(y_val, y_val_pred)\n",
    "\n",
    "print(f\"Train Accuracy: {train_accuracy:.2f}\")\n",
    "print(f\"Validation Accuracy: {val_accuracy:.2f}\")"
   ]
  },
  {
   "cell_type": "markdown",
   "id": "75d7377c-3abb-45ad-a319-34b71df28ac1",
   "metadata": {},
   "source": [
    "## Decision Tree"
   ]
  },
  {
   "cell_type": "code",
   "execution_count": null,
   "id": "63e49462-2fd0-48d8-9c19-9ee30c0c21a1",
   "metadata": {},
   "outputs": [],
   "source": [
    "tree = DecisionTreeClassifier(random_state=95)\n",
    "tree.fit(X_train, y_train)\n",
    "\n",
    "y_train_pred = tree.predict(X_train)\n",
    "y_val_pred = tree.predict(X_val)\n",
    "\n",
    "train_accuracy = accuracy_score(y_train, y_train_pred)\n",
    "val_accuracy = accuracy_score(y_val, y_val_pred)\n",
    "\n",
    "print(f\"Train Accuracy: {train_accuracy:.2f}\")\n",
    "print(f\"Validation Accuracy: {val_accuracy:.2f}\")"
   ]
  },
  {
   "cell_type": "markdown",
   "id": "b5d74d54-0afa-4a2e-9097-9a036ce31acb",
   "metadata": {},
   "source": [
    "## Random Forest"
   ]
  },
  {
   "cell_type": "code",
   "execution_count": null,
   "id": "a3793226-a1f5-45f1-987e-313dbe1468c0",
   "metadata": {},
   "outputs": [],
   "source": [
    "forest = RandomForestClassifier(random_state=42)\n",
    "forest.fit(X_train, y_train)\n",
    "\n",
    "y_train_pred = forest.predict(X_train)\n",
    "y_val_pred = forest.predict(X_val)\n",
    "\n",
    "train_accuracy = accuracy_score(y_train, y_train_pred)\n",
    "val_accuracy = accuracy_score(y_val, y_val_pred)\n",
    "\n",
    "print(f\"Train Accuracy: {train_accuracy:.2f}\")\n",
    "print(f\"Validation Accuracy: {val_accuracy:.2f}\")\n"
   ]
  },
  {
   "cell_type": "markdown",
   "id": "e8c86da4-4ebe-47e2-be30-cbfdd684d189",
   "metadata": {},
   "source": [
    "## Logistic Regression"
   ]
  },
  {
   "cell_type": "code",
   "execution_count": null,
   "id": "dce726c7-d909-43df-9daf-43b688610e4d",
   "metadata": {},
   "outputs": [],
   "source": [
    "logReg = LogisticRegression(random_state=42)\n",
    "logReg.fit(X_train, y_train)\n",
    "\n",
    "y_train_pred = logReg.predict(X_train)\n",
    "y_val_pred = logReg.predict(X_val)\n",
    "\n",
    "train_accuracy = accuracy_score(y_train, y_train_pred)\n",
    "val_accuracy = accuracy_score(y_val, y_val_pred)\n",
    "\n",
    "print(f\"Train Accuracy: {train_accuracy:.2f}\")\n",
    "print(f\"Validation Accuracy: {val_accuracy:.2f}\")"
   ]
  },
  {
   "cell_type": "markdown",
   "id": "02a1d939-5f0e-482f-ba13-8af25bbdfca8",
   "metadata": {},
   "source": [
    "## Test"
   ]
  },
  {
   "cell_type": "code",
   "execution_count": null,
   "id": "f05fac1f-4d9f-43da-a077-bce6729a79cf",
   "metadata": {},
   "outputs": [],
   "source": []
  }
 ],
 "metadata": {
  "kernelspec": {
   "display_name": "Python 3 (ipykernel)",
   "language": "python",
   "name": "python3"
  },
  "language_info": {
   "codemirror_mode": {
    "name": "ipython",
    "version": 3
   },
   "file_extension": ".py",
   "mimetype": "text/x-python",
   "name": "python",
   "nbconvert_exporter": "python",
   "pygments_lexer": "ipython3",
   "version": "3.10.9"
  }
 },
 "nbformat": 4,
 "nbformat_minor": 5
}
