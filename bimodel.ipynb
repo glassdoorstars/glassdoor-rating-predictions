{
 "cells": [
  {
   "cell_type": "markdown",
   "id": "e3e96056-0a49-42b8-8f23-9c9cfa3e6714",
   "metadata": {},
   "source": [
    "# Count Vect Modeling for Pros and Cons UNIGRAMS"
   ]
  },
  {
   "cell_type": "code",
   "execution_count": 1,
   "id": "0e3b7f98-e625-4acd-9996-a7ca05c54381",
   "metadata": {},
   "outputs": [],
   "source": [
    "import wrangle \n",
    "import nltk\n",
    "from collections import Counter\n",
    "from sklearn.feature_extraction.text import CountVectorizer\n",
    "import pandas as pd\n",
    "from scipy.stats import ttest_ind\n",
    "import warnings\n",
    "warnings.filterwarnings('ignore')\n",
    "from sklearn.metrics import confusion_matrix\n",
    "from sklearn.linear_model import LogisticRegression\n",
    "from sklearn.ensemble import RandomForestClassifier\n",
    "from sklearn.tree import DecisionTreeClassifier, plot_tree\n",
    "from sklearn.neighbors import KNeighborsClassifier\n",
    "from sklearn.metrics import accuracy_score\n",
    "import pandas as pd\n",
    "from nltk.util import ngrams\n",
    "from nltk.tokenize import word_tokenize\n",
    "from nltk.stem import WordNetLemmatizer\n",
    "from nltk.util import ngrams\n",
    "from sklearn.feature_extraction.text import TfidfVectorizer\n",
    "from sklearn.model_selection import train_test_split\n",
    "from sklearn.linear_model import LogisticRegression  # You can choose a different model\n",
    "from sklearn.metrics import accuracy_score, classification_report\n",
    "from sklearn.model_selection import GridSearchCV\n",
    "from sklearn.naive_bayes import GaussianNB\n",
    "import xgboost as xgb\n",
    "import xgboost"
   ]
  },
  {
   "cell_type": "markdown",
   "id": "8f143da4-053d-4f36-9a9e-b0790d5eda99",
   "metadata": {},
   "source": [
    "# Baseline"
   ]
  },
  {
   "cell_type": "code",
   "execution_count": 2,
   "id": "c621e590-34db-496d-821f-196ab77272bf",
   "metadata": {
    "tags": []
   },
   "outputs": [],
   "source": [
    "original, uni_count_vect, bi_count_vect, tri_count_vect = wrangle.wrangle_glassdoor()"
   ]
  },
  {
   "cell_type": "code",
   "execution_count": 3,
   "id": "e0ee7f57-c5ac-4228-b812-a3e948f77262",
   "metadata": {
    "tags": []
   },
   "outputs": [],
   "source": [
    "train, val, test = bi_count_vect"
   ]
  },
  {
   "cell_type": "code",
   "execution_count": 4,
   "id": "ffc60fb1-4227-4c22-9fd6-21e3f5455fb7",
   "metadata": {
    "tags": []
   },
   "outputs": [
    {
     "name": "stdout",
     "output_type": "stream",
     "text": [
      "Most Common Class: 3\n",
      "Baseline Accuracy: 0.70\n"
     ]
    }
   ],
   "source": [
    "most_common = train[\"binned_rating_int\"].value_counts().idxmax()\n",
    "most_common_frequency = train[\"binned_rating_int\"].value_counts().max()\n",
    "\n",
    "baseline_accuracy = most_common_frequency / len(train)\n",
    "\n",
    "print(f\"Most Common Class: {most_common}\")\n",
    "print(f\"Baseline Accuracy: {baseline_accuracy:.2f}\")\n",
    "\n"
   ]
  },
  {
   "cell_type": "markdown",
   "id": "044450d4-a78b-469c-82f3-42a371993a34",
   "metadata": {},
   "source": [
    "## Decision Tree"
   ]
  },
  {
   "cell_type": "code",
   "execution_count": 5,
   "id": "3cfc5773-7010-4a8d-adec-a5a359b292be",
   "metadata": {
    "tags": []
   },
   "outputs": [],
   "source": [
    "X_train = train[['pros_work life', 'pros_life balance', 'pros_work environment', 'pros_good benefit', 'pros_worklife balance', 'cons_work life', 'cons_life balance', 'cons_work environment', 'cons_good benefit', 'cons_worklife balance']]\n",
    "y_train = train[\"binned_rating_int\"]\n",
    "\n",
    "X_val = val[['pros_work life', 'pros_life balance', 'pros_work environment', 'pros_good benefit', 'pros_worklife balance', 'cons_work life', 'cons_life balance', 'cons_work environment', 'cons_good benefit', 'cons_worklife balance']]\n",
    "y_val = val[\"binned_rating_int\"]\n",
    "\n",
    "X_test = test[['pros_work life', 'pros_life balance', 'pros_work environment', 'pros_good benefit', 'pros_worklife balance', 'cons_work life', 'cons_life balance', 'cons_work environment', 'cons_good benefit', 'cons_worklife balance']]\n",
    "y_test = test[\"binned_rating_int\"]\n"
   ]
  },
  {
   "cell_type": "code",
   "execution_count": 6,
   "id": "e7bcb67c-1130-4749-bcb6-a77efbb2b495",
   "metadata": {
    "tags": []
   },
   "outputs": [
    {
     "name": "stdout",
     "output_type": "stream",
     "text": [
      "Decision Tree:\n",
      "Best Hyperparameters: {'max_depth': 10, 'min_samples_split': 5}\n",
      "Validation Accuracy: 0.56\n",
      "Training Accuracy: 0.89\n"
     ]
    }
   ],
   "source": [
    "param_grid_tree = {\n",
    "    'max_depth': [None, 10, 20, 30],  # Maximum depth of the tree\n",
    "    'min_samples_split': [2, 5, 10],  # Minimum number of samples required to split a node\n",
    "}\n",
    "\n",
    "# Create the Decision Tree classifier\n",
    "tree = DecisionTreeClassifier(random_state=42)\n",
    "\n",
    "# Create GridSearchCV with the Decision Tree classifier and hyperparameter grid\n",
    "grid_search_tree = GridSearchCV(tree, param_grid_tree, cv=5, scoring='accuracy')\n",
    "\n",
    "# Fit the model with the training data\n",
    "grid_search_tree.fit(X_train, y_train)\n",
    "\n",
    "# Get the best hyperparameters from the search\n",
    "best_params_tree = grid_search_tree.best_params_\n",
    "\n",
    "# Get the best estimator (model) from the search\n",
    "best_tree = grid_search_tree.best_estimator_\n",
    "\n",
    "# Make predictions on the validation set using the best model\n",
    "y_val_pred_tree = best_tree.predict(X_val)\n",
    "\n",
    "# Calculate accuracy on the validation set\n",
    "val_accuracy_tree = accuracy_score(y_val, y_val_pred_tree)\n",
    "\n",
    "# Make predictions on the training set using the best Decision Tree model\n",
    "y_train_pred_tree = best_tree.predict(X_train)\n",
    "\n",
    "# Calculate accuracy on the training set\n",
    "train_accuracy_tree = accuracy_score(y_train, y_train_pred_tree)\n",
    "\n",
    "print(\"Decision Tree:\")\n",
    "print(f\"Best Hyperparameters: {best_params_tree}\")\n",
    "print(f\"Validation Accuracy: {val_accuracy_tree:.2f}\")\n",
    "print(f\"Training Accuracy: {train_accuracy_tree:.2f}\")\n"
   ]
  },
  {
   "cell_type": "code",
   "execution_count": 7,
   "id": "0673d861-c1a9-44de-ab2d-5a75f161e307",
   "metadata": {},
   "outputs": [
    {
     "name": "stdout",
     "output_type": "stream",
     "text": [
      "Feature: pros_work life, Importance: 0.1002\n",
      "Feature: pros_life balance, Importance: 0.0742\n",
      "Feature: pros_work environment, Importance: 0.1952\n",
      "Feature: pros_good benefit, Importance: 0.1711\n",
      "Feature: pros_worklife balance, Importance: 0.1870\n",
      "Feature: cons_work life, Importance: 0.0360\n",
      "Feature: cons_life balance, Importance: 0.0532\n",
      "Feature: cons_work environment, Importance: 0.0733\n",
      "Feature: cons_good benefit, Importance: 0.0379\n",
      "Feature: cons_worklife balance, Importance: 0.0717\n"
     ]
    }
   ],
   "source": [
    "feature_importance = best_tree.feature_importances_\n",
    "feature_importance\n",
    "\n",
    "feature_names = X_train.columns\n",
    "\n",
    "# Create a dictionary mapping feature names to their importance scores\n",
    "feature_importance_dict = dict(zip(feature_names, feature_importance))\n",
    "\n",
    "# Print feature importances\n",
    "for feature, importance in feature_importance_dict.items():\n",
    "    print(f\"Feature: {feature}, Importance: {importance:.4f}\")"
   ]
  },
  {
   "cell_type": "markdown",
   "id": "1f8849b4-4c1f-427b-833f-024807f17d84",
   "metadata": {},
   "source": [
    "# RandomForrest"
   ]
  },
  {
   "cell_type": "code",
   "execution_count": 8,
   "id": "440784d9-e092-4749-9619-92f03861fce5",
   "metadata": {
    "tags": []
   },
   "outputs": [
    {
     "name": "stdout",
     "output_type": "stream",
     "text": [
      "Random Forest:\n",
      "Best Hyperparameters: {'max_depth': 10, 'n_estimators': 200}\n",
      "Validation Accuracy: 0.64\n",
      "Training Accuracy: 0.93\n"
     ]
    }
   ],
   "source": [
    "# Define hyperparameter grid to search for Random Forest\n",
    "param_grid_rf = {\n",
    "    'n_estimators': [50, 100, 200],  # Number of trees\n",
    "    'max_depth': [None, 10, 20, 30],  # Maximum depth of trees\n",
    "}\n",
    "\n",
    "# Create the Random Forest classifier\n",
    "rf = RandomForestClassifier(random_state=42)\n",
    "\n",
    "# Create GridSearchCV with the Random Forest classifier and hyperparameter grid\n",
    "grid_search_rf = GridSearchCV(rf, param_grid_rf, cv=5, scoring='accuracy')\n",
    "\n",
    "# Fit the model with the training data\n",
    "grid_search_rf.fit(X_train, y_train)\n",
    "\n",
    "# Get the best hyperparameters from the search\n",
    "best_params_rf = grid_search_rf.best_params_\n",
    "\n",
    "# Get the best estimator (model) from the search\n",
    "best_rf = grid_search_rf.best_estimator_\n",
    "\n",
    "# Make predictions on the validation set using the best model\n",
    "y_val_pred_rf = best_rf.predict(X_val)\n",
    "\n",
    "# Calculate accuracy on the validation set\n",
    "val_accuracy_rf = accuracy_score(y_val, y_val_pred_rf)\n",
    "\n",
    "# Make predictions on the training set using the best Random Forest model\n",
    "y_train_pred_rf = best_rf.predict(X_train)\n",
    "\n",
    "# Calculate accuracy on the training set\n",
    "train_accuracy_rf = accuracy_score(y_train, y_train_pred_rf)\n",
    "\n",
    "print(\"Random Forest:\")\n",
    "print(f\"Best Hyperparameters: {best_params_rf}\")\n",
    "print(f\"Validation Accuracy: {val_accuracy_rf:.2f}\")\n",
    "print(f\"Training Accuracy: {train_accuracy_rf:.2f}\")\n",
    "\n"
   ]
  },
  {
   "cell_type": "code",
   "execution_count": 9,
   "id": "05932adf-e28a-4f4d-9e3d-28cf372ffbde",
   "metadata": {},
   "outputs": [
    {
     "name": "stdout",
     "output_type": "stream",
     "text": [
      "Feature: pros_work life, Importance: 0.1375\n",
      "Feature: pros_life balance, Importance: 0.1302\n",
      "Feature: pros_work environment, Importance: 0.1260\n",
      "Feature: pros_good benefit, Importance: 0.1166\n",
      "Feature: pros_worklife balance, Importance: 0.1652\n",
      "Feature: cons_work life, Importance: 0.0690\n",
      "Feature: cons_life balance, Importance: 0.0674\n",
      "Feature: cons_work environment, Importance: 0.0845\n",
      "Feature: cons_good benefit, Importance: 0.0224\n",
      "Feature: cons_worklife balance, Importance: 0.0812\n"
     ]
    }
   ],
   "source": [
    "feature_importance = best_rf.feature_importances_\n",
    "feature_importance\n",
    "\n",
    "feature_names = X_train.columns\n",
    "\n",
    "# Create a dictionary mapping feature names to their importance scores\n",
    "feature_importance_dict = dict(zip(feature_names, feature_importance))\n",
    "\n",
    "# Print feature importances\n",
    "for feature, importance in feature_importance_dict.items():\n",
    "    print(f\"Feature: {feature}, Importance: {importance:.4f}\")"
   ]
  },
  {
   "cell_type": "markdown",
   "id": "dd86d58a-2a92-45b2-a393-cd2bfd0996b5",
   "metadata": {},
   "source": [
    "# KNN"
   ]
  },
  {
   "cell_type": "code",
   "execution_count": 10,
   "id": "e0851406-b892-4830-a8a3-5c799088371a",
   "metadata": {
    "tags": []
   },
   "outputs": [
    {
     "name": "stdout",
     "output_type": "stream",
     "text": [
      "K-Nearest Neighbors:\n",
      "Best Hyperparameters: {'n_neighbors': 7, 'weights': 'distance'}\n",
      "Validation Accuracy: 0.66\n",
      "Training Accuracy: 1.00\n"
     ]
    }
   ],
   "source": [
    "# Define hyperparameter grid to search for KNN\n",
    "param_grid_knn = {\n",
    "    'n_neighbors': [3, 5, 7, 9],  # Number of neighbors\n",
    "    'weights': ['uniform', 'distance'],  # Weighting scheme\n",
    "}\n",
    "\n",
    "# Create the KNN classifier\n",
    "knn = KNeighborsClassifier()\n",
    "\n",
    "# Create GridSearchCV with the KNN classifier and hyperparameter grid\n",
    "grid_search_knn = GridSearchCV(knn, param_grid_knn, cv=5, scoring='accuracy')\n",
    "\n",
    "# Fit the model with the training data\n",
    "grid_search_knn.fit(X_train, y_train)\n",
    "\n",
    "# Get the best hyperparameters from the search\n",
    "best_params_knn = grid_search_knn.best_params_\n",
    "\n",
    "# Get the best estimator (model) from the search\n",
    "best_knn = grid_search_knn.best_estimator_\n",
    "\n",
    "# Make predictions on the validation set using the best model\n",
    "y_val_pred_knn = best_knn.predict(X_val)\n",
    "\n",
    "# Calculate accuracy on the validation set\n",
    "val_accuracy_knn = accuracy_score(y_val, y_val_pred_knn)\n",
    "\n",
    "# Make predictions on the training set using the best KNN model\n",
    "y_train_pred_knn = best_knn.predict(X_train)\n",
    "\n",
    "# Calculate accuracy on the training set\n",
    "train_accuracy_knn = accuracy_score(y_train, y_train_pred_knn)\n",
    "\n",
    "print(\"K-Nearest Neighbors:\")\n",
    "print(f\"Best Hyperparameters: {best_params_knn}\")\n",
    "print(f\"Validation Accuracy: {val_accuracy_knn:.2f}\")\n",
    "print(f\"Training Accuracy: {train_accuracy_knn:.2f}\")\n"
   ]
  },
  {
   "cell_type": "markdown",
   "id": "f1f54d04-77ce-4d6c-93dd-e45ebac8dc85",
   "metadata": {},
   "source": [
    "# LogiReg"
   ]
  },
  {
   "cell_type": "code",
   "execution_count": 11,
   "id": "a3ea6ece-1721-4cdd-a86d-8acf1ab0d42f",
   "metadata": {
    "tags": []
   },
   "outputs": [
    {
     "name": "stdout",
     "output_type": "stream",
     "text": [
      "Logistic Regression:\n",
      "Best Hyperparameters: {'C': 0.01, 'solver': 'saga'}\n",
      "Validation Accuracy: 0.69\n",
      "Training Accuracy: 0.73\n"
     ]
    }
   ],
   "source": [
    "# Define hyperparameter grid to search for Logistic Regression\n",
    "param_grid_logreg = {\n",
    "    'C': [0.001, 0.01, 0.1, 1, 10, 100],  # Regularization parameter\n",
    "    'solver': ['newton-cg', 'lbfgs', 'liblinear', 'sag', 'saga']  # Solver options\n",
    "}\n",
    "\n",
    "# Create the Logistic Regression classifier\n",
    "logreg = LogisticRegression(random_state=42)\n",
    "\n",
    "# Create GridSearchCV with the Logistic Regression classifier and hyperparameter grid\n",
    "grid_search_logreg = GridSearchCV(logreg, param_grid_logreg, cv=5, scoring='accuracy')\n",
    "\n",
    "# Fit the model with the training data\n",
    "grid_search_logreg.fit(X_train, y_train)\n",
    "\n",
    "# Get the best hyperparameters from the search\n",
    "best_params_logreg = grid_search_logreg.best_params_\n",
    "\n",
    "# Get the best estimator (model) from the search\n",
    "best_logreg = grid_search_logreg.best_estimator_\n",
    "\n",
    "# Make predictions on the validation set using the best model\n",
    "y_val_pred_logreg = best_logreg.predict(X_val)\n",
    "\n",
    "# Calculate accuracy on the validation set\n",
    "val_accuracy_logreg = accuracy_score(y_val, y_val_pred_logreg)\n",
    "\n",
    "# Make predictions on the training set using the best Logistic Regression model\n",
    "y_train_pred_logreg = best_logreg.predict(X_train)\n",
    "\n",
    "# Calculate accuracy on the training set\n",
    "train_accuracy_logreg = accuracy_score(y_train, y_train_pred_logreg)\n",
    "\n",
    "print(\"Logistic Regression:\")\n",
    "print(f\"Best Hyperparameters: {best_params_logreg}\")\n",
    "print(f\"Validation Accuracy: {val_accuracy_logreg:.2f}\")\n",
    "print(f\"Training Accuracy: {train_accuracy_logreg:.2f}\")\n"
   ]
  },
  {
   "cell_type": "markdown",
   "id": "b3099483-4220-47a4-895a-7f052ca4cc6a",
   "metadata": {},
   "source": [
    "# Naive Bayes"
   ]
  },
  {
   "cell_type": "code",
   "execution_count": 12,
   "id": "3839adac-4af6-4b2a-97e4-ba27ef2b4574",
   "metadata": {
    "tags": []
   },
   "outputs": [
    {
     "name": "stdout",
     "output_type": "stream",
     "text": [
      "Naive Bayes (Gaussian):\n",
      "Validation Accuracy: 0.68\n",
      "Training Accuracy: 0.73\n"
     ]
    }
   ],
   "source": [
    "# Create the Gaussian Naive Bayes classifier\n",
    "gnb = GaussianNB()\n",
    "\n",
    "# Fit the model with the training data\n",
    "gnb.fit(X_train, y_train)\n",
    "\n",
    "# Make predictions on the validation set\n",
    "y_val_pred_gnb = gnb.predict(X_val)\n",
    "\n",
    "# Calculate accuracy on the validation set\n",
    "val_accuracy_gnb = accuracy_score(y_val, y_val_pred_gnb)\n",
    "\n",
    "# Make predictions on the training set\n",
    "y_train_pred_gnb = gnb.predict(X_train)\n",
    "\n",
    "# Calculate accuracy on the training set\n",
    "train_accuracy_gnb = accuracy_score(y_train, y_train_pred_gnb)\n",
    "\n",
    "print(\"Naive Bayes (Gaussian):\")\n",
    "print(f\"Validation Accuracy: {val_accuracy_gnb:.2f}\")\n",
    "print(f\"Training Accuracy: {train_accuracy_gnb:.2f}\")\n"
   ]
  },
  {
   "cell_type": "markdown",
   "id": "f502e4eb-153a-4b42-bc25-69507975dc84",
   "metadata": {},
   "source": [
    "# XG BOOST"
   ]
  },
  {
   "cell_type": "code",
   "execution_count": 13,
   "id": "f156f373-5798-43e8-891f-a84a4295db17",
   "metadata": {
    "tags": []
   },
   "outputs": [
    {
     "name": "stdout",
     "output_type": "stream",
     "text": [
      "XGBoost:\n",
      "Best Hyperparameters: {'learning_rate': 0.01, 'max_depth': 3, 'n_estimators': 200}\n",
      "Validation Accuracy: 0.68\n",
      "Training Accuracy: 0.76\n"
     ]
    }
   ],
   "source": [
    "# Map class labels to 0 and 1\n",
    "y_train = y_train.map({3: 0, 4: 1})\n",
    "y_val = y_val.map({3: 0, 4: 1})\n",
    "\n",
    "# Define hyperparameter grid to search for XGBoost\n",
    "param_grid_xgb = {\n",
    "    'learning_rate': [0.01, 0.1, 0.2],\n",
    "    'max_depth': [3, 4, 5, 6],\n",
    "    'n_estimators': [100, 200, 300]\n",
    "}\n",
    "\n",
    "# Create the XGBoost classifier\n",
    "xgb_classifier = xgb.XGBClassifier(random_state=42)\n",
    "\n",
    "# Create GridSearchCV with the XGBoost classifier and hyperparameter grid\n",
    "grid_search_xgb = GridSearchCV(xgb_classifier, param_grid_xgb, cv=5, scoring='accuracy')\n",
    "\n",
    "# Fit the model with the training data\n",
    "grid_search_xgb.fit(X_train, y_train)\n",
    "\n",
    "# Get the best hyperparameters from the search\n",
    "best_params_xgb = grid_search_xgb.best_params_\n",
    "\n",
    "# Get the best estimator (model) from the search\n",
    "best_xgb = grid_search_xgb.best_estimator_\n",
    "\n",
    "# Make predictions on the validation set using the best model\n",
    "y_val_pred_xgb = best_xgb.predict(X_val)\n",
    "\n",
    "# Calculate accuracy on the validation set\n",
    "val_accuracy_xgb = accuracy_score(y_val, y_val_pred_xgb)\n",
    "\n",
    "# Make predictions on the training set using the best XGBoost model\n",
    "y_train_pred_xgb = best_xgb.predict(X_train)\n",
    "\n",
    "# Calculate accuracy on the training set\n",
    "train_accuracy_xgb = accuracy_score(y_train, y_train_pred_xgb)\n",
    "\n",
    "print(\"XGBoost:\")\n",
    "print(f\"Best Hyperparameters: {best_params_xgb}\")\n",
    "print(f\"Validation Accuracy: {val_accuracy_xgb:.2f}\")\n",
    "print(f\"Training Accuracy: {train_accuracy_xgb:.2f}\")\n"
   ]
  },
  {
   "cell_type": "code",
   "execution_count": 14,
   "id": "d3fc441a-978e-4f39-baf3-f6a139db7dc1",
   "metadata": {
    "tags": []
   },
   "outputs": [
    {
     "name": "stdout",
     "output_type": "stream",
     "text": [
      "Feature: pros_work life, Importance: 0.1459\n",
      "Feature: pros_life balance, Importance: 0.0767\n",
      "Feature: pros_work environment, Importance: 0.0670\n",
      "Feature: pros_good benefit, Importance: 0.0531\n",
      "Feature: pros_worklife balance, Importance: 0.2152\n",
      "Feature: cons_work life, Importance: 0.1245\n",
      "Feature: cons_life balance, Importance: 0.0970\n",
      "Feature: cons_work environment, Importance: 0.0829\n",
      "Feature: cons_good benefit, Importance: 0.0776\n",
      "Feature: cons_worklife balance, Importance: 0.0600\n"
     ]
    }
   ],
   "source": [
    "feature_importance = best_xgb.feature_importances_\n",
    "feature_importance\n",
    "\n",
    "feature_names = X_train.columns\n",
    "\n",
    "# Create a dictionary mapping feature names to their importance scores\n",
    "feature_importance_dict = dict(zip(feature_names, feature_importance))\n",
    "\n",
    "# Print feature importances\n",
    "for feature, importance in feature_importance_dict.items():\n",
    "    print(f\"Feature: {feature}, Importance: {importance:.4f}\")"
   ]
  },
  {
   "cell_type": "markdown",
   "id": "90d41e41-e3a5-4f7a-9429-2d9b52653b81",
   "metadata": {},
   "source": [
    "## Test"
   ]
  },
  {
   "cell_type": "code",
   "execution_count": 15,
   "id": "a21efcc9-f47e-4f61-aa25-6a3f1b8f1355",
   "metadata": {
    "tags": []
   },
   "outputs": [
    {
     "name": "stdout",
     "output_type": "stream",
     "text": [
      "Logistic Regression:\n",
      "Testing Accuracy: 0.70\n"
     ]
    }
   ],
   "source": [
    "X_train = train[['pros_work life', 'pros_life balance', 'pros_work environment', 'pros_good benefit', 'pros_worklife balance', 'cons_work life', 'cons_life balance', 'cons_work environment', 'cons_good benefit', 'cons_worklife balance']]\n",
    "y_train = train[\"binned_rating_int\"]\n",
    "\n",
    "X_val = val[['pros_work life', 'pros_life balance', 'pros_work environment', 'pros_good benefit', 'pros_worklife balance', 'cons_work life', 'cons_life balance', 'cons_work environment', 'cons_good benefit', 'cons_worklife balance']]\n",
    "y_val = val[\"binned_rating_int\"]\n",
    "\n",
    "X_test = test[['pros_work life', 'pros_life balance', 'pros_work environment', 'pros_good benefit', 'pros_worklife balance', 'cons_work life', 'cons_life balance', 'cons_work environment', 'cons_good benefit', 'cons_worklife balance']]\n",
    "y_test = test[\"binned_rating_int\"]\n",
    "\n",
    "\n",
    "logreg = LogisticRegression(C=0.01,solver=\"saga\",random_state=42)\n",
    "\n",
    "y_test_pred_logreg = best_logreg.predict(X_test)\n",
    "test_accuracy_logreg = accuracy_score(y_test, y_test_pred_logreg)\n",
    "\n",
    "print(\"Logistic Regression:\")\n",
    "print(f\"Testing Accuracy: {test_accuracy_logreg:.2f}\")"
   ]
  }
 ],
 "metadata": {
  "kernelspec": {
   "display_name": "Python 3 (ipykernel)",
   "language": "python",
   "name": "python3"
  },
  "language_info": {
   "codemirror_mode": {
    "name": "ipython",
    "version": 3
   },
   "file_extension": ".py",
   "mimetype": "text/x-python",
   "name": "python",
   "nbconvert_exporter": "python",
   "pygments_lexer": "ipython3",
   "version": "3.11.4"
  }
 },
 "nbformat": 4,
 "nbformat_minor": 5
}
